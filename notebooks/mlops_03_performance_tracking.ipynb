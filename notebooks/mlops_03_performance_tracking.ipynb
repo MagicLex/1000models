{
 "cells": [
  {
   "cell_type": "markdown",
   "metadata": {},
   "source": [
    "# 06. MLOps: Performance Monitoring\n",
    "\n",
    "This notebook calculates model performance metrics from logged predictions."
   ]
  },
  {
   "cell_type": "markdown",
   "metadata": {},
   "source": [
    "## Setup"
   ]
  },
  {
   "cell_type": "code",
   "execution_count": null,
   "metadata": {},
   "outputs": [],
   "source": [
    "import hopsworks\n",
    "import pandas as pd\n",
    "import numpy as np\n",
    "from sklearn.metrics import mean_squared_error, mean_absolute_error\n",
    "\n",
    "# Connect to Hopsworks\n",
    "project = hopsworks.login()\n",
    "fs = project.get_feature_store()"
   ]
  },
  {
   "cell_type": "markdown",
   "metadata": {},
   "source": [
    "## Configuration"
   ]
  },
  {
   "cell_type": "code",
   "execution_count": null,
   "metadata": {},
   "outputs": [],
   "source": [
    "# Configuration\n",
    "feature_view_name = 'demand_features_view'\n",
    "version = 1"
   ]
  },
  {
   "cell_type": "markdown",
   "metadata": {},
   "source": [
    "## Read Prediction Logs"
   ]
  },
  {
   "cell_type": "code",
   "execution_count": null,
   "metadata": {},
   "outputs": [],
   "source": [
    "# Get feature view\n",
    "demand_fv = fs.get_feature_view(name=feature_view_name, version=version)\n",
    "\n",
    "# Read prediction logs\n",
    "prediction_logs = demand_fv.read_log()\n",
    "print(f\"Found {len(prediction_logs)} logged predictions\")\n",
    "prediction_logs.head()"
   ]
  },
  {
   "cell_type": "markdown",
   "metadata": {},
   "source": [
    "## Calculate Performance Metrics"
   ]
  },
  {
   "cell_type": "code",
   "execution_count": null,
   "metadata": {},
   "outputs": [],
   "source": [
    "# In production, you would join with actual values\n",
    "# For demo, simulate actuals as predictions with some noise\n",
    "prediction_logs['actual_demand'] = prediction_logs['prediction'] * np.random.normal(1.0, 0.1, len(prediction_logs))\n",
    "\n",
    "# Calculate RMSE and MAE\n",
    "rmse = np.sqrt(mean_squared_error(prediction_logs['actual_demand'], prediction_logs['prediction']))\n",
    "mae = mean_absolute_error(prediction_logs['actual_demand'], prediction_logs['prediction'])\n",
    "\n",
    "print(f\"Overall Performance:\")\n",
    "print(f\"  RMSE: {rmse:.2f}\")\n",
    "print(f\"  MAE:  {mae:.2f}\")"
   ]
  },
  {
   "cell_type": "markdown",
   "metadata": {},
   "source": [
    "## Store Performance Metrics"
   ]
  },
  {
   "cell_type": "code",
   "execution_count": null,
   "metadata": {},
   "outputs": [],
   "source": [
    "# Create a simple performance metrics dataframe\n",
    "import datetime\n",
    "\n",
    "performance_metrics = pd.DataFrame([{\n",
    "    'timestamp': datetime.datetime.now(),\n",
    "    'rmse': rmse,\n",
    "    'mae': mae,\n",
    "    'n_predictions': len(prediction_logs)\n",
    "}])\n",
    "\n",
    "# Create/get performance metrics feature group\n",
    "performance_fg = fs.get_or_create_feature_group(\n",
    "    name=\"model_performance_metrics\",\n",
    "    version=1,\n",
    "    description=\"Model performance metrics over time\",\n",
    "    primary_key=['timestamp']\n",
    ")\n",
    "\n",
    "# Insert metrics\n",
    "performance_fg.insert(performance_metrics)\n",
    "print(\"✓ Stored performance metrics\")"
   ]
  },
  {
   "cell_type": "markdown",
   "metadata": {},
   "source": [
    "## Summary\n",
    "\n",
    "✅ Calculated and stored model performance metrics\n",
    "\n",
    "What we did:\n",
    "- Read logged predictions from feature view\n",
    "- Calculated RMSE and MAE (with simulated actuals)\n",
    "- Stored metrics in a feature group for tracking\n",
    "\n",
    "In production:\n",
    "- Join predictions with actual values when available\n",
    "- Run this as a scheduled job\n",
    "- Monitor performance trends over time"
   ]
  }
 ],
 "metadata": {
  "kernelspec": {
   "display_name": "Python 3",
   "language": "python",
   "name": "python3"
  },
  "language_info": {
   "codemirror_mode": {
    "name": "ipython",
    "version": 3
   },
   "file_extension": ".py",
   "mimetype": "text/x-python",
   "name": "python",
   "nbconvert_exporter": "python",
   "pygments_lexer": "ipython3",
   "version": "3.8.0"
  }
 },
 "nbformat": 4,
 "nbformat_minor": 4
}