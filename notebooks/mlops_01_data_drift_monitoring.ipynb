{
 "cells": [
  {
   "cell_type": "markdown",
   "metadata": {},
   "source": [
    "# 04. MLOps: Data Drift Monitoring\n",
    "\n",
    "This notebook sets up simple data drift monitoring for our demand forecasting features."
   ]
  },
  {
   "cell_type": "markdown",
   "metadata": {},
   "source": [
    "## Setup"
   ]
  },
  {
   "cell_type": "code",
   "execution_count": null,
   "metadata": {},
   "outputs": [],
   "source": [
    "import hopsworks\n",
    "import pandas as pd\n",
    "import datetime\n",
    "\n",
    "# Connect to Hopsworks\n",
    "project = hopsworks.login()\n",
    "fs = project.get_feature_store()"
   ]
  },
  {
   "cell_type": "markdown",
   "metadata": {},
   "source": [
    "## Configuration"
   ]
  },
  {
   "cell_type": "code",
   "execution_count": null,
   "metadata": {},
   "outputs": [],
   "source": [
    "# Configuration\n",
    "feature_group_name = 'demand_features'\n",
    "version = 1"
   ]
  },
  {
   "cell_type": "markdown",
   "metadata": {},
   "source": [
    "## Get Feature Group"
   ]
  },
  {
   "cell_type": "code",
   "execution_count": null,
   "metadata": {},
   "outputs": [],
   "source": [
    "# Get feature group\n",
    "demand_fg = fs.get_feature_group(name=feature_group_name, version=version)\n",
    "print(f\"✓ Retrieved feature group: {feature_group_name}\")"
   ]
  },
  {
   "cell_type": "markdown",
   "metadata": {},
   "source": [
    "## Set Up Data Drift Monitoring"
   ]
  },
  {
   "cell_type": "code",
   "execution_count": null,
   "metadata": {},
   "outputs": [],
   "source": [
    "# Monitor demand quantity for drift\n",
    "demand_monitoring = demand_fg.create_feature_monitoring(\n",
    "    name=\"demand_drift_monitoring\",\n",
    "    feature_name=\"repetitive_demand_quantity\",\n",
    "    description=\"Monitor demand quantity for drift\",\n",
    "    cron_expression=\"0 0 12 ? * * *\"  # Daily at noon\n",
    ").with_detection_window(\n",
    "    time_offset=\"1d\"  # Look at yesterday's data\n",
    ").with_reference_window(\n",
    "    time_offset=\"1w1d\",  # Compare to same day last week\n",
    "    window_length=\"1d\"\n",
    ").compare_on(\n",
    "    metric=\"mean\",\n",
    "    threshold=0.2  # Alert if mean changes by >20%\n",
    ").save()\n",
    "\n",
    "print(\"✓ Created demand drift monitoring\")"
   ]
  },
  {
   "cell_type": "markdown",
   "metadata": {},
   "source": [
    "## Check Monitoring Results"
   ]
  },
  {
   "cell_type": "code",
   "execution_count": null,
   "metadata": {},
   "outputs": [],
   "source": [
    "# Get recent monitoring results (after jobs have run)\n",
    "try:\n",
    "    results = demand_monitoring.get_history(\n",
    "        start_time=datetime.datetime.now() - datetime.timedelta(days=7),\n",
    "        end_time=datetime.datetime.now()\n",
    "    )\n",
    "    \n",
    "    if results:\n",
    "        print(f\"Found {len(results)} monitoring results\")\n",
    "        for r in results:\n",
    "            print(f\"  - {r.execution_time}: mean={r.detection_statistics.mean:.2f}\")\n",
    "    else:\n",
    "        print(\"No results yet - monitoring jobs will run on schedule\")\n",
    "except:\n",
    "    print(\"No results yet - monitoring jobs will run on schedule\")"
   ]
  },
  {
   "cell_type": "markdown",
   "metadata": {},
   "source": [
    "## Summary\n",
    "\n",
    "✅ Set up daily monitoring for demand quantity\n",
    "\n",
    "The monitoring job will:\n",
    "- Run daily at noon\n",
    "- Compare yesterday's demand to same day last week\n",
    "- Alert if mean demand changes by more than 20%\n",
    "\n",
    "View results in Hopsworks UI under Feature Monitoring."
   ]
  }
 ],
 "metadata": {
  "kernelspec": {
   "display_name": "Python 3",
   "language": "python",
   "name": "python3"
  },
  "language_info": {
   "codemirror_mode": {
    "name": "ipython",
    "version": 3
   },
   "file_extension": ".py",
   "mimetype": "text/x-python",
   "name": "python",
   "nbconvert_exporter": "python",
   "pygments_lexer": "ipython3",
   "version": "3.8.0"
  }
 },
 "nbformat": 4,
 "nbformat_minor": 4
}