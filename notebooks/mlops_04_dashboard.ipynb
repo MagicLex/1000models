{
 "cells": [
  {
   "cell_type": "markdown",
   "metadata": {},
   "source": [
    "# 07. MLOps: Monitoring Dashboard\n",
    "\n",
    "This notebook creates a simple dashboard to visualize monitoring results."
   ]
  },
  {
   "cell_type": "markdown",
   "metadata": {},
   "source": [
    "## Setup"
   ]
  },
  {
   "cell_type": "code",
   "execution_count": null,
   "metadata": {},
   "outputs": [],
   "source": [
    "import hopsworks\n",
    "import pandas as pd\n",
    "import matplotlib.pyplot as plt\n",
    "import seaborn as sns\n",
    "\n",
    "# Set visualization style\n",
    "plt.style.use('seaborn-v0_8-darkgrid')\n",
    "\n",
    "# Connect to Hopsworks\n",
    "project = hopsworks.login()\n",
    "fs = project.get_feature_store()"
   ]
  },
  {
   "cell_type": "markdown",
   "metadata": {},
   "source": [
    "## Read Performance Metrics"
   ]
  },
  {
   "cell_type": "code",
   "execution_count": null,
   "metadata": {},
   "outputs": [],
   "source": [
    "# Get performance metrics feature group\n",
    "performance_fg = fs.get_feature_group(name=\"model_performance_metrics\", version=1)\n",
    "\n",
    "# Read metrics\n",
    "metrics = performance_fg.read()\n",
    "print(f\"Found {len(metrics)} performance records\")\n",
    "metrics.head()"
   ]
  },
  {
   "cell_type": "markdown",
   "metadata": {},
   "source": [
    "## Create Simple Dashboard"
   ]
  },
  {
   "cell_type": "code",
   "execution_count": null,
   "metadata": {},
   "outputs": [],
   "source": [
    "# Create dashboard with 2 panels\n",
    "fig, (ax1, ax2) = plt.subplots(1, 2, figsize=(12, 4))\n",
    "\n",
    "# Panel 1: RMSE over time\n",
    "if len(metrics) > 1:\n",
    "    ax1.plot(metrics['timestamp'], metrics['rmse'], marker='o')\n",
    "    ax1.set_title('RMSE Over Time')\n",
    "    ax1.set_xlabel('Date')\n",
    "    ax1.set_ylabel('RMSE')\n",
    "    ax1.tick_params(axis='x', rotation=45)\n",
    "else:\n",
    "    # Show single point if only one record\n",
    "    ax1.bar(['Latest'], [metrics['rmse'].iloc[0]])\n",
    "    ax1.set_title('Latest RMSE')\n",
    "    ax1.set_ylabel('RMSE')\n",
    "\n",
    "# Panel 2: Prediction volume\n",
    "ax2.bar(['Predictions'], [metrics['n_predictions'].sum()])\n",
    "ax2.set_title('Total Predictions Logged')\n",
    "ax2.set_ylabel('Count')\n",
    "\n",
    "plt.tight_layout()\n",
    "plt.show()\n",
    "\n",
    "# Summary statistics\n",
    "print(\"\\nSummary:\")\n",
    "print(f\"Average RMSE: {metrics['rmse'].mean():.2f}\")\n",
    "print(f\"Total predictions monitored: {metrics['n_predictions'].sum()}\")"
   ]
  },
  {
   "cell_type": "markdown",
   "metadata": {},
   "source": [
    "## Check for Alerts"
   ]
  },
  {
   "cell_type": "code",
   "execution_count": null,
   "metadata": {},
   "outputs": [],
   "source": [
    "# Simple alert logic\n",
    "RMSE_THRESHOLD = 150  # Example threshold\n",
    "\n",
    "latest_rmse = metrics['rmse'].iloc[-1]\n",
    "\n",
    "print(\"Alert Status:\")\n",
    "if latest_rmse > RMSE_THRESHOLD:\n",
    "    print(f\"⚠️  ALERT: RMSE ({latest_rmse:.2f}) exceeds threshold ({RMSE_THRESHOLD})\")\n",
    "    print(\"   Consider retraining models\")\n",
    "else:\n",
    "    print(f\"✅ Performance OK: RMSE ({latest_rmse:.2f}) within threshold\")"
   ]
  },
  {
   "cell_type": "markdown",
   "metadata": {},
   "source": [
    "## Summary\n",
    "\n",
    "✅ Created simple monitoring dashboard\n",
    "\n",
    "What we showed:\n",
    "- Performance trends over time\n",
    "- Total prediction volume\n",
    "- Simple alert logic\n",
    "\n",
    "Next steps:\n",
    "- Add more metrics (MAE, MAPE)\n",
    "- Break down by item-location\n",
    "- Connect to alerting system\n",
    "- Schedule regular dashboard updates"
   ]
  }
 ],
 "metadata": {
  "kernelspec": {
   "display_name": "Python 3",
   "language": "python",
   "name": "python3"
  },
  "language_info": {
   "codemirror_mode": {
    "name": "ipython",
    "version": 3
   },
   "file_extension": ".py",
   "mimetype": "text/x-python",
   "name": "python",
   "nbconvert_exporter": "python",
   "pygments_lexer": "ipython3",
   "version": "3.8.0"
  }
 },
 "nbformat": 4,
 "nbformat_minor": 4
}