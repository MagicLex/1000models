{
 "cells": [
  {
   "cell_type": "markdown",
   "metadata": {},
   "source": [
    "# Demand Forecasting Model Training Pipeline\n",
    "\n",
    "This notebook trains demand forecasting models for each item-location combination using the feature store data."
   ]
  },
  {
   "cell_type": "code",
   "execution_count": 9,
   "metadata": {},
   "outputs": [],
   "source": [
    "# Import necessary libraries\n",
    "import hopsworks\n",
    "import joblib\n",
    "import pandas as pd\n",
    "import numpy as np\n",
    "import os\n",
    "import json\n",
    "import matplotlib.pyplot as plt\n",
    "from datetime import datetime\n",
    "from sklearn.ensemble import RandomForestRegressor\n",
    "from xgboost import XGBRegressor\n",
    "from sklearn.metrics import mean_absolute_error, mean_squared_error, r2_score\n",
    "from dotenv import load_dotenv\n",
    "\n",
    "# Ignore warnings\n",
    "import warnings\n",
    "warnings.filterwarnings('ignore')"
   ]
  },
  {
   "cell_type": "markdown",
   "metadata": {},
   "source": [
    "## Configuration Parameters\n",
    "\n",
    "Set the parameters for the training pipeline."
   ]
  },
  {
   "cell_type": "code",
   "execution_count": 10,
   "metadata": {},
   "outputs": [],
   "source": [
    "# Load environment variables\n",
    "load_dotenv()\n",
    "\n",
    "# Configure training parameters\n",
    "project_name = 'demo_live'\n",
    "feature_group_name = 'demand_features'\n",
    "version = 1  # Version can be incremented automatically \n",
    "model_name = 'demand_forecaster'\n",
    "# model_version = 1  # Let Hopsworks handle versioning automatically\n",
    "test_size = 0.2\n",
    "location_id = None  # Set to specific location ID to filter for a single location"
   ]
  },
  {
   "cell_type": "markdown",
   "metadata": {},
   "source": [
    "## Connect to Hopsworks\n",
    "\n",
    "Establish connection to the Hopsworks Feature Store."
   ]
  },
  {
   "cell_type": "code",
   "execution_count": 11,
   "metadata": {},
   "outputs": [
    {
     "name": "stdout",
     "output_type": "stream",
     "text": [
      "Connecting to Hopsworks\n",
      "2025-05-09 12:18:23,084 INFO: Closing external client and cleaning up certificates.\n",
      "Connection closed.\n",
      "2025-05-09 12:18:23,094 INFO: Initializing external client\n",
      "2025-05-09 12:18:23,095 INFO: Base URL: https://demo.hops.works:443\n"
     ]
    },
    {
     "name": "stderr",
     "output_type": "stream",
     "text": [
      "\n",
      "\n"
     ]
    },
    {
     "name": "stdout",
     "output_type": "stream",
     "text": [
      "2025-05-09 12:18:23,935 INFO: Python Engine initialized.\n",
      "\n",
      "Logged in to project, explore it here https://demo.hops.works:443/p/14457\n"
     ]
    }
   ],
   "source": [
    "print(\"Connecting to Hopsworks\")\n",
    "# Connect to Hopsworks\n",
    "project = hopsworks.login(\n",
    "    host=os.getenv(\"HOST\"),\n",
    "    port=os.getenv(\"PORT\"),\n",
    "    api_key_value=os.getenv(\"HOPSWORKS_API_KEY\"),\n",
    "    project=project_name or os.getenv(\"PROJECT\")\n",
    ")\n",
    "fs = project.get_feature_store()"
   ]
  },
  {
   "cell_type": "markdown",
   "metadata": {},
   "source": [
    "## Retrieve Feature Group\n",
    "\n",
    "Get the feature group containing the demand data."
   ]
  },
  {
   "cell_type": "code",
   "execution_count": 12,
   "metadata": {},
   "outputs": [
    {
     "name": "stdout",
     "output_type": "stream",
     "text": [
      "Retrieving Feature Group: demand_features\n",
      "Feature Group Investigation\n",
      "Finished: Reading data from Hopsworks, using Hopsworks Feature Query Service (0.72s) \n"
     ]
    },
    {
     "data": {
      "text/html": [
       "<div>\n",
       "<style scoped>\n",
       "    .dataframe tbody tr th:only-of-type {\n",
       "        vertical-align: middle;\n",
       "    }\n",
       "\n",
       "    .dataframe tbody tr th {\n",
       "        vertical-align: top;\n",
       "    }\n",
       "\n",
       "    .dataframe thead th {\n",
       "        text-align: right;\n",
       "    }\n",
       "</style>\n",
       "<table border=\"1\" class=\"dataframe\">\n",
       "  <thead>\n",
       "    <tr style=\"text-align: right;\">\n",
       "      <th></th>\n",
       "      <th>sp_id</th>\n",
       "      <th>loc_id</th>\n",
       "      <th>time_bucket</th>\n",
       "      <th>repetitive_demand_quantity</th>\n",
       "      <th>datetime</th>\n",
       "    </tr>\n",
       "  </thead>\n",
       "  <tbody>\n",
       "    <tr>\n",
       "      <th>0</th>\n",
       "      <td>9907735</td>\n",
       "      <td>3</td>\n",
       "      <td>202402</td>\n",
       "      <td>131.0</td>\n",
       "      <td>2025-05-09 12:08:22.035137+00:00</td>\n",
       "    </tr>\n",
       "    <tr>\n",
       "      <th>1</th>\n",
       "      <td>8974089</td>\n",
       "      <td>3</td>\n",
       "      <td>202201</td>\n",
       "      <td>450.0</td>\n",
       "      <td>2025-05-09 12:08:22.035137+00:00</td>\n",
       "    </tr>\n",
       "    <tr>\n",
       "      <th>2</th>\n",
       "      <td>8230302</td>\n",
       "      <td>3</td>\n",
       "      <td>202111</td>\n",
       "      <td>595.0</td>\n",
       "      <td>2025-05-09 12:08:22.035137+00:00</td>\n",
       "    </tr>\n",
       "    <tr>\n",
       "      <th>3</th>\n",
       "      <td>8036065</td>\n",
       "      <td>3</td>\n",
       "      <td>202502</td>\n",
       "      <td>16.0</td>\n",
       "      <td>2025-05-09 12:08:22.035137+00:00</td>\n",
       "    </tr>\n",
       "    <tr>\n",
       "      <th>4</th>\n",
       "      <td>8206023</td>\n",
       "      <td>3</td>\n",
       "      <td>202312</td>\n",
       "      <td>474.0</td>\n",
       "      <td>2025-05-09 12:08:22.035137+00:00</td>\n",
       "    </tr>\n",
       "  </tbody>\n",
       "</table>\n",
       "</div>"
      ],
      "text/plain": [
       "     sp_id  loc_id  time_bucket  repetitive_demand_quantity  \\\n",
       "0  9907735       3       202402                       131.0   \n",
       "1  8974089       3       202201                       450.0   \n",
       "2  8230302       3       202111                       595.0   \n",
       "3  8036065       3       202502                        16.0   \n",
       "4  8206023       3       202312                       474.0   \n",
       "\n",
       "                          datetime  \n",
       "0 2025-05-09 12:08:22.035137+00:00  \n",
       "1 2025-05-09 12:08:22.035137+00:00  \n",
       "2 2025-05-09 12:08:22.035137+00:00  \n",
       "3 2025-05-09 12:08:22.035137+00:00  \n",
       "4 2025-05-09 12:08:22.035137+00:00  "
      ]
     },
     "execution_count": 12,
     "metadata": {},
     "output_type": "execute_result"
    }
   ],
   "source": [
    "print(f\"Retrieving Feature Group: {feature_group_name}\")\n",
    "demand_fg = fs.get_feature_group(\n",
    "    name=feature_group_name,\n",
    "#    version=1,  # Using fixed version if needed\n",
    ")\n",
    "\n",
    "print(\"Feature Group Investigation\")\n",
    "demand_fg.show(5)"
   ]
  },
  {
   "cell_type": "markdown",
   "metadata": {},
   "source": [
    "## Feature Selection and Query\n",
    "\n",
    "Select features and prepare the query for training data."
   ]
  },
  {
   "cell_type": "code",
   "execution_count": 13,
   "metadata": {},
   "outputs": [
    {
     "name": "stdout",
     "output_type": "stream",
     "text": [
      "Feature Selection\n"
     ]
    }
   ],
   "source": [
    "print(\"Feature Selection\")\n",
    "# Define query with proper feature selection\n",
    "query = demand_fg.select_all()"
   ]
  },
  {
   "cell_type": "markdown",
   "metadata": {},
   "source": [
    "## Setup Transformation Functions\n",
    "\n",
    "Define transformation functions for feature engineering."
   ]
  },
  {
   "cell_type": "code",
   "execution_count": null,
   "metadata": {},
   "outputs": [
    {
     "name": "stdout",
     "output_type": "stream",
     "text": [
      "Setting up transformation functions\n",
      "Applying label encoding to location ID\n",
      "Created transformation function for loc_id using label_encoder\n"
     ]
    }
   ],
   "source": [
    "# print(\"Setting up transformation functions\")\n",
    "# # Import the built-in transformations\n",
    "# from hopsworks.hsfs.builtin_transformations import label_encoder\n",
    "\n",
    "# print(\"Applying label encoding to location ID\")\n",
    "# transformation_functions = [label_encoder(\"loc_id\")]\n",
    "\n",
    "# print(\"Created transformation function for loc_id using label_encoder\")"
   ]
  },
  {
   "cell_type": "markdown",
   "metadata": {},
   "source": [
    "## Create Feature View\n",
    "\n",
    "Create a feature view for the demand data."
   ]
  },
  {
   "cell_type": "code",
   "execution_count": null,
   "metadata": {},
   "outputs": [
    {
     "name": "stdout",
     "output_type": "stream",
     "text": [
      "Getting or creating feature view: demand_features_view\n",
      "Feature view created successfully, explore it at \n",
      "https://demo.hops.works:443/p/14455/fs/13379/fv/demand_features_view/version/2\n",
      "Successfully got or created feature view: demand_features_view\n"
     ]
    }
   ],
   "source": [
    "print(f\"Getting or creating feature view: {feature_group_name}_view\")\n",
    "\n",
    "# Use get_or_create_feature_view method\n",
    "feature_view = fs.get_or_create_feature_view(\n",
    "    name=f\"{feature_group_name}_view\",\n",
    "    version=1,  \n",
    "    description=\"Feature view for demand forecasting\",\n",
    "    labels=[\"repetitive_demand_quantity\"],\n",
    "    query=query,\n",
    "    # transformation_functions=transformation_functions\n",
    ")\n",
    "\n",
    "print(f\"Successfully got or created feature view: {feature_group_name}_view\")"
   ]
  },
  {
   "cell_type": "markdown",
   "metadata": {},
   "source": [
    "## Identify Training Scope\n",
    "\n",
    "Determine the number of models to train."
   ]
  },
  {
   "cell_type": "code",
   "execution_count": 7,
   "metadata": {},
   "outputs": [
    {
     "name": "stdout",
     "output_type": "stream",
     "text": [
      "Finished: Reading data from Hopsworks, using Hopsworks Feature Query Service (0.68s) \n",
      "Training 200 models (items: 200 × locations: 1)\n",
      "\n",
      "Data Overview:\n",
      "Unique items: 200\n",
      "Unique locations: 1\n"
     ]
    }
   ],
   "source": [
    "# Get model registry\n",
    "mr = project.get_model_registry()\n",
    "\n",
    "# Get unique items and locations for training\n",
    "# Read the data once and reuse it\n",
    "df = query.read()\n",
    "items = df['sp_id'].unique()  # Get unique items\n",
    "locations = df['loc_id'].unique() if location_id is None else [location_id]\n",
    "\n",
    "# Calculate total number of models\n",
    "total_models = len(items) * len(locations)\n",
    "\n",
    "print(f\"Training {total_models} models (items: {len(items)} × locations: {len(locations)})\")\n",
    "\n",
    "print(f\"\\nData Overview:\")\n",
    "print(f\"Unique items: {len(items)}\")\n",
    "print(f\"Unique locations: {len(locations)}\")"
   ]
  },
  {
   "cell_type": "markdown",
   "metadata": {},
   "source": [
    "## Model Training Loop\n",
    "\n",
    "Train models for each item-location combination."
   ]
  },
  {
   "cell_type": "code",
   "execution_count": 8,
   "metadata": {},
   "outputs": [
    {
     "name": "stdout",
     "output_type": "stream",
     "text": [
      "Training model 1/200 (Item: 9032806, Location: 3)\n",
      "Finished: Reading data from Hopsworks, using Hopsworks Feature Query Service (0.62s) \n",
      "  RandomForest: RMSE: 1121.95\n",
      "  XGBoost: RMSE: 1121.90\n"
     ]
    },
    {
     "name": "stderr",
     "output_type": "stream",
     "text": [
      "Uploading /Users/lex/Documents/1000models/notebooks/demand_forecaster_item9032806_loc3/model.json: 100.000%|██████████| 197397/197397 elapsed<00:02 remaining<00:00\n",
      "Uploading /Users/lex/Documents/1000models/notebooks/input_example.json: 100.000%|██████████| 23/23 elapsed<00:01 remaining<00:00\n",
      "Uploading /Users/lex/Documents/1000models/notebooks/model_schema.json: 100.000%|██████████| 482/482 elapsed<00:01 remaining<00:00\n",
      "Model export complete: 100%|██████████| 6/6 [00:13<00:00,  2.22s/it]                   \n"
     ]
    },
    {
     "name": "stdout",
     "output_type": "stream",
     "text": [
      "Model created, explore it at https://demo.hops.works:443/p/14455/models/demand_forecaster_item9032806_loc3/1\n",
      "Finished: Reading data from Hopsworks, using Hopsworks Feature Query Service (0.67s) \n",
      "2025-05-09 10:57:18,423 INFO: Provenance cached data - overwriting last accessed/created training dataset from 1 to 2.\n"
     ]
    },
    {
     "name": "stderr",
     "output_type": "stream",
     "text": [
      "Uploading /Users/lex/Documents/1000models/notebooks/demand_forecaster_item8636975_loc3/model.joblib: 100.000%|██████████| 716833/716833 elapsed<00:02 remaining<00:00\n",
      "Uploading /Users/lex/Documents/1000models/notebooks/input_example.json: 100.000%|██████████| 23/23 elapsed<00:02 remaining<00:00\n",
      "Uploading /Users/lex/Documents/1000models/notebooks/model_schema.json: 100.000%|██████████| 482/482 elapsed<00:01 remaining<00:00\n",
      "Model export complete: 100%|██████████| 6/6 [00:13<00:00,  2.32s/it]                   \n"
     ]
    },
    {
     "name": "stdout",
     "output_type": "stream",
     "text": [
      "Model created, explore it at https://demo.hops.works:443/p/14455/models/demand_forecaster_item8636975_loc3/1\n",
      "Finished: Reading data from Hopsworks, using Hopsworks Feature Query Service (0.62s) \n",
      "2025-05-09 10:57:37,372 INFO: Provenance cached data - overwriting last accessed/created training dataset from 2 to 3.\n"
     ]
    },
    {
     "name": "stderr",
     "output_type": "stream",
     "text": [
      "Uploading /Users/lex/Documents/1000models/notebooks/demand_forecaster_item9052071_loc3/model.json: 100.000%|██████████| 187241/187241 elapsed<00:01 remaining<00:00\n",
      "Uploading /Users/lex/Documents/1000models/notebooks/input_example.json: 100.000%|██████████| 23/23 elapsed<00:01 remaining<00:00\n",
      "Uploading /Users/lex/Documents/1000models/notebooks/model_schema.json: 100.000%|██████████| 482/482 elapsed<00:01 remaining<00:00\n",
      "Model export complete: 100%|██████████| 6/6 [00:12<00:00,  2.01s/it]                   \n"
     ]
    },
    {
     "name": "stdout",
     "output_type": "stream",
     "text": [
      "Model created, explore it at https://demo.hops.works:443/p/14455/models/demand_forecaster_item9052071_loc3/1\n",
      "Finished: Reading data from Hopsworks, using Hopsworks Feature Query Service (0.59s) \n",
      "2025-05-09 10:57:54,734 INFO: Provenance cached data - overwriting last accessed/created training dataset from 3 to 4.\n"
     ]
    },
    {
     "name": "stderr",
     "output_type": "stream",
     "text": [
      "Uploading /Users/lex/Documents/1000models/notebooks/demand_forecaster_item9036438_loc3/model.json: 100.000%|██████████| 195186/195186 elapsed<00:01 remaining<00:00\n",
      "Uploading /Users/lex/Documents/1000models/notebooks/input_example.json: 100.000%|██████████| 23/23 elapsed<00:01 remaining<00:00\n",
      "Uploading /Users/lex/Documents/1000models/notebooks/model_schema.json: 100.000%|██████████| 482/482 elapsed<00:00 remaining<00:00\n",
      "Model export complete: 100%|██████████| 6/6 [00:11<00:00,  1.98s/it]                   \n"
     ]
    },
    {
     "name": "stdout",
     "output_type": "stream",
     "text": [
      "Model created, explore it at https://demo.hops.works:443/p/14455/models/demand_forecaster_item9036438_loc3/1\n",
      "Training model 5/200 (Item: 8413714, Location: 3)\n",
      "Finished: Reading data from Hopsworks, using Hopsworks Feature Query Service (0.71s) \n",
      "2025-05-09 10:58:11,745 INFO: Provenance cached data - overwriting last accessed/created training dataset from 4 to 5.\n",
      "  RandomForest: RMSE: 1167.91\n",
      "  XGBoost: RMSE: 1168.09\n"
     ]
    },
    {
     "name": "stderr",
     "output_type": "stream",
     "text": [
      "Uploading /Users/lex/Documents/1000models/notebooks/demand_forecaster_item8413714_loc3/model.joblib: 100.000%|██████████| 716833/716833 elapsed<00:03 remaining<00:00\n",
      "Uploading /Users/lex/Documents/1000models/notebooks/input_example.json: 100.000%|██████████| 23/23 elapsed<00:01 remaining<00:00\n",
      "Uploading /Users/lex/Documents/1000models/notebooks/model_schema.json: 100.000%|██████████| 482/482 elapsed<00:01 remaining<00:00\n",
      "Model export complete: 100%|██████████| 6/6 [00:14<00:00,  2.38s/it]                   \n"
     ]
    },
    {
     "name": "stdout",
     "output_type": "stream",
     "text": [
      "Model created, explore it at https://demo.hops.works:443/p/14455/models/demand_forecaster_item8413714_loc3/1\n",
      "Finished: Reading data from Hopsworks, using Hopsworks Feature Query Service (0.59s) \n",
      "2025-05-09 10:58:31,157 INFO: Provenance cached data - overwriting last accessed/created training dataset from 5 to 6.\n"
     ]
    },
    {
     "name": "stderr",
     "output_type": "stream",
     "text": [
      "Uploading /Users/lex/Documents/1000models/notebooks/demand_forecaster_item8147820_loc3/model.json: 100.000%|██████████| 198135/198135 elapsed<00:01 remaining<00:00\n",
      "Uploading /Users/lex/Documents/1000models/notebooks/input_example.json: 100.000%|██████████| 23/23 elapsed<00:01 remaining<00:00\n",
      "Uploading /Users/lex/Documents/1000models/notebooks/model_schema.json: 100.000%|██████████| 482/482 elapsed<00:01 remaining<00:00\n",
      "Model export complete: 100%|██████████| 6/6 [00:13<00:00,  2.23s/it]                   \n"
     ]
    },
    {
     "name": "stdout",
     "output_type": "stream",
     "text": [
      "Model created, explore it at https://demo.hops.works:443/p/14455/models/demand_forecaster_item8147820_loc3/1\n",
      "Finished: Reading data from Hopsworks, using Hopsworks Feature Query Service (0.67s) \n",
      "2025-05-09 10:58:50,143 INFO: Provenance cached data - overwriting last accessed/created training dataset from 6 to 7.\n"
     ]
    },
    {
     "name": "stderr",
     "output_type": "stream",
     "text": [
      "Uploading /Users/lex/Documents/1000models/notebooks/demand_forecaster_item9017760_loc3/model.joblib: 100.000%|██████████| 716833/716833 elapsed<00:02 remaining<00:00\n",
      "Uploading /Users/lex/Documents/1000models/notebooks/input_example.json: 100.000%|██████████| 23/23 elapsed<00:01 remaining<00:00\n",
      "Uploading /Users/lex/Documents/1000models/notebooks/model_schema.json: 100.000%|██████████| 482/482 elapsed<00:01 remaining<00:00\n",
      "Model export complete: 100%|██████████| 6/6 [00:13<00:00,  2.30s/it]                   \n"
     ]
    },
    {
     "name": "stdout",
     "output_type": "stream",
     "text": [
      "Model created, explore it at https://demo.hops.works:443/p/14455/models/demand_forecaster_item9017760_loc3/1\n",
      "Finished: Reading data from Hopsworks, using Hopsworks Feature Query Service (0.61s) \n",
      "2025-05-09 10:59:09,053 INFO: Provenance cached data - overwriting last accessed/created training dataset from 7 to 8.\n"
     ]
    },
    {
     "name": "stderr",
     "output_type": "stream",
     "text": [
      "Uploading /Users/lex/Documents/1000models/notebooks/demand_forecaster_item8053007_loc3/model.json: 100.000%|██████████| 206579/206579 elapsed<00:01 remaining<00:00\n",
      "Uploading /Users/lex/Documents/1000models/notebooks/input_example.json: 100.000%|██████████| 23/23 elapsed<00:01 remaining<00:00\n",
      "Uploading /Users/lex/Documents/1000models/notebooks/model_schema.json: 100.000%|██████████| 482/482 elapsed<00:01 remaining<00:00\n",
      "Model export complete: 100%|██████████| 6/6 [00:12<00:00,  2.09s/it]                   \n"
     ]
    },
    {
     "name": "stdout",
     "output_type": "stream",
     "text": [
      "Model created, explore it at https://demo.hops.works:443/p/14455/models/demand_forecaster_item8053007_loc3/1\n",
      "Finished: Reading data from Hopsworks, using Hopsworks Feature Query Service (0.59s) \n",
      "2025-05-09 10:59:27,876 INFO: Provenance cached data - overwriting last accessed/created training dataset from 8 to 9.\n"
     ]
    },
    {
     "name": "stderr",
     "output_type": "stream",
     "text": [
      "Uploading /Users/lex/Documents/1000models/notebooks/demand_forecaster_item8169509_loc3/model.joblib: 100.000%|██████████| 716833/716833 elapsed<00:02 remaining<00:00\n",
      "Uploading /Users/lex/Documents/1000models/notebooks/input_example.json: 100.000%|██████████| 23/23 elapsed<00:01 remaining<00:00\n",
      "Uploading /Users/lex/Documents/1000models/notebooks/model_schema.json: 100.000%|██████████| 482/482 elapsed<00:01 remaining<00:00\n",
      "Model export complete: 100%|██████████| 6/6 [00:13<00:00,  2.23s/it]                   \n"
     ]
    },
    {
     "name": "stdout",
     "output_type": "stream",
     "text": [
      "Model created, explore it at https://demo.hops.works:443/p/14455/models/demand_forecaster_item8169509_loc3/1\n",
      "Training model 10/200 (Item: 9628510, Location: 3)\n",
      "Finished: Reading data from Hopsworks, using Hopsworks Feature Query Service (0.61s) \n",
      "2025-05-09 10:59:46,260 INFO: Provenance cached data - overwriting last accessed/created training dataset from 9 to 10.\n",
      "  RandomForest: RMSE: 1022.42\n",
      "  XGBoost: RMSE: 1022.75\n"
     ]
    },
    {
     "name": "stderr",
     "output_type": "stream",
     "text": [
      "Uploading /Users/lex/Documents/1000models/notebooks/demand_forecaster_item9628510_loc3/model.joblib: 100.000%|██████████| 716833/716833 elapsed<00:02 remaining<00:00\n",
      "Uploading /Users/lex/Documents/1000models/notebooks/input_example.json: 100.000%|██████████| 23/23 elapsed<00:01 remaining<00:00\n",
      "Uploading /Users/lex/Documents/1000models/notebooks/model_schema.json: 100.000%|██████████| 482/482 elapsed<00:01 remaining<00:00\n",
      "Model export complete: 100%|██████████| 6/6 [00:12<00:00,  2.11s/it]                   \n"
     ]
    },
    {
     "name": "stdout",
     "output_type": "stream",
     "text": [
      "Model created, explore it at https://demo.hops.works:443/p/14455/models/demand_forecaster_item9628510_loc3/1\n",
      "Finished: Reading data from Hopsworks, using Hopsworks Feature Query Service (0.58s) \n",
      "2025-05-09 11:00:04,361 INFO: Provenance cached data - overwriting last accessed/created training dataset from 10 to 11.\n"
     ]
    },
    {
     "name": "stderr",
     "output_type": "stream",
     "text": [
      "Uploading /Users/lex/Documents/1000models/notebooks/demand_forecaster_item7969953_loc3/model.joblib: 100.000%|██████████| 716833/716833 elapsed<00:02 remaining<00:00\n",
      "Uploading /Users/lex/Documents/1000models/notebooks/input_example.json: 100.000%|██████████| 23/23 elapsed<00:02 remaining<00:00\n",
      "Uploading /Users/lex/Documents/1000models/notebooks/model_schema.json: 100.000%|██████████| 482/482 elapsed<00:01 remaining<00:00\n",
      "Model export complete: 100%|██████████| 6/6 [00:13<00:00,  2.33s/it]                   \n"
     ]
    },
    {
     "name": "stdout",
     "output_type": "stream",
     "text": [
      "Model created, explore it at https://demo.hops.works:443/p/14455/models/demand_forecaster_item7969953_loc3/1\n",
      "Finished: Reading data from Hopsworks, using Hopsworks Feature Query Service (0.58s) \n",
      "2025-05-09 11:00:23,856 INFO: Provenance cached data - overwriting last accessed/created training dataset from 11 to 12.\n"
     ]
    },
    {
     "name": "stderr",
     "output_type": "stream",
     "text": [
      "Uploading /Users/lex/Documents/1000models/notebooks/demand_forecaster_item8293845_loc3/model.json: 100.000%|██████████| 190771/190771 elapsed<00:01 remaining<00:00\n",
      "Uploading /Users/lex/Documents/1000models/notebooks/input_example.json: 100.000%|██████████| 23/23 elapsed<00:01 remaining<00:00\n",
      "Uploading /Users/lex/Documents/1000models/notebooks/model_schema.json: 100.000%|██████████| 482/482 elapsed<00:01 remaining<00:00\n",
      "Model export complete: 100%|██████████| 6/6 [00:12<00:00,  2.12s/it]                   \n"
     ]
    },
    {
     "name": "stdout",
     "output_type": "stream",
     "text": [
      "Model created, explore it at https://demo.hops.works:443/p/14455/models/demand_forecaster_item8293845_loc3/1\n",
      "Finished: Reading data from Hopsworks, using Hopsworks Feature Query Service (0.71s) \n",
      "2025-05-09 11:00:43,113 INFO: Provenance cached data - overwriting last accessed/created training dataset from 12 to 13.\n"
     ]
    },
    {
     "name": "stderr",
     "output_type": "stream",
     "text": [
      "Uploading /Users/lex/Documents/1000models/notebooks/demand_forecaster_item8433099_loc3/model.json: 100.000%|██████████| 189957/189957 elapsed<00:02 remaining<00:00\n",
      "Uploading /Users/lex/Documents/1000models/notebooks/input_example.json: 100.000%|██████████| 23/23 elapsed<00:01 remaining<00:00\n",
      "Uploading /Users/lex/Documents/1000models/notebooks/model_schema.json: 100.000%|██████████| 482/482 elapsed<00:01 remaining<00:00\n",
      "Model export complete: 100%|██████████| 6/6 [00:13<00:00,  2.19s/it]                   \n"
     ]
    },
    {
     "name": "stdout",
     "output_type": "stream",
     "text": [
      "Model created, explore it at https://demo.hops.works:443/p/14455/models/demand_forecaster_item8433099_loc3/1\n",
      "Finished: Reading data from Hopsworks, using Hopsworks Feature Query Service (0.56s) \n",
      "2025-05-09 11:01:01,193 INFO: Provenance cached data - overwriting last accessed/created training dataset from 13 to 14.\n"
     ]
    },
    {
     "name": "stderr",
     "output_type": "stream",
     "text": [
      "Uploading /Users/lex/Documents/1000models/notebooks/demand_forecaster_item9147270_loc3/model.json: 100.000%|██████████| 204245/204245 elapsed<00:01 remaining<00:00\n",
      "Uploading /Users/lex/Documents/1000models/notebooks/input_example.json: 100.000%|██████████| 23/23 elapsed<00:01 remaining<00:00\n",
      "Uploading /Users/lex/Documents/1000models/notebooks/model_schema.json: 100.000%|██████████| 482/482 elapsed<00:01 remaining<00:00\n",
      "Model export complete: 100%|██████████| 6/6 [00:11<00:00,  1.97s/it]                   \n"
     ]
    },
    {
     "name": "stdout",
     "output_type": "stream",
     "text": [
      "Model created, explore it at https://demo.hops.works:443/p/14455/models/demand_forecaster_item9147270_loc3/1\n",
      "Training model 15/200 (Item: 8089311, Location: 3)\n",
      "Finished: Reading data from Hopsworks, using Hopsworks Feature Query Service (0.63s) \n",
      "2025-05-09 11:01:18,023 INFO: Provenance cached data - overwriting last accessed/created training dataset from 14 to 15.\n",
      "  RandomForest: RMSE: 1237.91\n",
      "  XGBoost: RMSE: 1237.87\n"
     ]
    },
    {
     "name": "stderr",
     "output_type": "stream",
     "text": [
      "Uploading /Users/lex/Documents/1000models/notebooks/demand_forecaster_item8089311_loc3/model.json: 100.000%|██████████| 184133/184133 elapsed<00:02 remaining<00:00\n",
      "Uploading /Users/lex/Documents/1000models/notebooks/input_example.json: 100.000%|██████████| 23/23 elapsed<00:01 remaining<00:00\n",
      "Uploading /Users/lex/Documents/1000models/notebooks/model_schema.json: 100.000%|██████████| 482/482 elapsed<00:01 remaining<00:00\n",
      "Model export complete: 100%|██████████| 6/6 [00:12<00:00,  2.09s/it]                   \n"
     ]
    },
    {
     "name": "stdout",
     "output_type": "stream",
     "text": [
      "Model created, explore it at https://demo.hops.works:443/p/14455/models/demand_forecaster_item8089311_loc3/1\n",
      "Finished: Reading data from Hopsworks, using Hopsworks Feature Query Service (0.59s) \n",
      "2025-05-09 11:01:35,499 INFO: Provenance cached data - overwriting last accessed/created training dataset from 15 to 16.\n"
     ]
    },
    {
     "name": "stderr",
     "output_type": "stream",
     "text": [
      "Uploading /Users/lex/Documents/1000models/notebooks/demand_forecaster_item9636007_loc3/model.json: 100.000%|██████████| 183375/183375 elapsed<00:01 remaining<00:00\n",
      "Uploading /Users/lex/Documents/1000models/notebooks/input_example.json: 100.000%|██████████| 23/23 elapsed<00:01 remaining<00:00\n",
      "Uploading /Users/lex/Documents/1000models/notebooks/model_schema.json: 100.000%|██████████| 482/482 elapsed<00:01 remaining<00:00\n",
      "Model export complete: 100%|██████████| 6/6 [00:13<00:00,  2.17s/it]                   \n"
     ]
    },
    {
     "name": "stdout",
     "output_type": "stream",
     "text": [
      "Model created, explore it at https://demo.hops.works:443/p/14455/models/demand_forecaster_item9636007_loc3/1\n",
      "Finished: Reading data from Hopsworks, using Hopsworks Feature Query Service (0.65s) \n",
      "2025-05-09 11:01:53,420 INFO: Provenance cached data - overwriting last accessed/created training dataset from 16 to 17.\n"
     ]
    },
    {
     "name": "stderr",
     "output_type": "stream",
     "text": [
      "Uploading /Users/lex/Documents/1000models/notebooks/demand_forecaster_item9623662_loc3/model.json: 100.000%|██████████| 187147/187147 elapsed<00:02 remaining<00:00\n",
      "Uploading /Users/lex/Documents/1000models/notebooks/input_example.json: 100.000%|██████████| 23/23 elapsed<00:01 remaining<00:00\n",
      "Uploading /Users/lex/Documents/1000models/notebooks/model_schema.json: 100.000%|██████████| 482/482 elapsed<00:01 remaining<00:00\n",
      "Model export complete: 100%|██████████| 6/6 [00:12<00:00,  2.14s/it]                   \n"
     ]
    },
    {
     "name": "stdout",
     "output_type": "stream",
     "text": [
      "Model created, explore it at https://demo.hops.works:443/p/14455/models/demand_forecaster_item9623662_loc3/1\n",
      "Finished: Reading data from Hopsworks, using Hopsworks Feature Query Service (0.58s) \n",
      "2025-05-09 11:02:11,236 INFO: Provenance cached data - overwriting last accessed/created training dataset from 17 to 18.\n"
     ]
    },
    {
     "name": "stderr",
     "output_type": "stream",
     "text": [
      "Uploading /Users/lex/Documents/1000models/notebooks/demand_forecaster_item8170450_loc3/model.json: 100.000%|██████████| 192663/192663 elapsed<00:01 remaining<00:00\n",
      "Uploading /Users/lex/Documents/1000models/notebooks/input_example.json: 100.000%|██████████| 23/23 elapsed<00:01 remaining<00:00\n",
      "Uploading /Users/lex/Documents/1000models/notebooks/model_schema.json: 100.000%|██████████| 482/482 elapsed<00:01 remaining<00:00\n",
      "Model export complete: 100%|██████████| 6/6 [00:13<00:00,  2.25s/it]                   \n"
     ]
    },
    {
     "name": "stdout",
     "output_type": "stream",
     "text": [
      "Model created, explore it at https://demo.hops.works:443/p/14455/models/demand_forecaster_item8170450_loc3/1\n",
      "Finished: Reading data from Hopsworks, using Hopsworks Feature Query Service (0.62s) \n",
      "2025-05-09 11:02:29,881 INFO: Provenance cached data - overwriting last accessed/created training dataset from 18 to 19.\n"
     ]
    },
    {
     "name": "stderr",
     "output_type": "stream",
     "text": [
      "Uploading /Users/lex/Documents/1000models/notebooks/demand_forecaster_item9996541_loc3/model.json: 100.000%|██████████| 201826/201826 elapsed<00:02 remaining<00:00\n",
      "Uploading /Users/lex/Documents/1000models/notebooks/input_example.json: 100.000%|██████████| 23/23 elapsed<00:01 remaining<00:00\n",
      "Uploading /Users/lex/Documents/1000models/notebooks/model_schema.json: 100.000%|██████████| 482/482 elapsed<00:02 remaining<00:00\n",
      "Model export complete: 100%|██████████| 6/6 [00:13<00:00,  2.23s/it]                   \n"
     ]
    },
    {
     "name": "stdout",
     "output_type": "stream",
     "text": [
      "Model created, explore it at https://demo.hops.works:443/p/14455/models/demand_forecaster_item9996541_loc3/1\n",
      "Training model 20/200 (Item: 9768108, Location: 3)\n",
      "Finished: Reading data from Hopsworks, using Hopsworks Feature Query Service (0.84s) \n",
      "2025-05-09 11:02:48,305 INFO: Provenance cached data - overwriting last accessed/created training dataset from 19 to 20.\n",
      "  RandomForest: RMSE: 1063.27\n",
      "  XGBoost: RMSE: 1063.23\n"
     ]
    },
    {
     "name": "stderr",
     "output_type": "stream",
     "text": [
      "Uploading /Users/lex/Documents/1000models/notebooks/demand_forecaster_item9768108_loc3/model.json: 100.000%|██████████| 197155/197155 elapsed<00:02 remaining<00:00\n",
      "Uploading /Users/lex/Documents/1000models/notebooks/input_example.json: 100.000%|██████████| 23/23 elapsed<00:01 remaining<00:00\n",
      "Uploading /Users/lex/Documents/1000models/notebooks/model_schema.json: 100.000%|██████████| 482/482 elapsed<00:01 remaining<00:00\n",
      "Model export complete: 100%|██████████| 6/6 [00:13<00:00,  2.23s/it]                   \n"
     ]
    },
    {
     "name": "stdout",
     "output_type": "stream",
     "text": [
      "Model created, explore it at https://demo.hops.works:443/p/14455/models/demand_forecaster_item9768108_loc3/1\n",
      "Finished: Reading data from Hopsworks, using Hopsworks Feature Query Service (0.54s) \n",
      "2025-05-09 11:03:06,526 INFO: Provenance cached data - overwriting last accessed/created training dataset from 20 to 21.\n"
     ]
    },
    {
     "name": "stderr",
     "output_type": "stream",
     "text": [
      "Uploading /Users/lex/Documents/1000models/notebooks/demand_forecaster_item9153781_loc3/model.json: 100.000%|██████████| 183028/183028 elapsed<00:02 remaining<00:00\n",
      "Uploading /Users/lex/Documents/1000models/notebooks/input_example.json: 100.000%|██████████| 23/23 elapsed<00:01 remaining<00:00\n",
      "Uploading /Users/lex/Documents/1000models/notebooks/model_schema.json: 100.000%|██████████| 482/482 elapsed<00:01 remaining<00:00\n",
      "Model export complete: 100%|██████████| 6/6 [00:12<00:00,  2.11s/it]                   \n"
     ]
    },
    {
     "name": "stdout",
     "output_type": "stream",
     "text": [
      "Model created, explore it at https://demo.hops.works:443/p/14455/models/demand_forecaster_item9153781_loc3/1\n",
      "Finished: Reading data from Hopsworks, using Hopsworks Feature Query Service (0.82s) \n",
      "2025-05-09 11:03:24,492 INFO: Provenance cached data - overwriting last accessed/created training dataset from 21 to 22.\n"
     ]
    },
    {
     "name": "stderr",
     "output_type": "stream",
     "text": [
      "Uploading /Users/lex/Documents/1000models/notebooks/demand_forecaster_item8443228_loc3/model.json: 100.000%|██████████| 189375/189375 elapsed<00:01 remaining<00:00\n",
      "Uploading /Users/lex/Documents/1000models/notebooks/input_example.json: 100.000%|██████████| 23/23 elapsed<00:01 remaining<00:00\n",
      "Uploading /Users/lex/Documents/1000models/notebooks/model_schema.json: 100.000%|██████████| 482/482 elapsed<00:01 remaining<00:00\n",
      "Model export complete: 100%|██████████| 6/6 [00:12<00:00,  2.08s/it]                   \n"
     ]
    },
    {
     "name": "stdout",
     "output_type": "stream",
     "text": [
      "Model created, explore it at https://demo.hops.works:443/p/14455/models/demand_forecaster_item8443228_loc3/1\n",
      "Finished: Reading data from Hopsworks, using Hopsworks Feature Query Service (0.61s) \n",
      "2025-05-09 11:03:42,402 INFO: Provenance cached data - overwriting last accessed/created training dataset from 22 to 23.\n"
     ]
    },
    {
     "name": "stderr",
     "output_type": "stream",
     "text": [
      "Uploading /Users/lex/Documents/1000models/notebooks/demand_forecaster_item8081349_loc3/model.joblib: 100.000%|██████████| 716833/716833 elapsed<00:02 remaining<00:00\n",
      "Uploading /Users/lex/Documents/1000models/notebooks/input_example.json: 100.000%|██████████| 23/23 elapsed<00:01 remaining<00:00\n",
      "Uploading /Users/lex/Documents/1000models/notebooks/model_schema.json: 100.000%|██████████| 482/482 elapsed<00:02 remaining<00:00\n",
      "Model export complete: 100%|██████████| 6/6 [00:14<00:00,  2.35s/it]                   \n"
     ]
    },
    {
     "name": "stdout",
     "output_type": "stream",
     "text": [
      "Model created, explore it at https://demo.hops.works:443/p/14455/models/demand_forecaster_item8081349_loc3/1\n",
      "Finished: Reading data from Hopsworks, using Hopsworks Feature Query Service (0.76s) \n",
      "2025-05-09 11:04:01,668 INFO: Provenance cached data - overwriting last accessed/created training dataset from 23 to 24.\n"
     ]
    },
    {
     "name": "stderr",
     "output_type": "stream",
     "text": [
      "Uploading /Users/lex/Documents/1000models/notebooks/demand_forecaster_item8851200_loc3/model.json: 100.000%|██████████| 204567/204567 elapsed<00:01 remaining<00:00\n",
      "Uploading /Users/lex/Documents/1000models/notebooks/input_example.json: 100.000%|██████████| 23/23 elapsed<00:01 remaining<00:00\n",
      "Uploading /Users/lex/Documents/1000models/notebooks/model_schema.json: 100.000%|██████████| 482/482 elapsed<00:01 remaining<00:00\n",
      "Model export complete: 100%|██████████| 6/6 [00:12<00:00,  2.12s/it]                   \n"
     ]
    },
    {
     "name": "stdout",
     "output_type": "stream",
     "text": [
      "Model created, explore it at https://demo.hops.works:443/p/14455/models/demand_forecaster_item8851200_loc3/1\n",
      "Training model 25/200 (Item: 9586055, Location: 3)\n",
      "Finished: Reading data from Hopsworks, using Hopsworks Feature Query Service (0.59s) \n",
      "2025-05-09 11:04:19,816 INFO: Provenance cached data - overwriting last accessed/created training dataset from 24 to 25.\n",
      "  RandomForest: RMSE: 1121.52\n",
      "  XGBoost: RMSE: 1120.86\n"
     ]
    },
    {
     "name": "stderr",
     "output_type": "stream",
     "text": [
      "Uploading /Users/lex/Documents/1000models/notebooks/demand_forecaster_item9586055_loc3/model.json: 100.000%|██████████| 213507/213507 elapsed<00:02 remaining<00:00\n",
      "Uploading /Users/lex/Documents/1000models/notebooks/input_example.json: 100.000%|██████████| 23/23 elapsed<00:02 remaining<00:00\n",
      "Uploading /Users/lex/Documents/1000models/notebooks/model_schema.json: 100.000%|██████████| 482/482 elapsed<00:02 remaining<00:00\n",
      "Model export complete: 100%|██████████| 6/6 [00:14<00:00,  2.43s/it]                   \n"
     ]
    },
    {
     "name": "stdout",
     "output_type": "stream",
     "text": [
      "Model created, explore it at https://demo.hops.works:443/p/14455/models/demand_forecaster_item9586055_loc3/1\n",
      "Finished: Reading data from Hopsworks, using Hopsworks Feature Query Service (0.58s) \n",
      "2025-05-09 11:04:39,874 INFO: Provenance cached data - overwriting last accessed/created training dataset from 25 to 26.\n"
     ]
    },
    {
     "name": "stderr",
     "output_type": "stream",
     "text": [
      "Uploading /Users/lex/Documents/1000models/notebooks/demand_forecaster_item8606896_loc3/model.json: 100.000%|██████████| 190812/190812 elapsed<00:01 remaining<00:00\n",
      "Uploading /Users/lex/Documents/1000models/notebooks/input_example.json: 100.000%|██████████| 23/23 elapsed<00:01 remaining<00:00\n",
      "Uploading /Users/lex/Documents/1000models/notebooks/model_schema.json: 100.000%|██████████| 482/482 elapsed<00:01 remaining<00:00\n",
      "Model export complete: 100%|██████████| 6/6 [00:12<00:00,  2.05s/it]                   \n"
     ]
    },
    {
     "name": "stdout",
     "output_type": "stream",
     "text": [
      "Model created, explore it at https://demo.hops.works:443/p/14455/models/demand_forecaster_item8606896_loc3/1\n",
      "Finished: Reading data from Hopsworks, using Hopsworks Feature Query Service (0.56s) \n",
      "2025-05-09 11:04:57,215 INFO: Provenance cached data - overwriting last accessed/created training dataset from 26 to 27.\n"
     ]
    },
    {
     "name": "stderr",
     "output_type": "stream",
     "text": [
      "Uploading /Users/lex/Documents/1000models/notebooks/demand_forecaster_item9603623_loc3/model.joblib: 100.000%|██████████| 716833/716833 elapsed<00:02 remaining<00:00\n",
      "Uploading /Users/lex/Documents/1000models/notebooks/input_example.json: 100.000%|██████████| 23/23 elapsed<00:01 remaining<00:00\n",
      "Uploading /Users/lex/Documents/1000models/notebooks/model_schema.json: 100.000%|██████████| 482/482 elapsed<00:01 remaining<00:00\n",
      "Model export complete: 100%|██████████| 6/6 [00:13<00:00,  2.28s/it]                   \n"
     ]
    },
    {
     "name": "stdout",
     "output_type": "stream",
     "text": [
      "Model created, explore it at https://demo.hops.works:443/p/14455/models/demand_forecaster_item9603623_loc3/1\n",
      "Finished: Reading data from Hopsworks, using Hopsworks Feature Query Service (0.72s) \n",
      "2025-05-09 11:05:16,281 INFO: Provenance cached data - overwriting last accessed/created training dataset from 27 to 28.\n"
     ]
    },
    {
     "name": "stderr",
     "output_type": "stream",
     "text": [
      "Uploading /Users/lex/Documents/1000models/notebooks/demand_forecaster_item8059896_loc3/model.json: 100.000%|██████████| 187851/187851 elapsed<00:02 remaining<00:00\n",
      "Uploading /Users/lex/Documents/1000models/notebooks/input_example.json: 100.000%|██████████| 23/23 elapsed<00:01 remaining<00:00\n",
      "Uploading /Users/lex/Documents/1000models/notebooks/model_schema.json: 100.000%|██████████| 482/482 elapsed<00:02 remaining<00:00\n",
      "Model export complete: 100%|██████████| 6/6 [00:13<00:00,  2.24s/it]                   \n"
     ]
    },
    {
     "name": "stdout",
     "output_type": "stream",
     "text": [
      "Model created, explore it at https://demo.hops.works:443/p/14455/models/demand_forecaster_item8059896_loc3/1\n",
      "Finished: Reading data from Hopsworks, using Hopsworks Feature Query Service (0.56s) \n",
      "2025-05-09 11:05:34,798 INFO: Provenance cached data - overwriting last accessed/created training dataset from 28 to 29.\n"
     ]
    },
    {
     "name": "stderr",
     "output_type": "stream",
     "text": [
      "Uploading /Users/lex/Documents/1000models/notebooks/demand_forecaster_item9999758_loc3/model.joblib: 100.000%|██████████| 716833/716833 elapsed<00:02 remaining<00:00\n",
      "Uploading /Users/lex/Documents/1000models/notebooks/input_example.json: 100.000%|██████████| 23/23 elapsed<00:01 remaining<00:00\n",
      "Uploading /Users/lex/Documents/1000models/notebooks/model_schema.json: 100.000%|██████████| 482/482 elapsed<00:01 remaining<00:00\n",
      "Model export complete: 100%|██████████| 6/6 [00:13<00:00,  2.18s/it]                   \n"
     ]
    },
    {
     "name": "stdout",
     "output_type": "stream",
     "text": [
      "Model created, explore it at https://demo.hops.works:443/p/14455/models/demand_forecaster_item9999758_loc3/1\n",
      "Training model 30/200 (Item: 9929508, Location: 3)\n",
      "Finished: Reading data from Hopsworks, using Hopsworks Feature Query Service (0.69s) \n",
      "2025-05-09 11:05:53,822 INFO: Provenance cached data - overwriting last accessed/created training dataset from 29 to 30.\n",
      "  RandomForest: RMSE: 1055.32\n",
      "  XGBoost: RMSE: 1055.46\n"
     ]
    },
    {
     "name": "stderr",
     "output_type": "stream",
     "text": [
      "Uploading /Users/lex/Documents/1000models/notebooks/demand_forecaster_item9929508_loc3/model.joblib: 100.000%|██████████| 716833/716833 elapsed<00:02 remaining<00:00\n",
      "Uploading /Users/lex/Documents/1000models/notebooks/input_example.json: 100.000%|██████████| 23/23 elapsed<00:01 remaining<00:00\n",
      "Uploading /Users/lex/Documents/1000models/notebooks/model_schema.json: 100.000%|██████████| 482/482 elapsed<00:01 remaining<00:00\n",
      "Model export complete: 100%|██████████| 6/6 [00:13<00:00,  2.25s/it]                   \n"
     ]
    },
    {
     "name": "stdout",
     "output_type": "stream",
     "text": [
      "Model created, explore it at https://demo.hops.works:443/p/14455/models/demand_forecaster_item9929508_loc3/1\n",
      "Finished: Reading data from Hopsworks, using Hopsworks Feature Query Service (0.57s) \n",
      "2025-05-09 11:06:12,442 INFO: Provenance cached data - overwriting last accessed/created training dataset from 30 to 31.\n"
     ]
    },
    {
     "name": "stderr",
     "output_type": "stream",
     "text": [
      "Uploading /Users/lex/Documents/1000models/notebooks/demand_forecaster_item9652047_loc3/model.joblib: 100.000%|██████████| 716833/716833 elapsed<00:04 remaining<00:00\n",
      "Uploading /Users/lex/Documents/1000models/notebooks/input_example.json: 100.000%|██████████| 23/23 elapsed<00:01 remaining<00:00\n",
      "Uploading /Users/lex/Documents/1000models/notebooks/model_schema.json: 100.000%|██████████| 482/482 elapsed<00:01 remaining<00:00\n",
      "Model export complete: 100%|██████████| 6/6 [00:14<00:00,  2.47s/it]                   \n"
     ]
    },
    {
     "name": "stdout",
     "output_type": "stream",
     "text": [
      "Model created, explore it at https://demo.hops.works:443/p/14455/models/demand_forecaster_item9652047_loc3/1\n",
      "Finished: Reading data from Hopsworks, using Hopsworks Feature Query Service (0.62s) \n",
      "2025-05-09 11:06:32,348 INFO: Provenance cached data - overwriting last accessed/created training dataset from 31 to 32.\n"
     ]
    },
    {
     "name": "stderr",
     "output_type": "stream",
     "text": [
      "Uploading /Users/lex/Documents/1000models/notebooks/demand_forecaster_item8932523_loc3/model.joblib: 100.000%|██████████| 716833/716833 elapsed<00:02 remaining<00:00\n",
      "Uploading /Users/lex/Documents/1000models/notebooks/input_example.json: 100.000%|██████████| 23/23 elapsed<00:01 remaining<00:00\n",
      "Uploading /Users/lex/Documents/1000models/notebooks/model_schema.json: 100.000%|██████████| 482/482 elapsed<00:02 remaining<00:00\n",
      "Model export complete: 100%|██████████| 6/6 [00:13<00:00,  2.30s/it]                   \n"
     ]
    },
    {
     "name": "stdout",
     "output_type": "stream",
     "text": [
      "Model created, explore it at https://demo.hops.works:443/p/14455/models/demand_forecaster_item8932523_loc3/1\n",
      "Finished: Reading data from Hopsworks, using Hopsworks Feature Query Service (0.68s) \n",
      "2025-05-09 11:06:51,242 INFO: Provenance cached data - overwriting last accessed/created training dataset from 32 to 33.\n"
     ]
    },
    {
     "name": "stderr",
     "output_type": "stream",
     "text": [
      "Uploading /Users/lex/Documents/1000models/notebooks/demand_forecaster_item8050762_loc3/model.joblib: 100.000%|██████████| 716833/716833 elapsed<00:02 remaining<00:00\n",
      "Uploading /Users/lex/Documents/1000models/notebooks/input_example.json: 100.000%|██████████| 23/23 elapsed<00:01 remaining<00:00\n",
      "Uploading /Users/lex/Documents/1000models/notebooks/model_schema.json: 100.000%|██████████| 482/482 elapsed<00:01 remaining<00:00\n",
      "Model export complete: 100%|██████████| 6/6 [00:13<00:00,  2.22s/it]                   \n"
     ]
    },
    {
     "name": "stdout",
     "output_type": "stream",
     "text": [
      "Model created, explore it at https://demo.hops.works:443/p/14455/models/demand_forecaster_item8050762_loc3/1\n",
      "Finished: Reading data from Hopsworks, using Hopsworks Feature Query Service (0.64s) \n",
      "2025-05-09 11:07:09,860 INFO: Provenance cached data - overwriting last accessed/created training dataset from 33 to 34.\n"
     ]
    },
    {
     "name": "stderr",
     "output_type": "stream",
     "text": [
      "Uploading /Users/lex/Documents/1000models/notebooks/demand_forecaster_item8575472_loc3/model.json: 100.000%|██████████| 190422/190422 elapsed<00:01 remaining<00:00\n",
      "Uploading /Users/lex/Documents/1000models/notebooks/input_example.json: 100.000%|██████████| 23/23 elapsed<00:01 remaining<00:00\n",
      "Uploading /Users/lex/Documents/1000models/notebooks/model_schema.json: 100.000%|██████████| 482/482 elapsed<00:01 remaining<00:00\n",
      "Model export complete: 100%|██████████| 6/6 [00:11<00:00,  1.93s/it]                   \n"
     ]
    },
    {
     "name": "stdout",
     "output_type": "stream",
     "text": [
      "Model created, explore it at https://demo.hops.works:443/p/14455/models/demand_forecaster_item8575472_loc3/1\n",
      "Training model 35/200 (Item: 8850878, Location: 3)\n",
      "Finished: Reading data from Hopsworks, using Hopsworks Feature Query Service (0.72s) \n",
      "2025-05-09 11:07:27,555 INFO: Provenance cached data - overwriting last accessed/created training dataset from 34 to 35.\n",
      "  RandomForest: RMSE: 1123.14\n",
      "  XGBoost: RMSE: 1123.13\n"
     ]
    },
    {
     "name": "stderr",
     "output_type": "stream",
     "text": [
      "Uploading /Users/lex/Documents/1000models/notebooks/demand_forecaster_item8850878_loc3/model.json: 100.000%|██████████| 210506/210506 elapsed<00:02 remaining<00:00\n",
      "Uploading /Users/lex/Documents/1000models/notebooks/input_example.json: 100.000%|██████████| 23/23 elapsed<00:01 remaining<00:00\n",
      "Uploading /Users/lex/Documents/1000models/notebooks/model_schema.json: 100.000%|██████████| 482/482 elapsed<00:02 remaining<00:00\n",
      "Model export complete: 100%|██████████| 6/6 [00:13<00:00,  2.22s/it]                   \n"
     ]
    },
    {
     "name": "stdout",
     "output_type": "stream",
     "text": [
      "Model created, explore it at https://demo.hops.works:443/p/14455/models/demand_forecaster_item8850878_loc3/1\n",
      "Finished: Reading data from Hopsworks, using Hopsworks Feature Query Service (0.76s) \n",
      "2025-05-09 11:07:46,053 INFO: Provenance cached data - overwriting last accessed/created training dataset from 35 to 36.\n"
     ]
    },
    {
     "name": "stderr",
     "output_type": "stream",
     "text": [
      "Uploading /Users/lex/Documents/1000models/notebooks/demand_forecaster_item9036581_loc3/model.json: 100.000%|██████████| 197102/197102 elapsed<00:02 remaining<00:00\n",
      "Uploading /Users/lex/Documents/1000models/notebooks/input_example.json: 100.000%|██████████| 23/23 elapsed<00:02 remaining<00:00\n",
      "Uploading /Users/lex/Documents/1000models/notebooks/model_schema.json: 100.000%|██████████| 482/482 elapsed<00:01 remaining<00:00\n",
      "Model export complete: 100%|██████████| 6/6 [00:14<00:00,  2.35s/it]                   \n"
     ]
    },
    {
     "name": "stdout",
     "output_type": "stream",
     "text": [
      "Model created, explore it at https://demo.hops.works:443/p/14455/models/demand_forecaster_item9036581_loc3/1\n",
      "Finished: Reading data from Hopsworks, using Hopsworks Feature Query Service (0.70s) \n",
      "2025-05-09 11:08:06,151 INFO: Provenance cached data - overwriting last accessed/created training dataset from 36 to 37.\n"
     ]
    },
    {
     "name": "stderr",
     "output_type": "stream",
     "text": [
      "Uploading /Users/lex/Documents/1000models/notebooks/demand_forecaster_item8345171_loc3/model.joblib: 100.000%|██████████| 716833/716833 elapsed<00:02 remaining<00:00\n",
      "Uploading /Users/lex/Documents/1000models/notebooks/input_example.json: 100.000%|██████████| 23/23 elapsed<00:01 remaining<00:00\n",
      "Uploading /Users/lex/Documents/1000models/notebooks/model_schema.json: 100.000%|██████████| 482/482 elapsed<00:01 remaining<00:00\n",
      "Model export complete: 100%|██████████| 6/6 [00:13<00:00,  2.17s/it]                   \n"
     ]
    },
    {
     "name": "stdout",
     "output_type": "stream",
     "text": [
      "Model created, explore it at https://demo.hops.works:443/p/14455/models/demand_forecaster_item8345171_loc3/1\n",
      "Finished: Reading data from Hopsworks, using Hopsworks Feature Query Service (0.59s) \n",
      "2025-05-09 11:08:24,555 INFO: Provenance cached data - overwriting last accessed/created training dataset from 37 to 38.\n"
     ]
    },
    {
     "name": "stderr",
     "output_type": "stream",
     "text": [
      "Uploading /Users/lex/Documents/1000models/notebooks/demand_forecaster_item8243421_loc3/model.joblib: 100.000%|██████████| 716833/716833 elapsed<00:02 remaining<00:00\n",
      "Uploading /Users/lex/Documents/1000models/notebooks/input_example.json: 100.000%|██████████| 23/23 elapsed<00:01 remaining<00:00\n",
      "Uploading /Users/lex/Documents/1000models/notebooks/model_schema.json: 100.000%|██████████| 482/482 elapsed<00:02 remaining<00:00\n",
      "Model export complete: 100%|██████████| 6/6 [00:13<00:00,  2.28s/it]                   \n"
     ]
    },
    {
     "name": "stdout",
     "output_type": "stream",
     "text": [
      "Model created, explore it at https://demo.hops.works:443/p/14455/models/demand_forecaster_item8243421_loc3/1\n",
      "Finished: Reading data from Hopsworks, using Hopsworks Feature Query Service (0.65s) \n",
      "2025-05-09 11:08:43,674 INFO: Provenance cached data - overwriting last accessed/created training dataset from 38 to 39.\n"
     ]
    },
    {
     "name": "stderr",
     "output_type": "stream",
     "text": [
      "Uploading /Users/lex/Documents/1000models/notebooks/demand_forecaster_item10103555_loc3/model.json: 100.000%|██████████| 205309/205309 elapsed<00:02 remaining<00:00\n",
      "Uploading /Users/lex/Documents/1000models/notebooks/input_example.json: 100.000%|██████████| 23/23 elapsed<00:01 remaining<00:00\n",
      "Uploading /Users/lex/Documents/1000models/notebooks/model_schema.json: 100.000%|██████████| 482/482 elapsed<00:01 remaining<00:00\n",
      "Model export complete: 100%|██████████| 6/6 [00:12<00:00,  2.10s/it]                   \n"
     ]
    },
    {
     "name": "stdout",
     "output_type": "stream",
     "text": [
      "Model created, explore it at https://demo.hops.works:443/p/14455/models/demand_forecaster_item10103555_loc3/1\n",
      "Training model 40/200 (Item: 10018364, Location: 3)\n",
      "Finished: Reading data from Hopsworks, using Hopsworks Feature Query Service (0.73s) \n",
      "2025-05-09 11:09:01,250 INFO: Provenance cached data - overwriting last accessed/created training dataset from 39 to 40.\n",
      "  RandomForest: RMSE: 1008.88\n",
      "  XGBoost: RMSE: 1009.54\n"
     ]
    },
    {
     "name": "stderr",
     "output_type": "stream",
     "text": [
      "Uploading /Users/lex/Documents/1000models/notebooks/demand_forecaster_item10018364_loc3/model.joblib: 100.000%|██████████| 716833/716833 elapsed<00:02 remaining<00:00\n",
      "Uploading /Users/lex/Documents/1000models/notebooks/input_example.json: 100.000%|██████████| 23/23 elapsed<00:01 remaining<00:00\n",
      "Uploading /Users/lex/Documents/1000models/notebooks/model_schema.json: 100.000%|██████████| 482/482 elapsed<00:01 remaining<00:00\n",
      "Model export complete: 100%|██████████| 6/6 [00:13<00:00,  2.26s/it]                   \n"
     ]
    },
    {
     "name": "stdout",
     "output_type": "stream",
     "text": [
      "Model created, explore it at https://demo.hops.works:443/p/14455/models/demand_forecaster_item10018364_loc3/1\n",
      "Finished: Reading data from Hopsworks, using Hopsworks Feature Query Service (0.59s) \n",
      "2025-05-09 11:09:20,050 INFO: Provenance cached data - overwriting last accessed/created training dataset from 40 to 41.\n"
     ]
    },
    {
     "name": "stderr",
     "output_type": "stream",
     "text": [
      "Uploading /Users/lex/Documents/1000models/notebooks/demand_forecaster_item8258677_loc3/model.json: 100.000%|██████████| 196478/196478 elapsed<00:02 remaining<00:00\n",
      "Uploading /Users/lex/Documents/1000models/notebooks/input_example.json: 100.000%|██████████| 23/23 elapsed<00:01 remaining<00:00\n",
      "Uploading /Users/lex/Documents/1000models/notebooks/model_schema.json: 100.000%|██████████| 482/482 elapsed<00:01 remaining<00:00\n",
      "Model export complete: 100%|██████████| 6/6 [00:13<00:00,  2.24s/it]                   \n"
     ]
    },
    {
     "name": "stdout",
     "output_type": "stream",
     "text": [
      "Model created, explore it at https://demo.hops.works:443/p/14455/models/demand_forecaster_item8258677_loc3/1\n",
      "Finished: Reading data from Hopsworks, using Hopsworks Feature Query Service (0.69s) \n",
      "2025-05-09 11:09:38,986 INFO: Provenance cached data - overwriting last accessed/created training dataset from 41 to 42.\n"
     ]
    },
    {
     "name": "stderr",
     "output_type": "stream",
     "text": [
      "Uploading /Users/lex/Documents/1000models/notebooks/demand_forecaster_item9913317_loc3/model.json: 100.000%|██████████| 201264/201264 elapsed<00:02 remaining<00:00\n",
      "Uploading /Users/lex/Documents/1000models/notebooks/input_example.json: 100.000%|██████████| 23/23 elapsed<00:01 remaining<00:00\n",
      "Uploading /Users/lex/Documents/1000models/notebooks/model_schema.json: 100.000%|██████████| 482/482 elapsed<00:01 remaining<00:00\n",
      "Model export complete: 100%|██████████| 6/6 [00:13<00:00,  2.20s/it]                   \n"
     ]
    },
    {
     "name": "stdout",
     "output_type": "stream",
     "text": [
      "Model created, explore it at https://demo.hops.works:443/p/14455/models/demand_forecaster_item9913317_loc3/1\n",
      "Finished: Reading data from Hopsworks, using Hopsworks Feature Query Service (0.79s) \n",
      "2025-05-09 11:09:57,196 INFO: Provenance cached data - overwriting last accessed/created training dataset from 42 to 43.\n"
     ]
    },
    {
     "name": "stderr",
     "output_type": "stream",
     "text": [
      "Uploading /Users/lex/Documents/1000models/notebooks/demand_forecaster_item9778610_loc3/model.joblib: 100.000%|██████████| 716833/716833 elapsed<00:02 remaining<00:00\n",
      "Uploading /Users/lex/Documents/1000models/notebooks/input_example.json: 100.000%|██████████| 23/23 elapsed<00:01 remaining<00:00\n",
      "Uploading /Users/lex/Documents/1000models/notebooks/model_schema.json: 100.000%|██████████| 482/482 elapsed<00:01 remaining<00:00\n",
      "Model export complete: 100%|██████████| 6/6 [00:13<00:00,  2.26s/it]                   \n"
     ]
    },
    {
     "name": "stdout",
     "output_type": "stream",
     "text": [
      "Model created, explore it at https://demo.hops.works:443/p/14455/models/demand_forecaster_item9778610_loc3/1\n",
      "Finished: Reading data from Hopsworks, using Hopsworks Feature Query Service (0.73s) \n",
      "2025-05-09 11:10:15,742 INFO: Provenance cached data - overwriting last accessed/created training dataset from 43 to 44.\n"
     ]
    },
    {
     "name": "stderr",
     "output_type": "stream",
     "text": [
      "Uploading /Users/lex/Documents/1000models/notebooks/demand_forecaster_item9033337_loc3/model.joblib: 100.000%|██████████| 716833/716833 elapsed<00:03 remaining<00:00\n",
      "Uploading /Users/lex/Documents/1000models/notebooks/input_example.json: 100.000%|██████████| 23/23 elapsed<00:01 remaining<00:00\n",
      "Uploading /Users/lex/Documents/1000models/notebooks/model_schema.json: 100.000%|██████████| 482/482 elapsed<00:02 remaining<00:00\n",
      "Model export complete: 100%|██████████| 6/6 [00:15<00:00,  2.51s/it]                   \n"
     ]
    },
    {
     "name": "stdout",
     "output_type": "stream",
     "text": [
      "Model created, explore it at https://demo.hops.works:443/p/14455/models/demand_forecaster_item9033337_loc3/1\n",
      "Training model 45/200 (Item: 9033029, Location: 3)\n",
      "Finished: Reading data from Hopsworks, using Hopsworks Feature Query Service (0.67s) \n",
      "2025-05-09 11:10:36,591 INFO: Provenance cached data - overwriting last accessed/created training dataset from 44 to 45.\n",
      "  RandomForest: RMSE: 1141.89\n",
      "  XGBoost: RMSE: 1142.11\n"
     ]
    },
    {
     "name": "stderr",
     "output_type": "stream",
     "text": [
      "Uploading /Users/lex/Documents/1000models/notebooks/demand_forecaster_item9033029_loc3/model.joblib: 100.000%|██████████| 716833/716833 elapsed<00:02 remaining<00:00\n",
      "Uploading /Users/lex/Documents/1000models/notebooks/input_example.json: 100.000%|██████████| 23/23 elapsed<00:01 remaining<00:00\n",
      "Uploading /Users/lex/Documents/1000models/notebooks/model_schema.json: 100.000%|██████████| 482/482 elapsed<00:01 remaining<00:00\n",
      "Model export complete: 100%|██████████| 6/6 [00:13<00:00,  2.26s/it]                   \n"
     ]
    },
    {
     "name": "stdout",
     "output_type": "stream",
     "text": [
      "Model created, explore it at https://demo.hops.works:443/p/14455/models/demand_forecaster_item9033029_loc3/1\n",
      "Finished: Reading data from Hopsworks, using Hopsworks Feature Query Service (0.62s) \n",
      "2025-05-09 11:10:55,520 INFO: Provenance cached data - overwriting last accessed/created training dataset from 45 to 46.\n"
     ]
    },
    {
     "name": "stderr",
     "output_type": "stream",
     "text": [
      "Uploading /Users/lex/Documents/1000models/notebooks/demand_forecaster_item9680126_loc3/model.joblib: 100.000%|██████████| 716833/716833 elapsed<00:03 remaining<00:00\n",
      "Uploading /Users/lex/Documents/1000models/notebooks/input_example.json: 100.000%|██████████| 23/23 elapsed<00:01 remaining<00:00\n",
      "Uploading /Users/lex/Documents/1000models/notebooks/model_schema.json: 100.000%|██████████| 482/482 elapsed<00:01 remaining<00:00\n",
      "Model export complete: 100%|██████████| 6/6 [00:13<00:00,  2.29s/it]                   \n"
     ]
    },
    {
     "name": "stdout",
     "output_type": "stream",
     "text": [
      "Model created, explore it at https://demo.hops.works:443/p/14455/models/demand_forecaster_item9680126_loc3/1\n",
      "Finished: Reading data from Hopsworks, using Hopsworks Feature Query Service (0.62s) \n",
      "2025-05-09 11:11:14,264 INFO: Provenance cached data - overwriting last accessed/created training dataset from 46 to 47.\n"
     ]
    },
    {
     "name": "stderr",
     "output_type": "stream",
     "text": [
      "Uploading /Users/lex/Documents/1000models/notebooks/demand_forecaster_item8036087_loc3/model.joblib: 100.000%|██████████| 716833/716833 elapsed<00:02 remaining<00:00\n",
      "Uploading /Users/lex/Documents/1000models/notebooks/input_example.json: 100.000%|██████████| 23/23 elapsed<00:01 remaining<00:00\n",
      "Uploading /Users/lex/Documents/1000models/notebooks/model_schema.json: 100.000%|██████████| 482/482 elapsed<00:01 remaining<00:00\n",
      "Model export complete: 100%|██████████| 6/6 [00:13<00:00,  2.30s/it]                   \n"
     ]
    },
    {
     "name": "stdout",
     "output_type": "stream",
     "text": [
      "Model created, explore it at https://demo.hops.works:443/p/14455/models/demand_forecaster_item8036087_loc3/1\n",
      "Finished: Reading data from Hopsworks, using Hopsworks Feature Query Service (0.60s) \n",
      "2025-05-09 11:11:33,239 INFO: Provenance cached data - overwriting last accessed/created training dataset from 47 to 48.\n"
     ]
    },
    {
     "name": "stderr",
     "output_type": "stream",
     "text": [
      "Uploading /Users/lex/Documents/1000models/notebooks/demand_forecaster_item9052807_loc3/model.joblib: 100.000%|██████████| 716833/716833 elapsed<00:02 remaining<00:00\n",
      "Uploading /Users/lex/Documents/1000models/notebooks/input_example.json: 100.000%|██████████| 23/23 elapsed<00:01 remaining<00:00\n",
      "Uploading /Users/lex/Documents/1000models/notebooks/model_schema.json: 100.000%|██████████| 482/482 elapsed<00:01 remaining<00:00\n",
      "Model export complete: 100%|██████████| 6/6 [00:13<00:00,  2.17s/it]                   \n"
     ]
    },
    {
     "name": "stdout",
     "output_type": "stream",
     "text": [
      "Model created, explore it at https://demo.hops.works:443/p/14455/models/demand_forecaster_item9052807_loc3/1\n",
      "Finished: Reading data from Hopsworks, using Hopsworks Feature Query Service (0.56s) \n",
      "2025-05-09 11:11:51,376 INFO: Provenance cached data - overwriting last accessed/created training dataset from 48 to 49.\n"
     ]
    },
    {
     "name": "stderr",
     "output_type": "stream",
     "text": [
      "Uploading /Users/lex/Documents/1000models/notebooks/demand_forecaster_item7971254_loc3/model.joblib: 100.000%|██████████| 716833/716833 elapsed<00:02 remaining<00:00\n",
      "Uploading /Users/lex/Documents/1000models/notebooks/input_example.json: 100.000%|██████████| 23/23 elapsed<00:01 remaining<00:00\n",
      "Uploading /Users/lex/Documents/1000models/notebooks/model_schema.json: 100.000%|██████████| 482/482 elapsed<00:01 remaining<00:00\n",
      "Model export complete: 100%|██████████| 6/6 [00:13<00:00,  2.19s/it]                   \n"
     ]
    },
    {
     "name": "stdout",
     "output_type": "stream",
     "text": [
      "Model created, explore it at https://demo.hops.works:443/p/14455/models/demand_forecaster_item7971254_loc3/1\n",
      "Training model 50/200 (Item: 10007563, Location: 3)\n",
      "Finished: Reading data from Hopsworks, using Hopsworks Feature Query Service (0.56s) \n",
      "2025-05-09 11:12:09,727 INFO: Provenance cached data - overwriting last accessed/created training dataset from 49 to 50.\n",
      "  RandomForest: RMSE: 1086.65\n",
      "  XGBoost: RMSE: 1086.35\n"
     ]
    },
    {
     "name": "stderr",
     "output_type": "stream",
     "text": [
      "Uploading /Users/lex/Documents/1000models/notebooks/demand_forecaster_item10007563_loc3/model.json: 100.000%|██████████| 186770/186770 elapsed<00:02 remaining<00:00\n",
      "Uploading /Users/lex/Documents/1000models/notebooks/input_example.json: 100.000%|██████████| 23/23 elapsed<00:01 remaining<00:00\n",
      "Uploading /Users/lex/Documents/1000models/notebooks/model_schema.json: 100.000%|██████████| 482/482 elapsed<00:01 remaining<00:00\n",
      "Model export complete: 100%|██████████| 6/6 [00:13<00:00,  2.19s/it]                   \n"
     ]
    },
    {
     "name": "stdout",
     "output_type": "stream",
     "text": [
      "Model created, explore it at https://demo.hops.works:443/p/14455/models/demand_forecaster_item10007563_loc3/1\n",
      "Finished: Reading data from Hopsworks, using Hopsworks Feature Query Service (0.83s) \n",
      "2025-05-09 11:12:28,769 INFO: Provenance cached data - overwriting last accessed/created training dataset from 50 to 51.\n"
     ]
    },
    {
     "name": "stderr",
     "output_type": "stream",
     "text": [
      "Uploading /Users/lex/Documents/1000models/notebooks/demand_forecaster_item8271129_loc3/model.joblib: 100.000%|██████████| 716833/716833 elapsed<00:02 remaining<00:00\n",
      "Uploading /Users/lex/Documents/1000models/notebooks/input_example.json: 100.000%|██████████| 23/23 elapsed<00:01 remaining<00:00\n",
      "Uploading /Users/lex/Documents/1000models/notebooks/model_schema.json: 100.000%|██████████| 482/482 elapsed<00:01 remaining<00:00\n",
      "Model export complete: 100%|██████████| 6/6 [00:13<00:00,  2.23s/it]                   \n"
     ]
    },
    {
     "name": "stdout",
     "output_type": "stream",
     "text": [
      "Model created, explore it at https://demo.hops.works:443/p/14455/models/demand_forecaster_item8271129_loc3/1\n",
      "Finished: Reading data from Hopsworks, using Hopsworks Feature Query Service (0.57s) \n",
      "2025-05-09 11:12:47,169 INFO: Provenance cached data - overwriting last accessed/created training dataset from 51 to 52.\n"
     ]
    },
    {
     "name": "stderr",
     "output_type": "stream",
     "text": [
      "Uploading /Users/lex/Documents/1000models/notebooks/demand_forecaster_item8237663_loc3/model.joblib: 100.000%|██████████| 716833/716833 elapsed<00:02 remaining<00:00\n",
      "Uploading /Users/lex/Documents/1000models/notebooks/input_example.json: 100.000%|██████████| 23/23 elapsed<00:01 remaining<00:00\n",
      "Uploading /Users/lex/Documents/1000models/notebooks/model_schema.json: 100.000%|██████████| 482/482 elapsed<00:01 remaining<00:00\n",
      "Model export complete: 100%|██████████| 6/6 [00:12<00:00,  2.12s/it]                   \n"
     ]
    },
    {
     "name": "stdout",
     "output_type": "stream",
     "text": [
      "Model created, explore it at https://demo.hops.works:443/p/14455/models/demand_forecaster_item8237663_loc3/1\n",
      "Finished: Reading data from Hopsworks, using Hopsworks Feature Query Service (0.63s) \n",
      "2025-05-09 11:13:05,016 INFO: Provenance cached data - overwriting last accessed/created training dataset from 52 to 53.\n"
     ]
    },
    {
     "name": "stderr",
     "output_type": "stream",
     "text": [
      "Uploading /Users/lex/Documents/1000models/notebooks/demand_forecaster_item9152472_loc3/model.json: 100.000%|██████████| 199903/199903 elapsed<00:02 remaining<00:00\n",
      "Uploading /Users/lex/Documents/1000models/notebooks/input_example.json: 100.000%|██████████| 23/23 elapsed<00:01 remaining<00:00\n",
      "Uploading /Users/lex/Documents/1000models/notebooks/model_schema.json: 100.000%|██████████| 482/482 elapsed<00:01 remaining<00:00\n",
      "Model export complete: 100%|██████████| 6/6 [00:13<00:00,  2.19s/it]                   \n"
     ]
    },
    {
     "name": "stdout",
     "output_type": "stream",
     "text": [
      "Model created, explore it at https://demo.hops.works:443/p/14455/models/demand_forecaster_item9152472_loc3/1\n",
      "Finished: Reading data from Hopsworks, using Hopsworks Feature Query Service (0.58s) \n",
      "2025-05-09 11:13:23,577 INFO: Provenance cached data - overwriting last accessed/created training dataset from 53 to 54.\n"
     ]
    },
    {
     "name": "stderr",
     "output_type": "stream",
     "text": [
      "Uploading /Users/lex/Documents/1000models/notebooks/demand_forecaster_item9152850_loc3/model.joblib: 100.000%|██████████| 716833/716833 elapsed<00:02 remaining<00:00\n",
      "Uploading /Users/lex/Documents/1000models/notebooks/input_example.json: 100.000%|██████████| 23/23 elapsed<00:01 remaining<00:00\n",
      "Uploading /Users/lex/Documents/1000models/notebooks/model_schema.json: 100.000%|██████████| 482/482 elapsed<00:01 remaining<00:00\n",
      "Model export complete: 100%|██████████| 6/6 [00:12<00:00,  2.10s/it]                   \n"
     ]
    },
    {
     "name": "stdout",
     "output_type": "stream",
     "text": [
      "Model created, explore it at https://demo.hops.works:443/p/14455/models/demand_forecaster_item9152850_loc3/1\n",
      "Training model 55/200 (Item: 9160916, Location: 3)\n",
      "Finished: Reading data from Hopsworks, using Hopsworks Feature Query Service (0.99s) \n",
      "2025-05-09 11:13:42,458 INFO: Provenance cached data - overwriting last accessed/created training dataset from 54 to 55.\n",
      "  RandomForest: RMSE: 1070.85\n",
      "  XGBoost: RMSE: 1071.10\n"
     ]
    },
    {
     "name": "stderr",
     "output_type": "stream",
     "text": [
      "Uploading /Users/lex/Documents/1000models/notebooks/demand_forecaster_item9160916_loc3/model.joblib: 100.000%|██████████| 716833/716833 elapsed<00:02 remaining<00:00\n",
      "Uploading /Users/lex/Documents/1000models/notebooks/input_example.json: 100.000%|██████████| 23/23 elapsed<00:01 remaining<00:00\n",
      "Uploading /Users/lex/Documents/1000models/notebooks/model_schema.json: 100.000%|██████████| 482/482 elapsed<00:01 remaining<00:00\n",
      "Model export complete: 100%|██████████| 6/6 [00:13<00:00,  2.28s/it]                   \n"
     ]
    },
    {
     "name": "stdout",
     "output_type": "stream",
     "text": [
      "Model created, explore it at https://demo.hops.works:443/p/14455/models/demand_forecaster_item9160916_loc3/1\n",
      "Finished: Reading data from Hopsworks, using Hopsworks Feature Query Service (0.62s) \n",
      "2025-05-09 11:14:01,381 INFO: Provenance cached data - overwriting last accessed/created training dataset from 55 to 56.\n"
     ]
    },
    {
     "name": "stderr",
     "output_type": "stream",
     "text": [
      "Uploading /Users/lex/Documents/1000models/notebooks/demand_forecaster_item9017646_loc3/model.json: 100.000%|██████████| 188041/188041 elapsed<00:01 remaining<00:00\n",
      "Uploading /Users/lex/Documents/1000models/notebooks/input_example.json: 100.000%|██████████| 23/23 elapsed<00:01 remaining<00:00\n",
      "Uploading /Users/lex/Documents/1000models/notebooks/model_schema.json: 100.000%|██████████| 482/482 elapsed<00:01 remaining<00:00\n",
      "Model export complete: 100%|██████████| 6/6 [00:12<00:00,  2.12s/it]                   \n"
     ]
    },
    {
     "name": "stdout",
     "output_type": "stream",
     "text": [
      "Model created, explore it at https://demo.hops.works:443/p/14455/models/demand_forecaster_item9017646_loc3/1\n",
      "Finished: Reading data from Hopsworks, using Hopsworks Feature Query Service (0.65s) \n",
      "2025-05-09 11:14:19,666 INFO: Provenance cached data - overwriting last accessed/created training dataset from 56 to 57.\n"
     ]
    },
    {
     "name": "stderr",
     "output_type": "stream",
     "text": [
      "Uploading /Users/lex/Documents/1000models/notebooks/demand_forecaster_item8280375_loc3/model.json: 100.000%|██████████| 205429/205429 elapsed<00:01 remaining<00:00\n",
      "Uploading /Users/lex/Documents/1000models/notebooks/input_example.json: 100.000%|██████████| 23/23 elapsed<00:01 remaining<00:00\n",
      "Uploading /Users/lex/Documents/1000models/notebooks/model_schema.json: 100.000%|██████████| 482/482 elapsed<00:01 remaining<00:00\n",
      "Model export complete: 100%|██████████| 6/6 [00:12<00:00,  2.07s/it]                   \n"
     ]
    },
    {
     "name": "stdout",
     "output_type": "stream",
     "text": [
      "Model created, explore it at https://demo.hops.works:443/p/14455/models/demand_forecaster_item8280375_loc3/1\n",
      "Finished: Reading data from Hopsworks, using Hopsworks Feature Query Service (0.57s) \n",
      "2025-05-09 11:14:37,062 INFO: Provenance cached data - overwriting last accessed/created training dataset from 57 to 58.\n"
     ]
    },
    {
     "name": "stderr",
     "output_type": "stream",
     "text": [
      "Uploading /Users/lex/Documents/1000models/notebooks/demand_forecaster_item8040800_loc3/model.json: 100.000%|██████████| 201742/201742 elapsed<00:01 remaining<00:00\n",
      "Uploading /Users/lex/Documents/1000models/notebooks/input_example.json: 100.000%|██████████| 23/23 elapsed<00:01 remaining<00:00\n",
      "Uploading /Users/lex/Documents/1000models/notebooks/model_schema.json: 100.000%|██████████| 482/482 elapsed<00:01 remaining<00:00\n",
      "Model export complete: 100%|██████████| 6/6 [00:12<00:00,  2.05s/it]                   \n"
     ]
    },
    {
     "name": "stdout",
     "output_type": "stream",
     "text": [
      "Model created, explore it at https://demo.hops.works:443/p/14455/models/demand_forecaster_item8040800_loc3/1\n",
      "Finished: Reading data from Hopsworks, using Hopsworks Feature Query Service (0.57s) \n",
      "2025-05-09 11:14:54,495 INFO: Provenance cached data - overwriting last accessed/created training dataset from 58 to 59.\n"
     ]
    },
    {
     "name": "stderr",
     "output_type": "stream",
     "text": [
      "Uploading /Users/lex/Documents/1000models/notebooks/demand_forecaster_item8214039_loc3/model.json: 100.000%|██████████| 187903/187903 elapsed<00:02 remaining<00:00\n",
      "Uploading /Users/lex/Documents/1000models/notebooks/input_example.json: 100.000%|██████████| 23/23 elapsed<00:01 remaining<00:00\n",
      "Uploading /Users/lex/Documents/1000models/notebooks/model_schema.json: 100.000%|██████████| 482/482 elapsed<00:01 remaining<00:00\n",
      "Model export complete: 100%|██████████| 6/6 [00:12<00:00,  2.08s/it]                   \n"
     ]
    },
    {
     "name": "stdout",
     "output_type": "stream",
     "text": [
      "Model created, explore it at https://demo.hops.works:443/p/14455/models/demand_forecaster_item8214039_loc3/1\n",
      "Training model 60/200 (Item: 8092882, Location: 3)\n",
      "Finished: Reading data from Hopsworks, using Hopsworks Feature Query Service (0.64s) \n",
      "2025-05-09 11:15:11,863 INFO: Provenance cached data - overwriting last accessed/created training dataset from 59 to 60.\n",
      "  RandomForest: RMSE: 1161.93\n",
      "  XGBoost: RMSE: 1162.06\n"
     ]
    },
    {
     "name": "stderr",
     "output_type": "stream",
     "text": [
      "Uploading /Users/lex/Documents/1000models/notebooks/demand_forecaster_item8092882_loc3/model.joblib: 100.000%|██████████| 716833/716833 elapsed<00:02 remaining<00:00\n",
      "Uploading /Users/lex/Documents/1000models/notebooks/input_example.json: 100.000%|██████████| 23/23 elapsed<00:01 remaining<00:00\n",
      "Uploading /Users/lex/Documents/1000models/notebooks/model_schema.json: 100.000%|██████████| 482/482 elapsed<00:01 remaining<00:00\n",
      "Model export complete: 100%|██████████| 6/6 [00:13<00:00,  2.33s/it]                   \n"
     ]
    },
    {
     "name": "stdout",
     "output_type": "stream",
     "text": [
      "Model created, explore it at https://demo.hops.works:443/p/14455/models/demand_forecaster_item8092882_loc3/1\n",
      "Finished: Reading data from Hopsworks, using Hopsworks Feature Query Service (0.58s) \n",
      "2025-05-09 11:15:31,127 INFO: Provenance cached data - overwriting last accessed/created training dataset from 60 to 61.\n"
     ]
    },
    {
     "name": "stderr",
     "output_type": "stream",
     "text": [
      "Uploading /Users/lex/Documents/1000models/notebooks/demand_forecaster_item8300770_loc3/model.json: 100.000%|██████████| 201818/201818 elapsed<00:01 remaining<00:00\n",
      "Uploading /Users/lex/Documents/1000models/notebooks/input_example.json: 100.000%|██████████| 23/23 elapsed<00:01 remaining<00:00\n",
      "Uploading /Users/lex/Documents/1000models/notebooks/model_schema.json: 100.000%|██████████| 482/482 elapsed<00:01 remaining<00:00\n",
      "Model export complete: 100%|██████████| 6/6 [00:12<00:00,  2.08s/it]                   \n"
     ]
    },
    {
     "name": "stdout",
     "output_type": "stream",
     "text": [
      "Model created, explore it at https://demo.hops.works:443/p/14455/models/demand_forecaster_item8300770_loc3/1\n",
      "Finished: Reading data from Hopsworks, using Hopsworks Feature Query Service (0.60s) \n",
      "2025-05-09 11:15:48,866 INFO: Provenance cached data - overwriting last accessed/created training dataset from 61 to 62.\n"
     ]
    },
    {
     "name": "stderr",
     "output_type": "stream",
     "text": [
      "Uploading /Users/lex/Documents/1000models/notebooks/demand_forecaster_item8456645_loc3/model.json: 100.000%|██████████| 190169/190169 elapsed<00:01 remaining<00:00\n",
      "Uploading /Users/lex/Documents/1000models/notebooks/input_example.json: 100.000%|██████████| 23/23 elapsed<00:01 remaining<00:00\n",
      "Uploading /Users/lex/Documents/1000models/notebooks/model_schema.json: 100.000%|██████████| 482/482 elapsed<00:01 remaining<00:00\n",
      "Model export complete: 100%|██████████| 6/6 [00:12<00:00,  2.09s/it]                   \n"
     ]
    },
    {
     "name": "stdout",
     "output_type": "stream",
     "text": [
      "Model created, explore it at https://demo.hops.works:443/p/14455/models/demand_forecaster_item8456645_loc3/1\n",
      "Finished: Reading data from Hopsworks, using Hopsworks Feature Query Service (0.52s) \n",
      "2025-05-09 11:16:06,465 INFO: Provenance cached data - overwriting last accessed/created training dataset from 62 to 63.\n"
     ]
    },
    {
     "name": "stderr",
     "output_type": "stream",
     "text": [
      "Uploading /Users/lex/Documents/1000models/notebooks/demand_forecaster_item8230302_loc3/model.json: 100.000%|██████████| 187642/187642 elapsed<00:01 remaining<00:00\n",
      "Uploading /Users/lex/Documents/1000models/notebooks/input_example.json: 100.000%|██████████| 23/23 elapsed<00:01 remaining<00:00\n",
      "Uploading /Users/lex/Documents/1000models/notebooks/model_schema.json: 100.000%|██████████| 482/482 elapsed<00:01 remaining<00:00\n",
      "Model export complete: 100%|██████████| 6/6 [00:11<00:00,  1.97s/it]                   \n"
     ]
    },
    {
     "name": "stdout",
     "output_type": "stream",
     "text": [
      "Model created, explore it at https://demo.hops.works:443/p/14455/models/demand_forecaster_item8230302_loc3/1\n",
      "Finished: Reading data from Hopsworks, using Hopsworks Feature Query Service (0.68s) \n",
      "2025-05-09 11:16:23,448 INFO: Provenance cached data - overwriting last accessed/created training dataset from 63 to 64.\n"
     ]
    },
    {
     "name": "stderr",
     "output_type": "stream",
     "text": [
      "Uploading /Users/lex/Documents/1000models/notebooks/demand_forecaster_item9153700_loc3/model.json: 100.000%|██████████| 178905/178905 elapsed<00:02 remaining<00:00\n",
      "Uploading /Users/lex/Documents/1000models/notebooks/input_example.json: 100.000%|██████████| 23/23 elapsed<00:01 remaining<00:00\n",
      "Uploading /Users/lex/Documents/1000models/notebooks/model_schema.json: 100.000%|██████████| 482/482 elapsed<00:01 remaining<00:00\n",
      "Model export complete: 100%|██████████| 6/6 [00:12<00:00,  2.16s/it]                   \n"
     ]
    },
    {
     "name": "stdout",
     "output_type": "stream",
     "text": [
      "Model created, explore it at https://demo.hops.works:443/p/14455/models/demand_forecaster_item9153700_loc3/1\n",
      "Training model 65/200 (Item: 8044533, Location: 3)\n",
      "Finished: Reading data from Hopsworks, using Hopsworks Feature Query Service (0.52s) \n",
      "2025-05-09 11:16:41,878 INFO: Provenance cached data - overwriting last accessed/created training dataset from 64 to 65.\n",
      "  RandomForest: RMSE: 1168.17\n",
      "  XGBoost: RMSE: 1168.20\n"
     ]
    },
    {
     "name": "stderr",
     "output_type": "stream",
     "text": [
      "Uploading /Users/lex/Documents/1000models/notebooks/demand_forecaster_item8044533_loc3/model.joblib: 100.000%|██████████| 716833/716833 elapsed<00:02 remaining<00:00\n",
      "Uploading /Users/lex/Documents/1000models/notebooks/input_example.json: 100.000%|██████████| 23/23 elapsed<00:01 remaining<00:00\n",
      "Uploading /Users/lex/Documents/1000models/notebooks/model_schema.json: 100.000%|██████████| 482/482 elapsed<00:01 remaining<00:00\n",
      "Model export complete: 100%|██████████| 6/6 [00:12<00:00,  2.16s/it]                   \n"
     ]
    },
    {
     "name": "stdout",
     "output_type": "stream",
     "text": [
      "Model created, explore it at https://demo.hops.works:443/p/14455/models/demand_forecaster_item8044533_loc3/1\n",
      "Finished: Reading data from Hopsworks, using Hopsworks Feature Query Service (0.63s) \n",
      "2025-05-09 11:17:00,382 INFO: Provenance cached data - overwriting last accessed/created training dataset from 65 to 66.\n"
     ]
    },
    {
     "name": "stderr",
     "output_type": "stream",
     "text": [
      "Uploading /Users/lex/Documents/1000models/notebooks/demand_forecaster_item8448763_loc3/model.joblib: 100.000%|██████████| 716833/716833 elapsed<00:02 remaining<00:00\n",
      "Uploading /Users/lex/Documents/1000models/notebooks/input_example.json: 100.000%|██████████| 23/23 elapsed<00:01 remaining<00:00\n",
      "Uploading /Users/lex/Documents/1000models/notebooks/model_schema.json: 100.000%|██████████| 482/482 elapsed<00:01 remaining<00:00\n",
      "Model export complete: 100%|██████████| 6/6 [00:13<00:00,  2.17s/it]                   \n"
     ]
    },
    {
     "name": "stdout",
     "output_type": "stream",
     "text": [
      "Model created, explore it at https://demo.hops.works:443/p/14455/models/demand_forecaster_item8448763_loc3/1\n",
      "Finished: Reading data from Hopsworks, using Hopsworks Feature Query Service (0.66s) \n",
      "2025-05-09 11:17:18,605 INFO: Provenance cached data - overwriting last accessed/created training dataset from 66 to 67.\n"
     ]
    },
    {
     "name": "stderr",
     "output_type": "stream",
     "text": [
      "Uploading /Users/lex/Documents/1000models/notebooks/demand_forecaster_item8422580_loc3/model.json: 100.000%|██████████| 198713/198713 elapsed<00:02 remaining<00:00\n",
      "Uploading /Users/lex/Documents/1000models/notebooks/input_example.json: 100.000%|██████████| 23/23 elapsed<00:02 remaining<00:00\n",
      "Uploading /Users/lex/Documents/1000models/notebooks/model_schema.json: 100.000%|██████████| 482/482 elapsed<00:01 remaining<00:00\n",
      "Model export complete: 100%|██████████| 6/6 [00:13<00:00,  2.28s/it]                   \n"
     ]
    },
    {
     "name": "stdout",
     "output_type": "stream",
     "text": [
      "Model created, explore it at https://demo.hops.works:443/p/14455/models/demand_forecaster_item8422580_loc3/1\n",
      "Finished: Reading data from Hopsworks, using Hopsworks Feature Query Service (0.56s) \n",
      "2025-05-09 11:17:37,226 INFO: Provenance cached data - overwriting last accessed/created training dataset from 67 to 68.\n"
     ]
    },
    {
     "name": "stderr",
     "output_type": "stream",
     "text": [
      "Uploading /Users/lex/Documents/1000models/notebooks/demand_forecaster_item9592538_loc3/model.joblib: 100.000%|██████████| 716833/716833 elapsed<00:02 remaining<00:00\n",
      "Uploading /Users/lex/Documents/1000models/notebooks/input_example.json: 100.000%|██████████| 23/23 elapsed<00:01 remaining<00:00\n",
      "Uploading /Users/lex/Documents/1000models/notebooks/model_schema.json: 100.000%|██████████| 482/482 elapsed<00:01 remaining<00:00\n",
      "Model export complete: 100%|██████████| 6/6 [00:13<00:00,  2.21s/it]                   \n"
     ]
    },
    {
     "name": "stdout",
     "output_type": "stream",
     "text": [
      "Model created, explore it at https://demo.hops.works:443/p/14455/models/demand_forecaster_item9592538_loc3/1\n",
      "Finished: Reading data from Hopsworks, using Hopsworks Feature Query Service (0.56s) \n",
      "2025-05-09 11:17:55,541 INFO: Provenance cached data - overwriting last accessed/created training dataset from 68 to 69.\n"
     ]
    },
    {
     "name": "stderr",
     "output_type": "stream",
     "text": [
      "Uploading /Users/lex/Documents/1000models/notebooks/demand_forecaster_item9684698_loc3/model.joblib: 100.000%|██████████| 716833/716833 elapsed<00:01 remaining<00:00\n",
      "Uploading /Users/lex/Documents/1000models/notebooks/input_example.json: 100.000%|██████████| 23/23 elapsed<00:01 remaining<00:00\n",
      "Uploading /Users/lex/Documents/1000models/notebooks/model_schema.json: 100.000%|██████████| 482/482 elapsed<00:01 remaining<00:00\n",
      "Model export complete: 100%|██████████| 6/6 [00:12<00:00,  2.11s/it]                   \n"
     ]
    },
    {
     "name": "stdout",
     "output_type": "stream",
     "text": [
      "Model created, explore it at https://demo.hops.works:443/p/14455/models/demand_forecaster_item9684698_loc3/1\n",
      "Training model 70/200 (Item: 8465065, Location: 3)\n",
      "Finished: Reading data from Hopsworks, using Hopsworks Feature Query Service (0.64s) \n",
      "2025-05-09 11:18:13,526 INFO: Provenance cached data - overwriting last accessed/created training dataset from 69 to 70.\n",
      "  RandomForest: RMSE: 1021.31\n",
      "  XGBoost: RMSE: 1021.02\n"
     ]
    },
    {
     "name": "stderr",
     "output_type": "stream",
     "text": [
      "Uploading /Users/lex/Documents/1000models/notebooks/demand_forecaster_item8465065_loc3/model.json: 100.000%|██████████| 191956/191956 elapsed<00:02 remaining<00:00\n",
      "Uploading /Users/lex/Documents/1000models/notebooks/input_example.json: 100.000%|██████████| 23/23 elapsed<00:01 remaining<00:00\n",
      "Uploading /Users/lex/Documents/1000models/notebooks/model_schema.json: 100.000%|██████████| 482/482 elapsed<00:01 remaining<00:00\n",
      "Model export complete: 100%|██████████| 6/6 [00:13<00:00,  2.22s/it]                   \n"
     ]
    },
    {
     "name": "stdout",
     "output_type": "stream",
     "text": [
      "Model created, explore it at https://demo.hops.works:443/p/14455/models/demand_forecaster_item8465065_loc3/1\n",
      "Finished: Reading data from Hopsworks, using Hopsworks Feature Query Service (0.60s) \n",
      "2025-05-09 11:18:32,044 INFO: Provenance cached data - overwriting last accessed/created training dataset from 70 to 71.\n"
     ]
    },
    {
     "name": "stderr",
     "output_type": "stream",
     "text": [
      "Uploading /Users/lex/Documents/1000models/notebooks/demand_forecaster_item9650149_loc3/model.json: 100.000%|██████████| 195656/195656 elapsed<00:02 remaining<00:00\n",
      "Uploading /Users/lex/Documents/1000models/notebooks/input_example.json: 100.000%|██████████| 23/23 elapsed<00:02 remaining<00:00\n",
      "Uploading /Users/lex/Documents/1000models/notebooks/model_schema.json: 100.000%|██████████| 482/482 elapsed<00:01 remaining<00:00\n",
      "Model export complete: 100%|██████████| 6/6 [00:13<00:00,  2.21s/it]                   \n"
     ]
    },
    {
     "name": "stdout",
     "output_type": "stream",
     "text": [
      "Model created, explore it at https://demo.hops.works:443/p/14455/models/demand_forecaster_item9650149_loc3/1\n",
      "Finished: Reading data from Hopsworks, using Hopsworks Feature Query Service (0.51s) \n",
      "2025-05-09 11:18:50,867 INFO: Provenance cached data - overwriting last accessed/created training dataset from 71 to 72.\n"
     ]
    },
    {
     "name": "stderr",
     "output_type": "stream",
     "text": [
      "Uploading /Users/lex/Documents/1000models/notebooks/demand_forecaster_item8537514_loc3/model.joblib: 100.000%|██████████| 716833/716833 elapsed<00:01 remaining<00:00\n",
      "Uploading /Users/lex/Documents/1000models/notebooks/input_example.json: 100.000%|██████████| 23/23 elapsed<00:01 remaining<00:00\n",
      "Uploading /Users/lex/Documents/1000models/notebooks/model_schema.json: 100.000%|██████████| 482/482 elapsed<00:01 remaining<00:00\n",
      "Model export complete: 100%|██████████| 6/6 [00:12<00:00,  2.11s/it]                   \n"
     ]
    },
    {
     "name": "stdout",
     "output_type": "stream",
     "text": [
      "Model created, explore it at https://demo.hops.works:443/p/14455/models/demand_forecaster_item8537514_loc3/1\n",
      "Finished: Reading data from Hopsworks, using Hopsworks Feature Query Service (0.61s) \n",
      "2025-05-09 11:19:09,062 INFO: Provenance cached data - overwriting last accessed/created training dataset from 72 to 73.\n"
     ]
    },
    {
     "name": "stderr",
     "output_type": "stream",
     "text": [
      "Uploading /Users/lex/Documents/1000models/notebooks/demand_forecaster_item9776612_loc3/model.joblib: 100.000%|██████████| 716833/716833 elapsed<00:02 remaining<00:00\n",
      "Uploading /Users/lex/Documents/1000models/notebooks/input_example.json: 100.000%|██████████| 23/23 elapsed<00:01 remaining<00:00\n",
      "Uploading /Users/lex/Documents/1000models/notebooks/model_schema.json: 100.000%|██████████| 482/482 elapsed<00:01 remaining<00:00\n",
      "Model export complete: 100%|██████████| 6/6 [00:13<00:00,  2.21s/it]                   \n"
     ]
    },
    {
     "name": "stdout",
     "output_type": "stream",
     "text": [
      "Model created, explore it at https://demo.hops.works:443/p/14455/models/demand_forecaster_item9776612_loc3/1\n",
      "Finished: Reading data from Hopsworks, using Hopsworks Feature Query Service (0.51s) \n",
      "2025-05-09 11:19:27,740 INFO: Provenance cached data - overwriting last accessed/created training dataset from 73 to 74.\n"
     ]
    },
    {
     "name": "stderr",
     "output_type": "stream",
     "text": [
      "Uploading /Users/lex/Documents/1000models/notebooks/demand_forecaster_item9907735_loc3/model.json: 100.000%|██████████| 182687/182687 elapsed<00:01 remaining<00:00\n",
      "Uploading /Users/lex/Documents/1000models/notebooks/input_example.json: 100.000%|██████████| 23/23 elapsed<00:01 remaining<00:00\n",
      "Uploading /Users/lex/Documents/1000models/notebooks/model_schema.json: 100.000%|██████████| 482/482 elapsed<00:01 remaining<00:00\n",
      "Model export complete: 100%|██████████| 6/6 [00:12<00:00,  2.09s/it]                   \n"
     ]
    },
    {
     "name": "stdout",
     "output_type": "stream",
     "text": [
      "Model created, explore it at https://demo.hops.works:443/p/14455/models/demand_forecaster_item9907735_loc3/1\n",
      "Training model 75/200 (Item: 8610925, Location: 3)\n",
      "Finished: Reading data from Hopsworks, using Hopsworks Feature Query Service (0.88s) \n",
      "2025-05-09 11:19:45,595 INFO: Provenance cached data - overwriting last accessed/created training dataset from 74 to 75.\n",
      "  RandomForest: RMSE: 1146.35\n",
      "  XGBoost: RMSE: 1146.24\n"
     ]
    },
    {
     "name": "stderr",
     "output_type": "stream",
     "text": [
      "Uploading /Users/lex/Documents/1000models/notebooks/demand_forecaster_item8610925_loc3/model.json: 100.000%|██████████| 194893/194893 elapsed<00:01 remaining<00:00\n",
      "Uploading /Users/lex/Documents/1000models/notebooks/input_example.json: 100.000%|██████████| 23/23 elapsed<00:01 remaining<00:00\n",
      "Uploading /Users/lex/Documents/1000models/notebooks/model_schema.json: 100.000%|██████████| 482/482 elapsed<00:01 remaining<00:00\n",
      "Model export complete: 100%|██████████| 6/6 [00:11<00:00,  1.97s/it]                   \n"
     ]
    },
    {
     "name": "stdout",
     "output_type": "stream",
     "text": [
      "Model created, explore it at https://demo.hops.works:443/p/14455/models/demand_forecaster_item8610925_loc3/1\n",
      "Finished: Reading data from Hopsworks, using Hopsworks Feature Query Service (0.66s) \n",
      "2025-05-09 11:20:02,543 INFO: Provenance cached data - overwriting last accessed/created training dataset from 75 to 76.\n"
     ]
    },
    {
     "name": "stderr",
     "output_type": "stream",
     "text": [
      "Uploading /Users/lex/Documents/1000models/notebooks/demand_forecaster_item8063399_loc3/model.json: 100.000%|██████████| 206080/206080 elapsed<00:02 remaining<00:00\n",
      "Uploading /Users/lex/Documents/1000models/notebooks/input_example.json: 100.000%|██████████| 23/23 elapsed<00:01 remaining<00:00\n",
      "Uploading /Users/lex/Documents/1000models/notebooks/model_schema.json: 100.000%|██████████| 482/482 elapsed<00:01 remaining<00:00\n",
      "Model export complete: 100%|██████████| 6/6 [00:12<00:00,  2.08s/it]                   \n"
     ]
    },
    {
     "name": "stdout",
     "output_type": "stream",
     "text": [
      "Model created, explore it at https://demo.hops.works:443/p/14455/models/demand_forecaster_item8063399_loc3/1\n",
      "Finished: Reading data from Hopsworks, using Hopsworks Feature Query Service (0.67s) \n",
      "2025-05-09 11:20:20,344 INFO: Provenance cached data - overwriting last accessed/created training dataset from 76 to 77.\n"
     ]
    },
    {
     "name": "stderr",
     "output_type": "stream",
     "text": [
      "Uploading /Users/lex/Documents/1000models/notebooks/demand_forecaster_item9869711_loc3/model.joblib: 100.000%|██████████| 716833/716833 elapsed<00:02 remaining<00:00\n",
      "Uploading /Users/lex/Documents/1000models/notebooks/input_example.json: 100.000%|██████████| 23/23 elapsed<00:02 remaining<00:00\n",
      "Uploading /Users/lex/Documents/1000models/notebooks/model_schema.json: 100.000%|██████████| 482/482 elapsed<00:01 remaining<00:00\n",
      "Model export complete: 100%|██████████| 6/6 [00:14<00:00,  2.34s/it]                   \n"
     ]
    },
    {
     "name": "stdout",
     "output_type": "stream",
     "text": [
      "Model created, explore it at https://demo.hops.works:443/p/14455/models/demand_forecaster_item9869711_loc3/1\n",
      "Finished: Reading data from Hopsworks, using Hopsworks Feature Query Service (0.57s) \n",
      "2025-05-09 11:20:39,798 INFO: Provenance cached data - overwriting last accessed/created training dataset from 77 to 78.\n"
     ]
    },
    {
     "name": "stderr",
     "output_type": "stream",
     "text": [
      "Uploading /Users/lex/Documents/1000models/notebooks/demand_forecaster_item8172935_loc3/model.joblib: 100.000%|██████████| 716833/716833 elapsed<00:03 remaining<00:00\n",
      "Uploading /Users/lex/Documents/1000models/notebooks/input_example.json: 100.000%|██████████| 23/23 elapsed<00:02 remaining<00:00\n",
      "Uploading /Users/lex/Documents/1000models/notebooks/model_schema.json: 100.000%|██████████| 482/482 elapsed<00:01 remaining<00:00\n",
      "Model export complete: 100%|██████████| 6/6 [00:14<00:00,  2.36s/it]                   \n"
     ]
    },
    {
     "name": "stdout",
     "output_type": "stream",
     "text": [
      "Model created, explore it at https://demo.hops.works:443/p/14455/models/demand_forecaster_item8172935_loc3/1\n",
      "Finished: Reading data from Hopsworks, using Hopsworks Feature Query Service (0.78s) \n",
      "2025-05-09 11:20:59,385 INFO: Provenance cached data - overwriting last accessed/created training dataset from 78 to 79.\n"
     ]
    },
    {
     "name": "stderr",
     "output_type": "stream",
     "text": [
      "Uploading /Users/lex/Documents/1000models/notebooks/demand_forecaster_item8486686_loc3/model.json: 100.000%|██████████| 185572/185572 elapsed<00:02 remaining<00:00\n",
      "Uploading /Users/lex/Documents/1000models/notebooks/input_example.json: 100.000%|██████████| 23/23 elapsed<00:02 remaining<00:00\n",
      "Uploading /Users/lex/Documents/1000models/notebooks/model_schema.json: 100.000%|██████████| 482/482 elapsed<00:01 remaining<00:00\n",
      "Model export complete: 100%|██████████| 6/6 [00:13<00:00,  2.29s/it]                   \n"
     ]
    },
    {
     "name": "stdout",
     "output_type": "stream",
     "text": [
      "Model created, explore it at https://demo.hops.works:443/p/14455/models/demand_forecaster_item8486686_loc3/1\n",
      "Training model 80/200 (Item: 8442698, Location: 3)\n",
      "Finished: Reading data from Hopsworks, using Hopsworks Feature Query Service (0.78s) \n",
      "2025-05-09 11:21:18,316 INFO: Provenance cached data - overwriting last accessed/created training dataset from 79 to 80.\n",
      "  RandomForest: RMSE: 1079.65\n",
      "  XGBoost: RMSE: 1079.80\n"
     ]
    },
    {
     "name": "stderr",
     "output_type": "stream",
     "text": [
      "Uploading /Users/lex/Documents/1000models/notebooks/demand_forecaster_item8442698_loc3/model.joblib: 100.000%|██████████| 716833/716833 elapsed<00:02 remaining<00:00\n",
      "Uploading /Users/lex/Documents/1000models/notebooks/input_example.json: 100.000%|██████████| 23/23 elapsed<00:01 remaining<00:00\n",
      "Uploading /Users/lex/Documents/1000models/notebooks/model_schema.json: 100.000%|██████████| 482/482 elapsed<00:03 remaining<00:00\n",
      "Model export complete: 100%|██████████| 6/6 [00:14<00:00,  2.44s/it]                   \n"
     ]
    },
    {
     "name": "stdout",
     "output_type": "stream",
     "text": [
      "Model created, explore it at https://demo.hops.works:443/p/14455/models/demand_forecaster_item8442698_loc3/1\n",
      "Finished: Reading data from Hopsworks, using Hopsworks Feature Query Service (0.61s) \n",
      "2025-05-09 11:21:38,251 INFO: Provenance cached data - overwriting last accessed/created training dataset from 80 to 81.\n"
     ]
    },
    {
     "name": "stderr",
     "output_type": "stream",
     "text": [
      "Uploading /Users/lex/Documents/1000models/notebooks/demand_forecaster_item8468541_loc3/model.json: 100.000%|██████████| 202579/202579 elapsed<00:02 remaining<00:00\n",
      "Uploading /Users/lex/Documents/1000models/notebooks/input_example.json: 100.000%|██████████| 23/23 elapsed<00:01 remaining<00:00\n",
      "Uploading /Users/lex/Documents/1000models/notebooks/model_schema.json: 100.000%|██████████| 482/482 elapsed<00:01 remaining<00:00\n",
      "Model export complete: 100%|██████████| 6/6 [00:13<00:00,  2.18s/it]                   \n"
     ]
    },
    {
     "name": "stdout",
     "output_type": "stream",
     "text": [
      "Model created, explore it at https://demo.hops.works:443/p/14455/models/demand_forecaster_item8468541_loc3/1\n",
      "Finished: Reading data from Hopsworks, using Hopsworks Feature Query Service (0.57s) \n",
      "2025-05-09 11:21:56,407 INFO: Provenance cached data - overwriting last accessed/created training dataset from 81 to 82.\n"
     ]
    },
    {
     "name": "stderr",
     "output_type": "stream",
     "text": [
      "Uploading /Users/lex/Documents/1000models/notebooks/demand_forecaster_item9586886_loc3/model.json: 100.000%|██████████| 176209/176209 elapsed<00:02 remaining<00:00\n",
      "Uploading /Users/lex/Documents/1000models/notebooks/input_example.json: 100.000%|██████████| 23/23 elapsed<00:01 remaining<00:00\n",
      "Uploading /Users/lex/Documents/1000models/notebooks/model_schema.json: 100.000%|██████████| 482/482 elapsed<00:01 remaining<00:00\n",
      "Model export complete: 100%|██████████| 6/6 [00:12<00:00,  2.14s/it]                   \n"
     ]
    },
    {
     "name": "stdout",
     "output_type": "stream",
     "text": [
      "Model created, explore it at https://demo.hops.works:443/p/14455/models/demand_forecaster_item9586886_loc3/1\n",
      "Finished: Reading data from Hopsworks, using Hopsworks Feature Query Service (0.52s) \n",
      "2025-05-09 11:22:14,385 INFO: Provenance cached data - overwriting last accessed/created training dataset from 82 to 83.\n"
     ]
    },
    {
     "name": "stderr",
     "output_type": "stream",
     "text": [
      "Uploading /Users/lex/Documents/1000models/notebooks/demand_forecaster_item8553672_loc3/model.joblib: 100.000%|██████████| 716833/716833 elapsed<00:01 remaining<00:00\n",
      "Uploading /Users/lex/Documents/1000models/notebooks/input_example.json: 100.000%|██████████| 23/23 elapsed<00:01 remaining<00:00\n",
      "Uploading /Users/lex/Documents/1000models/notebooks/model_schema.json: 100.000%|██████████| 482/482 elapsed<00:01 remaining<00:00\n",
      "Model export complete: 100%|██████████| 6/6 [00:12<00:00,  2.12s/it]                   \n"
     ]
    },
    {
     "name": "stdout",
     "output_type": "stream",
     "text": [
      "Model created, explore it at https://demo.hops.works:443/p/14455/models/demand_forecaster_item8553672_loc3/1\n",
      "Finished: Reading data from Hopsworks, using Hopsworks Feature Query Service (0.62s) \n",
      "2025-05-09 11:22:32,689 INFO: Provenance cached data - overwriting last accessed/created training dataset from 83 to 84.\n"
     ]
    },
    {
     "name": "stderr",
     "output_type": "stream",
     "text": [
      "Uploading /Users/lex/Documents/1000models/notebooks/demand_forecaster_item9052182_loc3/model.json: 100.000%|██████████| 184076/184076 elapsed<00:03 remaining<00:00\n",
      "Uploading /Users/lex/Documents/1000models/notebooks/input_example.json: 100.000%|██████████| 23/23 elapsed<00:02 remaining<00:00\n",
      "Uploading /Users/lex/Documents/1000models/notebooks/model_schema.json: 100.000%|██████████| 482/482 elapsed<00:01 remaining<00:00\n",
      "Model export complete: 100%|██████████| 6/6 [00:14<00:00,  2.40s/it]                   \n"
     ]
    },
    {
     "name": "stdout",
     "output_type": "stream",
     "text": [
      "Model created, explore it at https://demo.hops.works:443/p/14455/models/demand_forecaster_item9052182_loc3/1\n",
      "Training model 85/200 (Item: 8061373, Location: 3)\n",
      "Finished: Reading data from Hopsworks, using Hopsworks Feature Query Service (0.56s) \n",
      "2025-05-09 11:22:52,415 INFO: Provenance cached data - overwriting last accessed/created training dataset from 84 to 85.\n",
      "  RandomForest: RMSE: 1130.79\n",
      "  XGBoost: RMSE: 1130.84\n"
     ]
    },
    {
     "name": "stderr",
     "output_type": "stream",
     "text": [
      "Uploading /Users/lex/Documents/1000models/notebooks/demand_forecaster_item8061373_loc3/model.joblib: 100.000%|██████████| 716833/716833 elapsed<00:02 remaining<00:00\n",
      "Uploading /Users/lex/Documents/1000models/notebooks/input_example.json: 100.000%|██████████| 23/23 elapsed<00:01 remaining<00:00\n",
      "Uploading /Users/lex/Documents/1000models/notebooks/model_schema.json: 100.000%|██████████| 482/482 elapsed<00:01 remaining<00:00\n",
      "Model export complete: 100%|██████████| 6/6 [00:12<00:00,  2.12s/it]                   \n"
     ]
    },
    {
     "name": "stdout",
     "output_type": "stream",
     "text": [
      "Model created, explore it at https://demo.hops.works:443/p/14455/models/demand_forecaster_item8061373_loc3/1\n",
      "Finished: Reading data from Hopsworks, using Hopsworks Feature Query Service (0.69s) \n",
      "2025-05-09 11:23:10,401 INFO: Provenance cached data - overwriting last accessed/created training dataset from 85 to 86.\n"
     ]
    },
    {
     "name": "stderr",
     "output_type": "stream",
     "text": [
      "Uploading /Users/lex/Documents/1000models/notebooks/demand_forecaster_item8225491_loc3/model.json: 100.000%|██████████| 203552/203552 elapsed<00:01 remaining<00:00\n",
      "Uploading /Users/lex/Documents/1000models/notebooks/input_example.json: 100.000%|██████████| 23/23 elapsed<00:01 remaining<00:00\n",
      "Uploading /Users/lex/Documents/1000models/notebooks/model_schema.json: 100.000%|██████████| 482/482 elapsed<00:01 remaining<00:00\n",
      "Model export complete: 100%|██████████| 6/6 [00:13<00:00,  2.31s/it]                   \n"
     ]
    },
    {
     "name": "stdout",
     "output_type": "stream",
     "text": [
      "Model created, explore it at https://demo.hops.works:443/p/14455/models/demand_forecaster_item8225491_loc3/1\n",
      "Finished: Reading data from Hopsworks, using Hopsworks Feature Query Service (0.70s) \n",
      "2025-05-09 11:23:29,803 INFO: Provenance cached data - overwriting last accessed/created training dataset from 86 to 87.\n"
     ]
    },
    {
     "name": "stderr",
     "output_type": "stream",
     "text": [
      "Uploading /Users/lex/Documents/1000models/notebooks/demand_forecaster_item8594295_loc3/model.joblib: 100.000%|██████████| 716833/716833 elapsed<00:02 remaining<00:00\n",
      "Uploading /Users/lex/Documents/1000models/notebooks/input_example.json: 100.000%|██████████| 23/23 elapsed<00:01 remaining<00:00\n",
      "Uploading /Users/lex/Documents/1000models/notebooks/model_schema.json: 100.000%|██████████| 482/482 elapsed<00:01 remaining<00:00\n",
      "Model export complete: 100%|██████████| 6/6 [00:13<00:00,  2.26s/it]                   \n"
     ]
    },
    {
     "name": "stdout",
     "output_type": "stream",
     "text": [
      "Model created, explore it at https://demo.hops.works:443/p/14455/models/demand_forecaster_item8594295_loc3/1\n",
      "Finished: Reading data from Hopsworks, using Hopsworks Feature Query Service (0.64s) \n",
      "2025-05-09 11:23:48,702 INFO: Provenance cached data - overwriting last accessed/created training dataset from 87 to 88.\n"
     ]
    },
    {
     "name": "stderr",
     "output_type": "stream",
     "text": [
      "Uploading /Users/lex/Documents/1000models/notebooks/demand_forecaster_item9777506_loc3/model.json: 100.000%|██████████| 192496/192496 elapsed<00:02 remaining<00:00\n",
      "Uploading /Users/lex/Documents/1000models/notebooks/input_example.json: 100.000%|██████████| 23/23 elapsed<00:01 remaining<00:00\n",
      "Uploading /Users/lex/Documents/1000models/notebooks/model_schema.json: 100.000%|██████████| 482/482 elapsed<00:01 remaining<00:00\n",
      "Model export complete: 100%|██████████| 6/6 [00:13<00:00,  2.25s/it]                   \n"
     ]
    },
    {
     "name": "stdout",
     "output_type": "stream",
     "text": [
      "Model created, explore it at https://demo.hops.works:443/p/14455/models/demand_forecaster_item9777506_loc3/1\n",
      "Finished: Reading data from Hopsworks, using Hopsworks Feature Query Service (0.78s) \n",
      "2025-05-09 11:24:07,380 INFO: Provenance cached data - overwriting last accessed/created training dataset from 88 to 89.\n"
     ]
    },
    {
     "name": "stderr",
     "output_type": "stream",
     "text": [
      "Uploading /Users/lex/Documents/1000models/notebooks/demand_forecaster_item8619822_loc3/model.json: 100.000%|██████████| 197411/197411 elapsed<00:02 remaining<00:00\n",
      "Uploading /Users/lex/Documents/1000models/notebooks/input_example.json: 100.000%|██████████| 23/23 elapsed<00:02 remaining<00:00\n",
      "Uploading /Users/lex/Documents/1000models/notebooks/model_schema.json: 100.000%|██████████| 482/482 elapsed<00:02 remaining<00:00\n",
      "Model export complete: 100%|██████████| 6/6 [00:14<00:00,  2.40s/it]                   \n"
     ]
    },
    {
     "name": "stdout",
     "output_type": "stream",
     "text": [
      "Model created, explore it at https://demo.hops.works:443/p/14455/models/demand_forecaster_item8619822_loc3/1\n",
      "Training model 90/200 (Item: 9744578, Location: 3)\n",
      "Finished: Reading data from Hopsworks, using Hopsworks Feature Query Service (0.80s) \n",
      "2025-05-09 11:24:27,879 INFO: Provenance cached data - overwriting last accessed/created training dataset from 89 to 90.\n",
      "  RandomForest: RMSE: 1200.42\n",
      "  XGBoost: RMSE: 1200.51\n"
     ]
    },
    {
     "name": "stderr",
     "output_type": "stream",
     "text": [
      "Uploading /Users/lex/Documents/1000models/notebooks/demand_forecaster_item9744578_loc3/model.joblib: 100.000%|██████████| 716833/716833 elapsed<00:03 remaining<00:00\n",
      "Uploading /Users/lex/Documents/1000models/notebooks/input_example.json: 100.000%|██████████| 23/23 elapsed<00:01 remaining<00:00\n",
      "Uploading /Users/lex/Documents/1000models/notebooks/model_schema.json: 100.000%|██████████| 482/482 elapsed<00:01 remaining<00:00\n",
      "Model export complete: 100%|██████████| 6/6 [00:13<00:00,  2.20s/it]                   \n"
     ]
    },
    {
     "name": "stdout",
     "output_type": "stream",
     "text": [
      "Model created, explore it at https://demo.hops.works:443/p/14455/models/demand_forecaster_item9744578_loc3/1\n",
      "Finished: Reading data from Hopsworks, using Hopsworks Feature Query Service (0.67s) \n",
      "2025-05-09 11:24:46,128 INFO: Provenance cached data - overwriting last accessed/created training dataset from 90 to 91.\n"
     ]
    },
    {
     "name": "stderr",
     "output_type": "stream",
     "text": [
      "Uploading /Users/lex/Documents/1000models/notebooks/demand_forecaster_item8505477_loc3/model.json: 100.000%|██████████| 184716/184716 elapsed<00:03 remaining<00:00\n",
      "Uploading /Users/lex/Documents/1000models/notebooks/input_example.json: 100.000%|██████████| 23/23 elapsed<00:01 remaining<00:00\n",
      "Uploading /Users/lex/Documents/1000models/notebooks/model_schema.json: 100.000%|██████████| 482/482 elapsed<00:01 remaining<00:00\n",
      "Model export complete: 100%|██████████| 6/6 [00:13<00:00,  2.31s/it]                   \n"
     ]
    },
    {
     "name": "stdout",
     "output_type": "stream",
     "text": [
      "Model created, explore it at https://demo.hops.works:443/p/14455/models/demand_forecaster_item8505477_loc3/1\n",
      "Finished: Reading data from Hopsworks, using Hopsworks Feature Query Service (0.85s) \n",
      "2025-05-09 11:25:05,382 INFO: Provenance cached data - overwriting last accessed/created training dataset from 91 to 92.\n"
     ]
    },
    {
     "name": "stderr",
     "output_type": "stream",
     "text": [
      "Uploading /Users/lex/Documents/1000models/notebooks/demand_forecaster_item8116800_loc3/model.joblib: 100.000%|██████████| 716833/716833 elapsed<00:02 remaining<00:00\n",
      "Uploading /Users/lex/Documents/1000models/notebooks/input_example.json: 100.000%|██████████| 23/23 elapsed<00:01 remaining<00:00\n",
      "Uploading /Users/lex/Documents/1000models/notebooks/model_schema.json: 100.000%|██████████| 482/482 elapsed<00:01 remaining<00:00\n",
      "Model export complete: 100%|██████████| 6/6 [00:12<00:00,  2.16s/it]                   \n"
     ]
    },
    {
     "name": "stdout",
     "output_type": "stream",
     "text": [
      "Model created, explore it at https://demo.hops.works:443/p/14455/models/demand_forecaster_item8116800_loc3/1\n",
      "Finished: Reading data from Hopsworks, using Hopsworks Feature Query Service (0.75s) \n",
      "2025-05-09 11:25:23,483 INFO: Provenance cached data - overwriting last accessed/created training dataset from 92 to 93.\n"
     ]
    },
    {
     "name": "stderr",
     "output_type": "stream",
     "text": [
      "Uploading /Users/lex/Documents/1000models/notebooks/demand_forecaster_item8061630_loc3/model.joblib: 100.000%|██████████| 716833/716833 elapsed<00:03 remaining<00:00\n",
      "Uploading /Users/lex/Documents/1000models/notebooks/input_example.json: 100.000%|██████████| 23/23 elapsed<00:01 remaining<00:00\n",
      "Uploading /Users/lex/Documents/1000models/notebooks/model_schema.json: 100.000%|██████████| 482/482 elapsed<00:01 remaining<00:00\n",
      "Model export complete: 100%|██████████| 6/6 [00:13<00:00,  2.33s/it]                   \n"
     ]
    },
    {
     "name": "stdout",
     "output_type": "stream",
     "text": [
      "Model created, explore it at https://demo.hops.works:443/p/14455/models/demand_forecaster_item8061630_loc3/1\n",
      "Finished: Reading data from Hopsworks, using Hopsworks Feature Query Service (0.67s) \n",
      "2025-05-09 11:25:42,965 INFO: Provenance cached data - overwriting last accessed/created training dataset from 93 to 94.\n"
     ]
    },
    {
     "name": "stderr",
     "output_type": "stream",
     "text": [
      "Uploading /Users/lex/Documents/1000models/notebooks/demand_forecaster_item8877960_loc3/model.json: 100.000%|██████████| 188038/188038 elapsed<00:02 remaining<00:00\n",
      "Uploading /Users/lex/Documents/1000models/notebooks/input_example.json: 100.000%|██████████| 23/23 elapsed<00:01 remaining<00:00\n",
      "Uploading /Users/lex/Documents/1000models/notebooks/model_schema.json: 100.000%|██████████| 482/482 elapsed<00:01 remaining<00:00\n",
      "Model export complete: 100%|██████████| 6/6 [00:13<00:00,  2.18s/it]                   \n"
     ]
    },
    {
     "name": "stdout",
     "output_type": "stream",
     "text": [
      "Model created, explore it at https://demo.hops.works:443/p/14455/models/demand_forecaster_item8877960_loc3/1\n",
      "Training model 95/200 (Item: 8830337, Location: 3)\n",
      "Finished: Reading data from Hopsworks, using Hopsworks Feature Query Service (0.81s) \n",
      "2025-05-09 11:26:01,303 INFO: Provenance cached data - overwriting last accessed/created training dataset from 94 to 95.\n",
      "  RandomForest: RMSE: 1081.12\n",
      "  XGBoost: RMSE: 1081.09\n"
     ]
    },
    {
     "name": "stderr",
     "output_type": "stream",
     "text": [
      "Uploading /Users/lex/Documents/1000models/notebooks/demand_forecaster_item8830337_loc3/model.json: 100.000%|██████████| 206676/206676 elapsed<00:02 remaining<00:00\n",
      "Uploading /Users/lex/Documents/1000models/notebooks/input_example.json: 100.000%|██████████| 23/23 elapsed<00:01 remaining<00:00\n",
      "Uploading /Users/lex/Documents/1000models/notebooks/model_schema.json: 100.000%|██████████| 482/482 elapsed<00:01 remaining<00:00\n",
      "Model export complete: 100%|██████████| 6/6 [00:12<00:00,  2.11s/it]                   \n"
     ]
    },
    {
     "name": "stdout",
     "output_type": "stream",
     "text": [
      "Model created, explore it at https://demo.hops.works:443/p/14455/models/demand_forecaster_item8830337_loc3/1\n",
      "Finished: Reading data from Hopsworks, using Hopsworks Feature Query Service (0.62s) \n",
      "2025-05-09 11:26:19,381 INFO: Provenance cached data - overwriting last accessed/created training dataset from 95 to 96.\n"
     ]
    },
    {
     "name": "stderr",
     "output_type": "stream",
     "text": [
      "Uploading /Users/lex/Documents/1000models/notebooks/demand_forecaster_item8584373_loc3/model.joblib: 100.000%|██████████| 716833/716833 elapsed<00:01 remaining<00:00\n",
      "Uploading /Users/lex/Documents/1000models/notebooks/input_example.json: 100.000%|██████████| 23/23 elapsed<00:02 remaining<00:00\n",
      "Uploading /Users/lex/Documents/1000models/notebooks/model_schema.json: 100.000%|██████████| 482/482 elapsed<00:01 remaining<00:00\n",
      "Model export complete: 100%|██████████| 6/6 [00:13<00:00,  2.28s/it]                   \n"
     ]
    },
    {
     "name": "stdout",
     "output_type": "stream",
     "text": [
      "Model created, explore it at https://demo.hops.works:443/p/14455/models/demand_forecaster_item8584373_loc3/1\n",
      "Finished: Reading data from Hopsworks, using Hopsworks Feature Query Service (0.69s) \n",
      "2025-05-09 11:26:39,001 INFO: Provenance cached data - overwriting last accessed/created training dataset from 96 to 97.\n"
     ]
    },
    {
     "name": "stderr",
     "output_type": "stream",
     "text": [
      "Uploading /Users/lex/Documents/1000models/notebooks/demand_forecaster_item8336503_loc3/model.joblib: 100.000%|██████████| 716833/716833 elapsed<00:02 remaining<00:00\n",
      "Uploading /Users/lex/Documents/1000models/notebooks/input_example.json: 100.000%|██████████| 23/23 elapsed<00:01 remaining<00:00\n",
      "Uploading /Users/lex/Documents/1000models/notebooks/model_schema.json: 100.000%|██████████| 482/482 elapsed<00:01 remaining<00:00\n",
      "Model export complete: 100%|██████████| 6/6 [00:12<00:00,  2.15s/it]                   \n"
     ]
    },
    {
     "name": "stdout",
     "output_type": "stream",
     "text": [
      "Model created, explore it at https://demo.hops.works:443/p/14455/models/demand_forecaster_item8336503_loc3/1\n",
      "Finished: Reading data from Hopsworks, using Hopsworks Feature Query Service (0.52s) \n",
      "2025-05-09 11:26:57,129 INFO: Provenance cached data - overwriting last accessed/created training dataset from 97 to 98.\n"
     ]
    },
    {
     "name": "stderr",
     "output_type": "stream",
     "text": [
      "Uploading /Users/lex/Documents/1000models/notebooks/demand_forecaster_item8023763_loc3/model.json: 100.000%|██████████| 190151/190151 elapsed<00:02 remaining<00:00\n",
      "Uploading /Users/lex/Documents/1000models/notebooks/input_example.json: 100.000%|██████████| 23/23 elapsed<00:01 remaining<00:00\n",
      "Uploading /Users/lex/Documents/1000models/notebooks/model_schema.json: 100.000%|██████████| 482/482 elapsed<00:01 remaining<00:00\n",
      "Model export complete: 100%|██████████| 6/6 [00:12<00:00,  2.07s/it]                   \n"
     ]
    },
    {
     "name": "stdout",
     "output_type": "stream",
     "text": [
      "Model created, explore it at https://demo.hops.works:443/p/14455/models/demand_forecaster_item8023763_loc3/1\n",
      "Finished: Reading data from Hopsworks, using Hopsworks Feature Query Service (0.52s) \n",
      "2025-05-09 11:27:14,682 INFO: Provenance cached data - overwriting last accessed/created training dataset from 98 to 99.\n"
     ]
    },
    {
     "name": "stderr",
     "output_type": "stream",
     "text": [
      "Uploading /Users/lex/Documents/1000models/notebooks/demand_forecaster_item8141137_loc3/model.joblib: 100.000%|██████████| 716833/716833 elapsed<00:02 remaining<00:00\n",
      "Uploading /Users/lex/Documents/1000models/notebooks/input_example.json: 100.000%|██████████| 23/23 elapsed<00:01 remaining<00:00\n",
      "Uploading /Users/lex/Documents/1000models/notebooks/model_schema.json: 100.000%|██████████| 482/482 elapsed<00:01 remaining<00:00\n",
      "Model export complete: 100%|██████████| 6/6 [00:13<00:00,  2.22s/it]                   \n"
     ]
    },
    {
     "name": "stdout",
     "output_type": "stream",
     "text": [
      "Model created, explore it at https://demo.hops.works:443/p/14455/models/demand_forecaster_item8141137_loc3/1\n",
      "Training model 100/200 (Item: 9608926, Location: 3)\n",
      "Finished: Reading data from Hopsworks, using Hopsworks Feature Query Service (0.54s) \n",
      "2025-05-09 11:27:33,263 INFO: Provenance cached data - overwriting last accessed/created training dataset from 99 to 100.\n",
      "  RandomForest: RMSE: 1132.34\n",
      "  XGBoost: RMSE: 1132.32\n"
     ]
    },
    {
     "name": "stderr",
     "output_type": "stream",
     "text": [
      "Uploading /Users/lex/Documents/1000models/notebooks/demand_forecaster_item9608926_loc3/model.json: 100.000%|██████████| 189500/189500 elapsed<00:02 remaining<00:00\n",
      "Uploading /Users/lex/Documents/1000models/notebooks/input_example.json: 100.000%|██████████| 23/23 elapsed<00:02 remaining<00:00\n",
      "Uploading /Users/lex/Documents/1000models/notebooks/model_schema.json: 100.000%|██████████| 482/482 elapsed<00:01 remaining<00:00\n",
      "Model export complete: 100%|██████████| 6/6 [00:14<00:00,  2.34s/it]                   \n"
     ]
    },
    {
     "name": "stdout",
     "output_type": "stream",
     "text": [
      "Model created, explore it at https://demo.hops.works:443/p/14455/models/demand_forecaster_item9608926_loc3/1\n",
      "Finished: Reading data from Hopsworks, using Hopsworks Feature Query Service (0.71s) \n",
      "2025-05-09 11:27:52,480 INFO: Provenance cached data - overwriting last accessed/created training dataset from 100 to 101.\n"
     ]
    },
    {
     "name": "stderr",
     "output_type": "stream",
     "text": [
      "Uploading /Users/lex/Documents/1000models/notebooks/demand_forecaster_item8917387_loc3/model.json: 100.000%|██████████| 198232/198232 elapsed<00:01 remaining<00:00\n",
      "Uploading /Users/lex/Documents/1000models/notebooks/input_example.json: 100.000%|██████████| 23/23 elapsed<00:01 remaining<00:00\n",
      "Uploading /Users/lex/Documents/1000models/notebooks/model_schema.json: 100.000%|██████████| 482/482 elapsed<00:01 remaining<00:00\n",
      "Model export complete: 100%|██████████| 6/6 [00:12<00:00,  2.09s/it]                   \n"
     ]
    },
    {
     "name": "stdout",
     "output_type": "stream",
     "text": [
      "Model created, explore it at https://demo.hops.works:443/p/14455/models/demand_forecaster_item8917387_loc3/1\n",
      "Finished: Reading data from Hopsworks, using Hopsworks Feature Query Service (0.51s) \n",
      "2025-05-09 11:28:10,338 INFO: Provenance cached data - overwriting last accessed/created training dataset from 101 to 102.\n"
     ]
    },
    {
     "name": "stderr",
     "output_type": "stream",
     "text": [
      "Uploading /Users/lex/Documents/1000models/notebooks/demand_forecaster_item9030265_loc3/model.joblib: 100.000%|██████████| 716833/716833 elapsed<00:01 remaining<00:00\n",
      "Uploading /Users/lex/Documents/1000models/notebooks/input_example.json: 100.000%|██████████| 23/23 elapsed<00:01 remaining<00:00\n",
      "Uploading /Users/lex/Documents/1000models/notebooks/model_schema.json: 100.000%|██████████| 482/482 elapsed<00:01 remaining<00:00\n",
      "Model export complete: 100%|██████████| 6/6 [00:13<00:00,  2.31s/it]                   \n"
     ]
    },
    {
     "name": "stdout",
     "output_type": "stream",
     "text": [
      "Model created, explore it at https://demo.hops.works:443/p/14455/models/demand_forecaster_item9030265_loc3/1\n",
      "Finished: Reading data from Hopsworks, using Hopsworks Feature Query Service (0.54s) \n",
      "2025-05-09 11:28:29,925 INFO: Provenance cached data - overwriting last accessed/created training dataset from 102 to 103.\n"
     ]
    },
    {
     "name": "stderr",
     "output_type": "stream",
     "text": [
      "Uploading /Users/lex/Documents/1000models/notebooks/demand_forecaster_item8237412_loc3/model.json: 100.000%|██████████| 178308/178308 elapsed<00:02 remaining<00:00\n",
      "Uploading /Users/lex/Documents/1000models/notebooks/input_example.json: 100.000%|██████████| 23/23 elapsed<00:02 remaining<00:00\n",
      "Uploading /Users/lex/Documents/1000models/notebooks/model_schema.json: 100.000%|██████████| 482/482 elapsed<00:01 remaining<00:00\n",
      "Model export complete: 100%|██████████| 6/6 [00:13<00:00,  2.25s/it]                   \n"
     ]
    },
    {
     "name": "stdout",
     "output_type": "stream",
     "text": [
      "Model created, explore it at https://demo.hops.works:443/p/14455/models/demand_forecaster_item8237412_loc3/1\n",
      "Finished: Reading data from Hopsworks, using Hopsworks Feature Query Service (0.72s) \n",
      "2025-05-09 11:28:48,847 INFO: Provenance cached data - overwriting last accessed/created training dataset from 103 to 104.\n"
     ]
    },
    {
     "name": "stderr",
     "output_type": "stream",
     "text": [
      "Uploading /Users/lex/Documents/1000models/notebooks/demand_forecaster_item10069556_loc3/model.json: 100.000%|██████████| 192591/192591 elapsed<00:02 remaining<00:00\n",
      "Uploading /Users/lex/Documents/1000models/notebooks/input_example.json: 100.000%|██████████| 23/23 elapsed<00:02 remaining<00:00\n",
      "Uploading /Users/lex/Documents/1000models/notebooks/model_schema.json: 100.000%|██████████| 482/482 elapsed<00:01 remaining<00:00\n",
      "Model export complete: 100%|██████████| 6/6 [00:13<00:00,  2.24s/it]                   \n"
     ]
    },
    {
     "name": "stdout",
     "output_type": "stream",
     "text": [
      "Model created, explore it at https://demo.hops.works:443/p/14455/models/demand_forecaster_item10069556_loc3/1\n",
      "Training model 105/200 (Item: 10013001, Location: 3)\n",
      "Finished: Reading data from Hopsworks, using Hopsworks Feature Query Service (0.63s) \n",
      "2025-05-09 11:29:07,616 INFO: Provenance cached data - overwriting last accessed/created training dataset from 104 to 105.\n",
      "  RandomForest: RMSE: 1052.24\n",
      "  XGBoost: RMSE: 1052.37\n"
     ]
    },
    {
     "name": "stderr",
     "output_type": "stream",
     "text": [
      "Uploading /Users/lex/Documents/1000models/notebooks/demand_forecaster_item10013001_loc3/model.joblib: 100.000%|██████████| 716833/716833 elapsed<00:02 remaining<00:00\n",
      "Uploading /Users/lex/Documents/1000models/notebooks/input_example.json: 100.000%|██████████| 23/23 elapsed<00:02 remaining<00:00\n",
      "Uploading /Users/lex/Documents/1000models/notebooks/model_schema.json: 100.000%|██████████| 482/482 elapsed<00:02 remaining<00:00\n",
      "Model export complete: 100%|██████████| 6/6 [00:14<00:00,  2.35s/it]                   \n"
     ]
    },
    {
     "name": "stdout",
     "output_type": "stream",
     "text": [
      "Model created, explore it at https://demo.hops.works:443/p/14455/models/demand_forecaster_item10013001_loc3/1\n",
      "Finished: Reading data from Hopsworks, using Hopsworks Feature Query Service (0.59s) \n",
      "2025-05-09 11:29:27,502 INFO: Provenance cached data - overwriting last accessed/created training dataset from 105 to 106.\n"
     ]
    },
    {
     "name": "stderr",
     "output_type": "stream",
     "text": [
      "Uploading /Users/lex/Documents/1000models/notebooks/demand_forecaster_item8974759_loc3/model.joblib: 100.000%|██████████| 716833/716833 elapsed<00:02 remaining<00:00\n",
      "Uploading /Users/lex/Documents/1000models/notebooks/input_example.json: 100.000%|██████████| 23/23 elapsed<00:01 remaining<00:00\n",
      "Uploading /Users/lex/Documents/1000models/notebooks/model_schema.json: 100.000%|██████████| 482/482 elapsed<00:01 remaining<00:00\n",
      "Model export complete: 100%|██████████| 6/6 [00:13<00:00,  2.21s/it]                   \n"
     ]
    },
    {
     "name": "stdout",
     "output_type": "stream",
     "text": [
      "Model created, explore it at https://demo.hops.works:443/p/14455/models/demand_forecaster_item8974759_loc3/1\n",
      "Finished: Reading data from Hopsworks, using Hopsworks Feature Query Service (1.17s) \n",
      "2025-05-09 11:29:46,437 INFO: Provenance cached data - overwriting last accessed/created training dataset from 106 to 107.\n"
     ]
    },
    {
     "name": "stderr",
     "output_type": "stream",
     "text": [
      "Uploading /Users/lex/Documents/1000models/notebooks/demand_forecaster_item9148688_loc3/model.joblib: 100.000%|██████████| 716833/716833 elapsed<00:02 remaining<00:00\n",
      "Uploading /Users/lex/Documents/1000models/notebooks/input_example.json: 100.000%|██████████| 23/23 elapsed<00:01 remaining<00:00\n",
      "Uploading /Users/lex/Documents/1000models/notebooks/model_schema.json: 100.000%|██████████| 482/482 elapsed<00:01 remaining<00:00\n",
      "Model export complete: 100%|██████████| 6/6 [00:12<00:00,  2.12s/it]                   \n"
     ]
    },
    {
     "name": "stdout",
     "output_type": "stream",
     "text": [
      "Model created, explore it at https://demo.hops.works:443/p/14455/models/demand_forecaster_item9148688_loc3/1\n",
      "Finished: Reading data from Hopsworks, using Hopsworks Feature Query Service (0.69s) \n",
      "2025-05-09 11:30:04,416 INFO: Provenance cached data - overwriting last accessed/created training dataset from 107 to 108.\n"
     ]
    },
    {
     "name": "stderr",
     "output_type": "stream",
     "text": [
      "Uploading /Users/lex/Documents/1000models/notebooks/demand_forecaster_item9034021_loc3/model.joblib: 100.000%|██████████| 716833/716833 elapsed<00:02 remaining<00:00\n",
      "Uploading /Users/lex/Documents/1000models/notebooks/input_example.json: 100.000%|██████████| 23/23 elapsed<00:01 remaining<00:00\n",
      "Uploading /Users/lex/Documents/1000models/notebooks/model_schema.json: 100.000%|██████████| 482/482 elapsed<00:01 remaining<00:00\n",
      "Model export complete: 100%|██████████| 6/6 [00:12<00:00,  2.13s/it]                   \n"
     ]
    },
    {
     "name": "stdout",
     "output_type": "stream",
     "text": [
      "Model created, explore it at https://demo.hops.works:443/p/14455/models/demand_forecaster_item9034021_loc3/1\n",
      "Finished: Reading data from Hopsworks, using Hopsworks Feature Query Service (0.73s) \n",
      "2025-05-09 11:30:22,572 INFO: Provenance cached data - overwriting last accessed/created training dataset from 108 to 109.\n"
     ]
    },
    {
     "name": "stderr",
     "output_type": "stream",
     "text": [
      "Uploading /Users/lex/Documents/1000models/notebooks/demand_forecaster_item8204278_loc3/model.joblib: 100.000%|██████████| 716833/716833 elapsed<00:03 remaining<00:00\n",
      "Uploading /Users/lex/Documents/1000models/notebooks/input_example.json: 100.000%|██████████| 23/23 elapsed<00:01 remaining<00:00\n",
      "Uploading /Users/lex/Documents/1000models/notebooks/model_schema.json: 100.000%|██████████| 482/482 elapsed<00:01 remaining<00:00\n",
      "Model export complete: 100%|██████████| 6/6 [00:15<00:00,  2.52s/it]                   \n"
     ]
    },
    {
     "name": "stdout",
     "output_type": "stream",
     "text": [
      "Model created, explore it at https://demo.hops.works:443/p/14455/models/demand_forecaster_item8204278_loc3/1\n",
      "Training model 110/200 (Item: 8219230, Location: 3)\n",
      "Finished: Reading data from Hopsworks, using Hopsworks Feature Query Service (0.75s) \n",
      "2025-05-09 11:30:43,333 INFO: Provenance cached data - overwriting last accessed/created training dataset from 109 to 110.\n",
      "  RandomForest: RMSE: 1183.76\n",
      "  XGBoost: RMSE: 1183.84\n"
     ]
    },
    {
     "name": "stderr",
     "output_type": "stream",
     "text": [
      "Uploading /Users/lex/Documents/1000models/notebooks/demand_forecaster_item8219230_loc3/model.joblib: 100.000%|██████████| 716833/716833 elapsed<00:02 remaining<00:00\n",
      "Uploading /Users/lex/Documents/1000models/notebooks/input_example.json: 100.000%|██████████| 23/23 elapsed<00:01 remaining<00:00\n",
      "Uploading /Users/lex/Documents/1000models/notebooks/model_schema.json: 100.000%|██████████| 482/482 elapsed<00:01 remaining<00:00\n",
      "Model export complete: 100%|██████████| 6/6 [00:13<00:00,  2.26s/it]                   \n"
     ]
    },
    {
     "name": "stdout",
     "output_type": "stream",
     "text": [
      "Model created, explore it at https://demo.hops.works:443/p/14455/models/demand_forecaster_item8219230_loc3/1\n",
      "Finished: Reading data from Hopsworks, using Hopsworks Feature Query Service (0.81s) \n",
      "2025-05-09 11:31:02,110 INFO: Provenance cached data - overwriting last accessed/created training dataset from 110 to 111.\n"
     ]
    },
    {
     "name": "stderr",
     "output_type": "stream",
     "text": [
      "Uploading /Users/lex/Documents/1000models/notebooks/demand_forecaster_item9050038_loc3/model.json: 100.000%|██████████| 185389/185389 elapsed<00:02 remaining<00:00\n",
      "Uploading /Users/lex/Documents/1000models/notebooks/input_example.json: 100.000%|██████████| 23/23 elapsed<00:01 remaining<00:00\n",
      "Uploading /Users/lex/Documents/1000models/notebooks/model_schema.json: 100.000%|██████████| 482/482 elapsed<00:01 remaining<00:00\n",
      "Model export complete: 100%|██████████| 6/6 [00:12<00:00,  2.16s/it]                   \n"
     ]
    },
    {
     "name": "stdout",
     "output_type": "stream",
     "text": [
      "Model created, explore it at https://demo.hops.works:443/p/14455/models/demand_forecaster_item9050038_loc3/1\n",
      "Finished: Reading data from Hopsworks, using Hopsworks Feature Query Service (0.88s) \n",
      "2025-05-09 11:31:20,689 INFO: Provenance cached data - overwriting last accessed/created training dataset from 111 to 112.\n"
     ]
    },
    {
     "name": "stderr",
     "output_type": "stream",
     "text": [
      "Uploading /Users/lex/Documents/1000models/notebooks/demand_forecaster_item9750079_loc3/model.joblib: 100.000%|██████████| 716833/716833 elapsed<00:02 remaining<00:00\n",
      "Uploading /Users/lex/Documents/1000models/notebooks/input_example.json: 100.000%|██████████| 23/23 elapsed<00:01 remaining<00:00\n",
      "Uploading /Users/lex/Documents/1000models/notebooks/model_schema.json: 100.000%|██████████| 482/482 elapsed<00:01 remaining<00:00\n",
      "Model export complete: 100%|██████████| 6/6 [00:14<00:00,  2.43s/it]                   \n"
     ]
    },
    {
     "name": "stdout",
     "output_type": "stream",
     "text": [
      "Model created, explore it at https://demo.hops.works:443/p/14455/models/demand_forecaster_item9750079_loc3/1\n",
      "Finished: Reading data from Hopsworks, using Hopsworks Feature Query Service (0.82s) \n",
      "2025-05-09 11:31:41,320 INFO: Provenance cached data - overwriting last accessed/created training dataset from 112 to 113.\n"
     ]
    },
    {
     "name": "stderr",
     "output_type": "stream",
     "text": [
      "Uploading /Users/lex/Documents/1000models/notebooks/demand_forecaster_item8200860_loc3/model.json: 100.000%|██████████| 195297/195297 elapsed<00:02 remaining<00:00\n",
      "Uploading /Users/lex/Documents/1000models/notebooks/input_example.json: 100.000%|██████████| 23/23 elapsed<00:01 remaining<00:00\n",
      "Uploading /Users/lex/Documents/1000models/notebooks/model_schema.json: 100.000%|██████████| 482/482 elapsed<00:01 remaining<00:00\n",
      "Model export complete: 100%|██████████| 6/6 [00:13<00:00,  2.26s/it]                   \n"
     ]
    },
    {
     "name": "stdout",
     "output_type": "stream",
     "text": [
      "Model created, explore it at https://demo.hops.works:443/p/14455/models/demand_forecaster_item8200860_loc3/1\n",
      "Finished: Reading data from Hopsworks, using Hopsworks Feature Query Service (0.69s) \n",
      "2025-05-09 11:32:00,936 INFO: Provenance cached data - overwriting last accessed/created training dataset from 113 to 114.\n"
     ]
    },
    {
     "name": "stderr",
     "output_type": "stream",
     "text": [
      "Uploading /Users/lex/Documents/1000models/notebooks/demand_forecaster_item8206023_loc3/model.joblib: 100.000%|██████████| 716833/716833 elapsed<00:02 remaining<00:00\n",
      "Uploading /Users/lex/Documents/1000models/notebooks/input_example.json: 100.000%|██████████| 23/23 elapsed<00:01 remaining<00:00\n",
      "Uploading /Users/lex/Documents/1000models/notebooks/model_schema.json: 100.000%|██████████| 482/482 elapsed<00:01 remaining<00:00\n",
      "Model export complete: 100%|██████████| 6/6 [00:12<00:00,  2.17s/it]                   \n"
     ]
    },
    {
     "name": "stdout",
     "output_type": "stream",
     "text": [
      "Model created, explore it at https://demo.hops.works:443/p/14455/models/demand_forecaster_item8206023_loc3/1\n",
      "Training model 115/200 (Item: 9652441, Location: 3)\n",
      "Finished: Reading data from Hopsworks, using Hopsworks Feature Query Service (0.74s) \n",
      "2025-05-09 11:32:19,431 INFO: Provenance cached data - overwriting last accessed/created training dataset from 114 to 115.\n",
      "  RandomForest: RMSE: 1000.10\n",
      "  XGBoost: RMSE: 1000.16\n"
     ]
    },
    {
     "name": "stderr",
     "output_type": "stream",
     "text": [
      "Uploading /Users/lex/Documents/1000models/notebooks/demand_forecaster_item9652441_loc3/model.joblib: 100.000%|██████████| 716833/716833 elapsed<00:02 remaining<00:00\n",
      "Uploading /Users/lex/Documents/1000models/notebooks/input_example.json: 100.000%|██████████| 23/23 elapsed<00:01 remaining<00:00\n",
      "Uploading /Users/lex/Documents/1000models/notebooks/model_schema.json: 100.000%|██████████| 482/482 elapsed<00:01 remaining<00:00\n",
      "Model export complete: 100%|██████████| 6/6 [00:12<00:00,  2.11s/it]                   \n"
     ]
    },
    {
     "name": "stdout",
     "output_type": "stream",
     "text": [
      "Model created, explore it at https://demo.hops.works:443/p/14455/models/demand_forecaster_item9652441_loc3/1\n",
      "Finished: Reading data from Hopsworks, using Hopsworks Feature Query Service (0.61s) \n",
      "2025-05-09 11:32:37,331 INFO: Provenance cached data - overwriting last accessed/created training dataset from 115 to 116.\n"
     ]
    },
    {
     "name": "stderr",
     "output_type": "stream",
     "text": [
      "Uploading /Users/lex/Documents/1000models/notebooks/demand_forecaster_item8236199_loc3/model.joblib: 100.000%|██████████| 716833/716833 elapsed<00:02 remaining<00:00\n",
      "Uploading /Users/lex/Documents/1000models/notebooks/input_example.json: 100.000%|██████████| 23/23 elapsed<00:01 remaining<00:00\n",
      "Uploading /Users/lex/Documents/1000models/notebooks/model_schema.json: 100.000%|██████████| 482/482 elapsed<00:01 remaining<00:00\n",
      "Model export complete: 100%|██████████| 6/6 [00:13<00:00,  2.28s/it]                   \n"
     ]
    },
    {
     "name": "stdout",
     "output_type": "stream",
     "text": [
      "Model created, explore it at https://demo.hops.works:443/p/14455/models/demand_forecaster_item8236199_loc3/1\n",
      "Finished: Reading data from Hopsworks, using Hopsworks Feature Query Service (0.72s) \n",
      "2025-05-09 11:32:56,457 INFO: Provenance cached data - overwriting last accessed/created training dataset from 116 to 117.\n"
     ]
    },
    {
     "name": "stderr",
     "output_type": "stream",
     "text": [
      "Uploading /Users/lex/Documents/1000models/notebooks/demand_forecaster_item8058006_loc3/model.json: 100.000%|██████████| 189813/189813 elapsed<00:02 remaining<00:00\n",
      "Uploading /Users/lex/Documents/1000models/notebooks/input_example.json: 100.000%|██████████| 23/23 elapsed<00:01 remaining<00:00\n",
      "Uploading /Users/lex/Documents/1000models/notebooks/model_schema.json: 100.000%|██████████| 482/482 elapsed<00:01 remaining<00:00\n",
      "Model export complete: 100%|██████████| 6/6 [00:13<00:00,  2.33s/it]                   \n"
     ]
    },
    {
     "name": "stdout",
     "output_type": "stream",
     "text": [
      "Model created, explore it at https://demo.hops.works:443/p/14455/models/demand_forecaster_item8058006_loc3/1\n",
      "Finished: Reading data from Hopsworks, using Hopsworks Feature Query Service (0.69s) \n",
      "2025-05-09 11:33:16,109 INFO: Provenance cached data - overwriting last accessed/created training dataset from 117 to 118.\n"
     ]
    },
    {
     "name": "stderr",
     "output_type": "stream",
     "text": [
      "Uploading /Users/lex/Documents/1000models/notebooks/demand_forecaster_item9038024_loc3/model.json: 100.000%|██████████| 200497/200497 elapsed<00:02 remaining<00:00\n",
      "Uploading /Users/lex/Documents/1000models/notebooks/input_example.json: 100.000%|██████████| 23/23 elapsed<00:01 remaining<00:00\n",
      "Uploading /Users/lex/Documents/1000models/notebooks/model_schema.json: 100.000%|██████████| 482/482 elapsed<00:01 remaining<00:00\n",
      "Model export complete: 100%|██████████| 6/6 [00:14<00:00,  2.36s/it]                   \n"
     ]
    },
    {
     "name": "stdout",
     "output_type": "stream",
     "text": [
      "Model created, explore it at https://demo.hops.works:443/p/14455/models/demand_forecaster_item9038024_loc3/1\n",
      "Finished: Reading data from Hopsworks, using Hopsworks Feature Query Service (0.83s) \n",
      "2025-05-09 11:33:35,499 INFO: Provenance cached data - overwriting last accessed/created training dataset from 118 to 119.\n"
     ]
    },
    {
     "name": "stderr",
     "output_type": "stream",
     "text": [
      "Uploading /Users/lex/Documents/1000models/notebooks/demand_forecaster_item9871278_loc3/model.json: 100.000%|██████████| 183310/183310 elapsed<00:01 remaining<00:00\n",
      "Uploading /Users/lex/Documents/1000models/notebooks/input_example.json: 100.000%|██████████| 23/23 elapsed<00:02 remaining<00:00\n",
      "Uploading /Users/lex/Documents/1000models/notebooks/model_schema.json: 100.000%|██████████| 482/482 elapsed<00:02 remaining<00:00\n",
      "Model export complete: 100%|██████████| 6/6 [00:13<00:00,  2.31s/it]                   \n"
     ]
    },
    {
     "name": "stdout",
     "output_type": "stream",
     "text": [
      "Model created, explore it at https://demo.hops.works:443/p/14455/models/demand_forecaster_item9871278_loc3/1\n",
      "Training model 120/200 (Item: 9146878, Location: 3)\n",
      "Finished: Reading data from Hopsworks, using Hopsworks Feature Query Service (0.57s) \n",
      "2025-05-09 11:33:54,722 INFO: Provenance cached data - overwriting last accessed/created training dataset from 119 to 120.\n",
      "  RandomForest: RMSE: 1242.11\n",
      "  XGBoost: RMSE: 1241.88\n"
     ]
    },
    {
     "name": "stderr",
     "output_type": "stream",
     "text": [
      "Uploading /Users/lex/Documents/1000models/notebooks/demand_forecaster_item9146878_loc3/model.json: 100.000%|██████████| 180604/180604 elapsed<00:03 remaining<00:00\n",
      "Uploading /Users/lex/Documents/1000models/notebooks/input_example.json: 100.000%|██████████| 23/23 elapsed<00:01 remaining<00:00\n",
      "Uploading /Users/lex/Documents/1000models/notebooks/model_schema.json: 100.000%|██████████| 482/482 elapsed<00:01 remaining<00:00\n",
      "Model export complete: 100%|██████████| 6/6 [00:14<00:00,  2.41s/it]                   \n"
     ]
    },
    {
     "name": "stdout",
     "output_type": "stream",
     "text": [
      "Model created, explore it at https://demo.hops.works:443/p/14455/models/demand_forecaster_item9146878_loc3/1\n",
      "Finished: Reading data from Hopsworks, using Hopsworks Feature Query Service (0.62s) \n",
      "2025-05-09 11:34:14,490 INFO: Provenance cached data - overwriting last accessed/created training dataset from 120 to 121.\n"
     ]
    },
    {
     "name": "stderr",
     "output_type": "stream",
     "text": [
      "Uploading /Users/lex/Documents/1000models/notebooks/demand_forecaster_item8025134_loc3/model.json: 100.000%|██████████| 202561/202561 elapsed<00:01 remaining<00:00\n",
      "Uploading /Users/lex/Documents/1000models/notebooks/input_example.json: 100.000%|██████████| 23/23 elapsed<00:01 remaining<00:00\n",
      "Uploading /Users/lex/Documents/1000models/notebooks/model_schema.json: 100.000%|██████████| 482/482 elapsed<00:01 remaining<00:00\n",
      "Model export complete: 100%|██████████| 6/6 [00:12<00:00,  2.12s/it]                   \n"
     ]
    },
    {
     "name": "stdout",
     "output_type": "stream",
     "text": [
      "Model created, explore it at https://demo.hops.works:443/p/14455/models/demand_forecaster_item8025134_loc3/1\n",
      "Finished: Reading data from Hopsworks, using Hopsworks Feature Query Service (0.86s) \n",
      "2025-05-09 11:34:32,548 INFO: Provenance cached data - overwriting last accessed/created training dataset from 121 to 122.\n"
     ]
    },
    {
     "name": "stderr",
     "output_type": "stream",
     "text": [
      "Uploading /Users/lex/Documents/1000models/notebooks/demand_forecaster_item8974089_loc3/model.joblib: 100.000%|██████████| 716833/716833 elapsed<00:02 remaining<00:00\n",
      "Uploading /Users/lex/Documents/1000models/notebooks/input_example.json: 100.000%|██████████| 23/23 elapsed<00:01 remaining<00:00\n",
      "Uploading /Users/lex/Documents/1000models/notebooks/model_schema.json: 100.000%|██████████| 482/482 elapsed<00:01 remaining<00:00\n",
      "Model export complete: 100%|██████████| 6/6 [00:13<00:00,  2.18s/it]                   \n"
     ]
    },
    {
     "name": "stdout",
     "output_type": "stream",
     "text": [
      "Model created, explore it at https://demo.hops.works:443/p/14455/models/demand_forecaster_item8974089_loc3/1\n",
      "Finished: Reading data from Hopsworks, using Hopsworks Feature Query Service (0.82s) \n",
      "2025-05-09 11:34:52,123 INFO: Provenance cached data - overwriting last accessed/created training dataset from 122 to 123.\n"
     ]
    },
    {
     "name": "stderr",
     "output_type": "stream",
     "text": [
      "Uploading /Users/lex/Documents/1000models/notebooks/demand_forecaster_item9573226_loc3/model.joblib: 100.000%|██████████| 716833/716833 elapsed<00:02 remaining<00:00\n",
      "Uploading /Users/lex/Documents/1000models/notebooks/input_example.json: 100.000%|██████████| 23/23 elapsed<00:01 remaining<00:00\n",
      "Uploading /Users/lex/Documents/1000models/notebooks/model_schema.json: 100.000%|██████████| 482/482 elapsed<00:03 remaining<00:00\n",
      "Model export complete: 100%|██████████| 6/6 [00:15<00:00,  2.53s/it]                   \n"
     ]
    },
    {
     "name": "stdout",
     "output_type": "stream",
     "text": [
      "Model created, explore it at https://demo.hops.works:443/p/14455/models/demand_forecaster_item9573226_loc3/1\n",
      "Finished: Reading data from Hopsworks, using Hopsworks Feature Query Service (0.67s) \n",
      "2025-05-09 11:35:12,697 INFO: Provenance cached data - overwriting last accessed/created training dataset from 123 to 124.\n"
     ]
    },
    {
     "name": "stderr",
     "output_type": "stream",
     "text": [
      "Uploading /Users/lex/Documents/1000models/notebooks/demand_forecaster_item9143146_loc3/model.joblib: 100.000%|██████████| 716833/716833 elapsed<00:02 remaining<00:00\n",
      "Uploading /Users/lex/Documents/1000models/notebooks/input_example.json: 100.000%|██████████| 23/23 elapsed<00:02 remaining<00:00\n",
      "Uploading /Users/lex/Documents/1000models/notebooks/model_schema.json: 100.000%|██████████| 482/482 elapsed<00:02 remaining<00:00\n",
      "Model export complete: 100%|██████████| 6/6 [00:14<00:00,  2.42s/it]                   \n"
     ]
    },
    {
     "name": "stdout",
     "output_type": "stream",
     "text": [
      "Model created, explore it at https://demo.hops.works:443/p/14455/models/demand_forecaster_item9143146_loc3/1\n",
      "Training model 125/200 (Item: 8360122, Location: 3)\n",
      "Finished: Reading data from Hopsworks, using Hopsworks Feature Query Service (1.43s) \n",
      "2025-05-09 11:35:33,174 INFO: Provenance cached data - overwriting last accessed/created training dataset from 124 to 125.\n",
      "  RandomForest: RMSE: 989.36\n",
      "  XGBoost: RMSE: 989.06\n"
     ]
    },
    {
     "name": "stderr",
     "output_type": "stream",
     "text": [
      "Uploading /Users/lex/Documents/1000models/notebooks/demand_forecaster_item8360122_loc3/model.json: 100.000%|██████████| 208856/208856 elapsed<00:03 remaining<00:00\n",
      "Uploading /Users/lex/Documents/1000models/notebooks/input_example.json: 100.000%|██████████| 23/23 elapsed<00:02 remaining<00:00\n",
      "Uploading /Users/lex/Documents/1000models/notebooks/model_schema.json: 100.000%|██████████| 482/482 elapsed<00:01 remaining<00:00\n",
      "Model export complete: 100%|██████████| 6/6 [00:14<00:00,  2.48s/it]                   \n"
     ]
    },
    {
     "name": "stdout",
     "output_type": "stream",
     "text": [
      "Model created, explore it at https://demo.hops.works:443/p/14455/models/demand_forecaster_item8360122_loc3/1\n",
      "Finished: Reading data from Hopsworks, using Hopsworks Feature Query Service (0.59s) \n",
      "2025-05-09 11:35:53,427 INFO: Provenance cached data - overwriting last accessed/created training dataset from 125 to 126.\n"
     ]
    },
    {
     "name": "stderr",
     "output_type": "stream",
     "text": [
      "Uploading /Users/lex/Documents/1000models/notebooks/demand_forecaster_item9049340_loc3/model.json: 100.000%|██████████| 205365/205365 elapsed<00:02 remaining<00:00\n",
      "Uploading /Users/lex/Documents/1000models/notebooks/input_example.json: 100.000%|██████████| 23/23 elapsed<00:01 remaining<00:00\n",
      "Uploading /Users/lex/Documents/1000models/notebooks/model_schema.json: 100.000%|██████████| 482/482 elapsed<00:02 remaining<00:00\n",
      "Model export complete: 100%|██████████| 6/6 [00:14<00:00,  2.42s/it]                   \n"
     ]
    },
    {
     "name": "stdout",
     "output_type": "stream",
     "text": [
      "Model created, explore it at https://demo.hops.works:443/p/14455/models/demand_forecaster_item9049340_loc3/1\n",
      "Finished: Reading data from Hopsworks, using Hopsworks Feature Query Service (1.05s) \n",
      "2025-05-09 11:36:13,605 INFO: Provenance cached data - overwriting last accessed/created training dataset from 126 to 127.\n"
     ]
    },
    {
     "name": "stderr",
     "output_type": "stream",
     "text": [
      "Uploading /Users/lex/Documents/1000models/notebooks/demand_forecaster_item8553676_loc3/model.json: 100.000%|██████████| 195448/195448 elapsed<00:02 remaining<00:00\n",
      "Uploading /Users/lex/Documents/1000models/notebooks/input_example.json: 100.000%|██████████| 23/23 elapsed<00:02 remaining<00:00\n",
      "Uploading /Users/lex/Documents/1000models/notebooks/model_schema.json: 100.000%|██████████| 482/482 elapsed<00:02 remaining<00:00\n",
      "Model export complete: 100%|██████████| 6/6 [00:14<00:00,  2.40s/it]                   \n"
     ]
    },
    {
     "name": "stdout",
     "output_type": "stream",
     "text": [
      "Model created, explore it at https://demo.hops.works:443/p/14455/models/demand_forecaster_item8553676_loc3/1\n",
      "Finished: Reading data from Hopsworks, using Hopsworks Feature Query Service (0.65s) \n",
      "2025-05-09 11:36:33,188 INFO: Provenance cached data - overwriting last accessed/created training dataset from 127 to 128.\n"
     ]
    },
    {
     "name": "stderr",
     "output_type": "stream",
     "text": [
      "Uploading /Users/lex/Documents/1000models/notebooks/demand_forecaster_item9028770_loc3/model.joblib: 100.000%|██████████| 716833/716833 elapsed<00:02 remaining<00:00\n",
      "Uploading /Users/lex/Documents/1000models/notebooks/input_example.json: 100.000%|██████████| 23/23 elapsed<00:01 remaining<00:00\n",
      "Uploading /Users/lex/Documents/1000models/notebooks/model_schema.json: 100.000%|██████████| 482/482 elapsed<00:01 remaining<00:00\n",
      "Model export complete: 100%|██████████| 6/6 [00:13<00:00,  2.19s/it]                   \n"
     ]
    },
    {
     "name": "stdout",
     "output_type": "stream",
     "text": [
      "Model created, explore it at https://demo.hops.works:443/p/14455/models/demand_forecaster_item9028770_loc3/1\n",
      "Finished: Reading data from Hopsworks, using Hopsworks Feature Query Service (0.66s) \n",
      "2025-05-09 11:36:51,535 INFO: Provenance cached data - overwriting last accessed/created training dataset from 128 to 129.\n"
     ]
    },
    {
     "name": "stderr",
     "output_type": "stream",
     "text": [
      "Uploading /Users/lex/Documents/1000models/notebooks/demand_forecaster_item9689103_loc3/model.json: 100.000%|██████████| 186951/186951 elapsed<00:02 remaining<00:00\n",
      "Uploading /Users/lex/Documents/1000models/notebooks/input_example.json: 100.000%|██████████| 23/23 elapsed<00:01 remaining<00:00\n",
      "Uploading /Users/lex/Documents/1000models/notebooks/model_schema.json: 100.000%|██████████| 482/482 elapsed<00:01 remaining<00:00\n",
      "Model export complete: 100%|██████████| 6/6 [00:12<00:00,  2.10s/it]                   \n"
     ]
    },
    {
     "name": "stdout",
     "output_type": "stream",
     "text": [
      "Model created, explore it at https://demo.hops.works:443/p/14455/models/demand_forecaster_item9689103_loc3/1\n",
      "Training model 130/200 (Item: 9039502, Location: 3)\n",
      "Finished: Reading data from Hopsworks, using Hopsworks Feature Query Service (0.62s) \n",
      "2025-05-09 11:37:09,673 INFO: Provenance cached data - overwriting last accessed/created training dataset from 129 to 130.\n",
      "  RandomForest: RMSE: 1047.19\n",
      "  XGBoost: RMSE: 1047.12\n"
     ]
    },
    {
     "name": "stderr",
     "output_type": "stream",
     "text": [
      "Uploading /Users/lex/Documents/1000models/notebooks/demand_forecaster_item9039502_loc3/model.json: 100.000%|██████████| 173346/173346 elapsed<00:02 remaining<00:00\n",
      "Uploading /Users/lex/Documents/1000models/notebooks/input_example.json: 100.000%|██████████| 23/23 elapsed<00:00 remaining<00:00\n",
      "Uploading /Users/lex/Documents/1000models/notebooks/model_schema.json: 100.000%|██████████| 482/482 elapsed<00:01 remaining<00:00\n",
      "Model export complete: 100%|██████████| 6/6 [00:12<00:00,  2.06s/it]                   \n"
     ]
    },
    {
     "name": "stdout",
     "output_type": "stream",
     "text": [
      "Model created, explore it at https://demo.hops.works:443/p/14455/models/demand_forecaster_item9039502_loc3/1\n",
      "Finished: Reading data from Hopsworks, using Hopsworks Feature Query Service (0.65s) \n",
      "2025-05-09 11:37:28,851 INFO: Provenance cached data - overwriting last accessed/created training dataset from 130 to 131.\n"
     ]
    },
    {
     "name": "stderr",
     "output_type": "stream",
     "text": [
      "Uploading /Users/lex/Documents/1000models/notebooks/demand_forecaster_item9148526_loc3/model.json: 100.000%|██████████| 188665/188665 elapsed<00:02 remaining<00:00\n",
      "Uploading /Users/lex/Documents/1000models/notebooks/input_example.json: 100.000%|██████████| 23/23 elapsed<00:01 remaining<00:00\n",
      "Uploading /Users/lex/Documents/1000models/notebooks/model_schema.json: 100.000%|██████████| 482/482 elapsed<00:01 remaining<00:00\n",
      "Model export complete: 100%|██████████| 6/6 [00:13<00:00,  2.21s/it]                   \n"
     ]
    },
    {
     "name": "stdout",
     "output_type": "stream",
     "text": [
      "Model created, explore it at https://demo.hops.works:443/p/14455/models/demand_forecaster_item9148526_loc3/1\n",
      "Finished: Reading data from Hopsworks, using Hopsworks Feature Query Service (0.59s) \n",
      "2025-05-09 11:37:47,523 INFO: Provenance cached data - overwriting last accessed/created training dataset from 131 to 132.\n"
     ]
    },
    {
     "name": "stderr",
     "output_type": "stream",
     "text": [
      "Uploading /Users/lex/Documents/1000models/notebooks/demand_forecaster_item9600282_loc3/model.json: 100.000%|██████████| 188831/188831 elapsed<00:01 remaining<00:00\n",
      "Uploading /Users/lex/Documents/1000models/notebooks/input_example.json: 100.000%|██████████| 23/23 elapsed<00:01 remaining<00:00\n",
      "Uploading /Users/lex/Documents/1000models/notebooks/model_schema.json: 100.000%|██████████| 482/482 elapsed<00:01 remaining<00:00\n",
      "Model export complete: 100%|██████████| 6/6 [00:12<00:00,  2.15s/it]                   \n"
     ]
    },
    {
     "name": "stdout",
     "output_type": "stream",
     "text": [
      "Model created, explore it at https://demo.hops.works:443/p/14455/models/demand_forecaster_item9600282_loc3/1\n",
      "Finished: Reading data from Hopsworks, using Hopsworks Feature Query Service (0.69s) \n",
      "2025-05-09 11:38:05,533 INFO: Provenance cached data - overwriting last accessed/created training dataset from 132 to 133.\n"
     ]
    },
    {
     "name": "stderr",
     "output_type": "stream",
     "text": [
      "Uploading /Users/lex/Documents/1000models/notebooks/demand_forecaster_item9696581_loc3/model.json: 100.000%|██████████| 183598/183598 elapsed<00:02 remaining<00:00\n",
      "Uploading /Users/lex/Documents/1000models/notebooks/input_example.json: 100.000%|██████████| 23/23 elapsed<00:01 remaining<00:00\n",
      "Uploading /Users/lex/Documents/1000models/notebooks/model_schema.json: 100.000%|██████████| 482/482 elapsed<00:01 remaining<00:00\n",
      "Model export complete: 100%|██████████| 6/6 [00:13<00:00,  2.27s/it]                   \n"
     ]
    },
    {
     "name": "stdout",
     "output_type": "stream",
     "text": [
      "Model created, explore it at https://demo.hops.works:443/p/14455/models/demand_forecaster_item9696581_loc3/1\n",
      "Finished: Reading data from Hopsworks, using Hopsworks Feature Query Service (0.61s) \n",
      "2025-05-09 11:38:26,039 INFO: Provenance cached data - overwriting last accessed/created training dataset from 133 to 134.\n"
     ]
    },
    {
     "name": "stderr",
     "output_type": "stream",
     "text": [
      "Uploading /Users/lex/Documents/1000models/notebooks/demand_forecaster_item9142925_loc3/model.json: 100.000%|██████████| 198102/198102 elapsed<00:02 remaining<00:00\n",
      "Uploading /Users/lex/Documents/1000models/notebooks/input_example.json: 100.000%|██████████| 23/23 elapsed<00:01 remaining<00:00\n",
      "Uploading /Users/lex/Documents/1000models/notebooks/model_schema.json: 100.000%|██████████| 482/482 elapsed<00:01 remaining<00:00\n",
      "Model export complete: 100%|██████████| 6/6 [00:12<00:00,  2.14s/it]                   \n"
     ]
    },
    {
     "name": "stdout",
     "output_type": "stream",
     "text": [
      "Model created, explore it at https://demo.hops.works:443/p/14455/models/demand_forecaster_item9142925_loc3/1\n",
      "Training model 135/200 (Item: 8254944, Location: 3)\n",
      "Finished: Reading data from Hopsworks, using Hopsworks Feature Query Service (0.71s) \n",
      "2025-05-09 11:38:44,506 INFO: Provenance cached data - overwriting last accessed/created training dataset from 134 to 135.\n",
      "  RandomForest: RMSE: 1049.20\n",
      "  XGBoost: RMSE: 1048.79\n"
     ]
    },
    {
     "name": "stderr",
     "output_type": "stream",
     "text": [
      "Uploading /Users/lex/Documents/1000models/notebooks/demand_forecaster_item8254944_loc3/model.json: 100.000%|██████████| 195366/195366 elapsed<00:02 remaining<00:00\n",
      "Uploading /Users/lex/Documents/1000models/notebooks/input_example.json: 100.000%|██████████| 23/23 elapsed<00:01 remaining<00:00\n",
      "Uploading /Users/lex/Documents/1000models/notebooks/model_schema.json: 100.000%|██████████| 482/482 elapsed<00:01 remaining<00:00\n",
      "Model export complete: 100%|██████████| 6/6 [00:13<00:00,  2.22s/it]                   \n"
     ]
    },
    {
     "name": "stdout",
     "output_type": "stream",
     "text": [
      "Model created, explore it at https://demo.hops.works:443/p/14455/models/demand_forecaster_item8254944_loc3/1\n",
      "Finished: Reading data from Hopsworks, using Hopsworks Feature Query Service (0.60s) \n",
      "2025-05-09 11:39:03,521 INFO: Provenance cached data - overwriting last accessed/created training dataset from 135 to 136.\n"
     ]
    },
    {
     "name": "stderr",
     "output_type": "stream",
     "text": [
      "Uploading /Users/lex/Documents/1000models/notebooks/demand_forecaster_item8054413_loc3/model.json: 100.000%|██████████| 208968/208968 elapsed<00:02 remaining<00:00\n",
      "Uploading /Users/lex/Documents/1000models/notebooks/input_example.json: 100.000%|██████████| 23/23 elapsed<00:01 remaining<00:00\n",
      "Uploading /Users/lex/Documents/1000models/notebooks/model_schema.json: 100.000%|██████████| 482/482 elapsed<00:01 remaining<00:00\n",
      "Model export complete: 100%|██████████| 6/6 [00:12<00:00,  2.15s/it]                   \n"
     ]
    },
    {
     "name": "stdout",
     "output_type": "stream",
     "text": [
      "Model created, explore it at https://demo.hops.works:443/p/14455/models/demand_forecaster_item8054413_loc3/1\n",
      "Finished: Reading data from Hopsworks, using Hopsworks Feature Query Service (0.69s) \n",
      "2025-05-09 11:39:22,111 INFO: Provenance cached data - overwriting last accessed/created training dataset from 136 to 137.\n"
     ]
    },
    {
     "name": "stderr",
     "output_type": "stream",
     "text": [
      "Uploading /Users/lex/Documents/1000models/notebooks/demand_forecaster_item9923834_loc3/model.joblib: 100.000%|██████████| 716833/716833 elapsed<00:03 remaining<00:00\n",
      "Uploading /Users/lex/Documents/1000models/notebooks/input_example.json: 100.000%|██████████| 23/23 elapsed<00:01 remaining<00:00\n",
      "Uploading /Users/lex/Documents/1000models/notebooks/model_schema.json: 100.000%|██████████| 482/482 elapsed<00:01 remaining<00:00\n",
      "Model export complete: 100%|██████████| 6/6 [00:15<00:00,  2.60s/it]                   \n"
     ]
    },
    {
     "name": "stdout",
     "output_type": "stream",
     "text": [
      "Model created, explore it at https://demo.hops.works:443/p/14455/models/demand_forecaster_item9923834_loc3/1\n",
      "Finished: Reading data from Hopsworks, using Hopsworks Feature Query Service (0.61s) \n",
      "2025-05-09 11:39:43,240 INFO: Provenance cached data - overwriting last accessed/created training dataset from 137 to 138.\n"
     ]
    },
    {
     "name": "stderr",
     "output_type": "stream",
     "text": [
      "Uploading /Users/lex/Documents/1000models/notebooks/demand_forecaster_item8302117_loc3/model.json: 100.000%|██████████| 205447/205447 elapsed<00:02 remaining<00:00\n",
      "Uploading /Users/lex/Documents/1000models/notebooks/input_example.json: 100.000%|██████████| 23/23 elapsed<00:01 remaining<00:00\n",
      "Uploading /Users/lex/Documents/1000models/notebooks/model_schema.json: 100.000%|██████████| 482/482 elapsed<00:01 remaining<00:00\n",
      "Model export complete: 100%|██████████| 6/6 [00:12<00:00,  2.16s/it]                   \n"
     ]
    },
    {
     "name": "stdout",
     "output_type": "stream",
     "text": [
      "Model created, explore it at https://demo.hops.works:443/p/14455/models/demand_forecaster_item8302117_loc3/1\n",
      "Finished: Reading data from Hopsworks, using Hopsworks Feature Query Service (0.59s) \n",
      "2025-05-09 11:40:01,729 INFO: Provenance cached data - overwriting last accessed/created training dataset from 138 to 139.\n"
     ]
    },
    {
     "name": "stderr",
     "output_type": "stream",
     "text": [
      "Uploading /Users/lex/Documents/1000models/notebooks/demand_forecaster_item8485752_loc3/model.json: 100.000%|██████████| 178906/178906 elapsed<00:01 remaining<00:00\n",
      "Uploading /Users/lex/Documents/1000models/notebooks/input_example.json: 100.000%|██████████| 23/23 elapsed<00:01 remaining<00:00\n",
      "Uploading /Users/lex/Documents/1000models/notebooks/model_schema.json: 100.000%|██████████| 482/482 elapsed<00:01 remaining<00:00\n",
      "Model export complete: 100%|██████████| 6/6 [00:12<00:00,  2.01s/it]                   \n"
     ]
    },
    {
     "name": "stdout",
     "output_type": "stream",
     "text": [
      "Model created, explore it at https://demo.hops.works:443/p/14455/models/demand_forecaster_item8485752_loc3/1\n",
      "Training model 140/200 (Item: 9960368, Location: 3)\n",
      "Finished: Reading data from Hopsworks, using Hopsworks Feature Query Service (0.58s) \n",
      "2025-05-09 11:40:19,153 INFO: Provenance cached data - overwriting last accessed/created training dataset from 139 to 140.\n",
      "  RandomForest: RMSE: 1061.27\n",
      "  XGBoost: RMSE: 1060.94\n"
     ]
    },
    {
     "name": "stderr",
     "output_type": "stream",
     "text": [
      "Uploading /Users/lex/Documents/1000models/notebooks/demand_forecaster_item9960368_loc3/model.json: 100.000%|██████████| 193919/193919 elapsed<00:02 remaining<00:00\n",
      "Uploading /Users/lex/Documents/1000models/notebooks/input_example.json: 100.000%|██████████| 23/23 elapsed<00:02 remaining<00:00\n",
      "Uploading /Users/lex/Documents/1000models/notebooks/model_schema.json: 100.000%|██████████| 482/482 elapsed<00:01 remaining<00:00\n",
      "Model export complete: 100%|██████████| 6/6 [00:14<00:00,  2.35s/it]                   \n"
     ]
    },
    {
     "name": "stdout",
     "output_type": "stream",
     "text": [
      "Model created, explore it at https://demo.hops.works:443/p/14455/models/demand_forecaster_item9960368_loc3/1\n",
      "Finished: Reading data from Hopsworks, using Hopsworks Feature Query Service (0.63s) \n",
      "2025-05-09 11:40:38,564 INFO: Provenance cached data - overwriting last accessed/created training dataset from 140 to 141.\n"
     ]
    },
    {
     "name": "stderr",
     "output_type": "stream",
     "text": [
      "Uploading /Users/lex/Documents/1000models/notebooks/demand_forecaster_item9052120_loc3/model.json: 100.000%|██████████| 189347/189347 elapsed<00:01 remaining<00:00\n",
      "Uploading /Users/lex/Documents/1000models/notebooks/input_example.json: 100.000%|██████████| 23/23 elapsed<00:01 remaining<00:00\n",
      "Uploading /Users/lex/Documents/1000models/notebooks/model_schema.json: 100.000%|██████████| 482/482 elapsed<00:01 remaining<00:00\n",
      "Model export complete: 100%|██████████| 6/6 [00:13<00:00,  2.22s/it]                   \n"
     ]
    },
    {
     "name": "stdout",
     "output_type": "stream",
     "text": [
      "Model created, explore it at https://demo.hops.works:443/p/14455/models/demand_forecaster_item9052120_loc3/1\n",
      "Finished: Reading data from Hopsworks, using Hopsworks Feature Query Service (0.56s) \n",
      "2025-05-09 11:40:57,649 INFO: Provenance cached data - overwriting last accessed/created training dataset from 141 to 142.\n"
     ]
    },
    {
     "name": "stderr",
     "output_type": "stream",
     "text": [
      "Uploading /Users/lex/Documents/1000models/notebooks/demand_forecaster_item8061502_loc3/model.json: 100.000%|██████████| 185003/185003 elapsed<00:01 remaining<00:00\n",
      "Uploading /Users/lex/Documents/1000models/notebooks/input_example.json: 100.000%|██████████| 23/23 elapsed<00:01 remaining<00:00\n",
      "Uploading /Users/lex/Documents/1000models/notebooks/model_schema.json: 100.000%|██████████| 482/482 elapsed<00:01 remaining<00:00\n",
      "Model export complete: 100%|██████████| 6/6 [00:12<00:00,  2.09s/it]                   \n"
     ]
    },
    {
     "name": "stdout",
     "output_type": "stream",
     "text": [
      "Model created, explore it at https://demo.hops.works:443/p/14455/models/demand_forecaster_item8061502_loc3/1\n",
      "Finished: Reading data from Hopsworks, using Hopsworks Feature Query Service (0.64s) \n",
      "2025-05-09 11:41:15,480 INFO: Provenance cached data - overwriting last accessed/created training dataset from 142 to 143.\n"
     ]
    },
    {
     "name": "stderr",
     "output_type": "stream",
     "text": [
      "Uploading /Users/lex/Documents/1000models/notebooks/demand_forecaster_item7981432_loc3/model.json: 100.000%|██████████| 203975/203975 elapsed<00:01 remaining<00:00\n",
      "Uploading /Users/lex/Documents/1000models/notebooks/input_example.json: 100.000%|██████████| 23/23 elapsed<00:01 remaining<00:00\n",
      "Uploading /Users/lex/Documents/1000models/notebooks/model_schema.json: 100.000%|██████████| 482/482 elapsed<00:01 remaining<00:00\n",
      "Model export complete: 100%|██████████| 6/6 [00:12<00:00,  2.10s/it]                   \n"
     ]
    },
    {
     "name": "stdout",
     "output_type": "stream",
     "text": [
      "Model created, explore it at https://demo.hops.works:443/p/14455/models/demand_forecaster_item7981432_loc3/1\n",
      "Finished: Reading data from Hopsworks, using Hopsworks Feature Query Service (0.62s) \n",
      "2025-05-09 11:41:33,350 INFO: Provenance cached data - overwriting last accessed/created training dataset from 143 to 144.\n"
     ]
    },
    {
     "name": "stderr",
     "output_type": "stream",
     "text": [
      "Uploading /Users/lex/Documents/1000models/notebooks/demand_forecaster_item8904019_loc3/model.json: 100.000%|██████████| 191552/191552 elapsed<00:02 remaining<00:00\n",
      "Uploading /Users/lex/Documents/1000models/notebooks/input_example.json: 100.000%|██████████| 23/23 elapsed<00:01 remaining<00:00\n",
      "Uploading /Users/lex/Documents/1000models/notebooks/model_schema.json: 100.000%|██████████| 482/482 elapsed<00:01 remaining<00:00\n",
      "Model export complete: 100%|██████████| 6/6 [00:13<00:00,  2.17s/it]                   \n"
     ]
    },
    {
     "name": "stdout",
     "output_type": "stream",
     "text": [
      "Model created, explore it at https://demo.hops.works:443/p/14455/models/demand_forecaster_item8904019_loc3/1\n",
      "Training model 145/200 (Item: 8631417, Location: 3)\n",
      "Finished: Reading data from Hopsworks, using Hopsworks Feature Query Service (0.62s) \n",
      "2025-05-09 11:41:51,740 INFO: Provenance cached data - overwriting last accessed/created training dataset from 144 to 145.\n",
      "  RandomForest: RMSE: 1022.11\n",
      "  XGBoost: RMSE: 1022.02\n"
     ]
    },
    {
     "name": "stderr",
     "output_type": "stream",
     "text": [
      "Uploading /Users/lex/Documents/1000models/notebooks/demand_forecaster_item8631417_loc3/model.json: 100.000%|██████████| 190995/190995 elapsed<00:02 remaining<00:00\n",
      "Uploading /Users/lex/Documents/1000models/notebooks/input_example.json: 100.000%|██████████| 23/23 elapsed<00:01 remaining<00:00\n",
      "Uploading /Users/lex/Documents/1000models/notebooks/model_schema.json: 100.000%|██████████| 482/482 elapsed<00:01 remaining<00:00\n",
      "Model export complete: 100%|██████████| 6/6 [00:12<00:00,  2.09s/it]                   \n"
     ]
    },
    {
     "name": "stdout",
     "output_type": "stream",
     "text": [
      "Model created, explore it at https://demo.hops.works:443/p/14455/models/demand_forecaster_item8631417_loc3/1\n",
      "Finished: Reading data from Hopsworks, using Hopsworks Feature Query Service (0.62s) \n",
      "2025-05-09 11:42:09,818 INFO: Provenance cached data - overwriting last accessed/created training dataset from 145 to 146.\n"
     ]
    },
    {
     "name": "stderr",
     "output_type": "stream",
     "text": [
      "Uploading /Users/lex/Documents/1000models/notebooks/demand_forecaster_item9611343_loc3/model.joblib: 100.000%|██████████| 716833/716833 elapsed<00:02 remaining<00:00\n",
      "Uploading /Users/lex/Documents/1000models/notebooks/input_example.json: 100.000%|██████████| 23/23 elapsed<00:01 remaining<00:00\n",
      "Uploading /Users/lex/Documents/1000models/notebooks/model_schema.json: 100.000%|██████████| 482/482 elapsed<00:01 remaining<00:00\n",
      "Model export complete: 100%|██████████| 6/6 [00:12<00:00,  2.14s/it]                   \n"
     ]
    },
    {
     "name": "stdout",
     "output_type": "stream",
     "text": [
      "Model created, explore it at https://demo.hops.works:443/p/14455/models/demand_forecaster_item9611343_loc3/1\n",
      "Finished: Reading data from Hopsworks, using Hopsworks Feature Query Service (0.64s) \n",
      "2025-05-09 11:42:30,493 INFO: Provenance cached data - overwriting last accessed/created training dataset from 146 to 147.\n"
     ]
    },
    {
     "name": "stderr",
     "output_type": "stream",
     "text": [
      "Uploading /Users/lex/Documents/1000models/notebooks/demand_forecaster_item9600906_loc3/model.joblib: 100.000%|██████████| 716833/716833 elapsed<00:02 remaining<00:00\n",
      "Uploading /Users/lex/Documents/1000models/notebooks/input_example.json: 100.000%|██████████| 23/23 elapsed<00:01 remaining<00:00\n",
      "Uploading /Users/lex/Documents/1000models/notebooks/model_schema.json: 100.000%|██████████| 482/482 elapsed<00:01 remaining<00:00\n",
      "Model export complete: 100%|██████████| 6/6 [00:13<00:00,  2.17s/it]                   \n"
     ]
    },
    {
     "name": "stdout",
     "output_type": "stream",
     "text": [
      "Model created, explore it at https://demo.hops.works:443/p/14455/models/demand_forecaster_item9600906_loc3/1\n",
      "Finished: Reading data from Hopsworks, using Hopsworks Feature Query Service (0.65s) \n",
      "2025-05-09 11:42:49,271 INFO: Provenance cached data - overwriting last accessed/created training dataset from 147 to 148.\n"
     ]
    },
    {
     "name": "stderr",
     "output_type": "stream",
     "text": [
      "Uploading /Users/lex/Documents/1000models/notebooks/demand_forecaster_item10012177_loc3/model.json: 100.000%|██████████| 192456/192456 elapsed<00:02 remaining<00:00\n",
      "Uploading /Users/lex/Documents/1000models/notebooks/input_example.json: 100.000%|██████████| 23/23 elapsed<00:01 remaining<00:00\n",
      "Uploading /Users/lex/Documents/1000models/notebooks/model_schema.json: 100.000%|██████████| 482/482 elapsed<00:01 remaining<00:00\n",
      "Model export complete: 100%|██████████| 6/6 [00:12<00:00,  2.13s/it]                   \n"
     ]
    },
    {
     "name": "stdout",
     "output_type": "stream",
     "text": [
      "Model created, explore it at https://demo.hops.works:443/p/14455/models/demand_forecaster_item10012177_loc3/1\n",
      "Finished: Reading data from Hopsworks, using Hopsworks Feature Query Service (0.70s) \n",
      "2025-05-09 11:43:08,487 INFO: Provenance cached data - overwriting last accessed/created training dataset from 148 to 149.\n"
     ]
    },
    {
     "name": "stderr",
     "output_type": "stream",
     "text": [
      "Uploading /Users/lex/Documents/1000models/notebooks/demand_forecaster_item8123778_loc3/model.joblib: 100.000%|██████████| 716833/716833 elapsed<00:02 remaining<00:00\n",
      "Uploading /Users/lex/Documents/1000models/notebooks/input_example.json: 100.000%|██████████| 23/23 elapsed<00:01 remaining<00:00\n",
      "Uploading /Users/lex/Documents/1000models/notebooks/model_schema.json: 100.000%|██████████| 482/482 elapsed<00:01 remaining<00:00\n",
      "Model export complete: 100%|██████████| 6/6 [00:13<00:00,  2.17s/it]                   \n"
     ]
    },
    {
     "name": "stdout",
     "output_type": "stream",
     "text": [
      "Model created, explore it at https://demo.hops.works:443/p/14455/models/demand_forecaster_item8123778_loc3/1\n",
      "Training model 150/200 (Item: 9777514, Location: 3)\n",
      "Finished: Reading data from Hopsworks, using Hopsworks Feature Query Service (0.63s) \n",
      "2025-05-09 11:43:28,006 INFO: Provenance cached data - overwriting last accessed/created training dataset from 149 to 150.\n",
      "  RandomForest: RMSE: 1108.43\n",
      "  XGBoost: RMSE: 1108.10\n"
     ]
    },
    {
     "name": "stderr",
     "output_type": "stream",
     "text": [
      "Uploading /Users/lex/Documents/1000models/notebooks/demand_forecaster_item9777514_loc3/model.json: 100.000%|██████████| 200023/200023 elapsed<00:02 remaining<00:00\n",
      "Uploading /Users/lex/Documents/1000models/notebooks/input_example.json: 100.000%|██████████| 23/23 elapsed<00:01 remaining<00:00\n",
      "Uploading /Users/lex/Documents/1000models/notebooks/model_schema.json: 100.000%|██████████| 482/482 elapsed<00:01 remaining<00:00\n",
      "Model export complete: 100%|██████████| 6/6 [00:12<00:00,  2.13s/it]                   \n"
     ]
    },
    {
     "name": "stdout",
     "output_type": "stream",
     "text": [
      "Model created, explore it at https://demo.hops.works:443/p/14455/models/demand_forecaster_item9777514_loc3/1\n",
      "Finished: Reading data from Hopsworks, using Hopsworks Feature Query Service (0.58s) \n",
      "2025-05-09 11:43:46,115 INFO: Provenance cached data - overwriting last accessed/created training dataset from 150 to 151.\n"
     ]
    },
    {
     "name": "stderr",
     "output_type": "stream",
     "text": [
      "Uploading /Users/lex/Documents/1000models/notebooks/demand_forecaster_item8795281_loc3/model.json: 100.000%|██████████| 191949/191949 elapsed<00:02 remaining<00:00\n",
      "Uploading /Users/lex/Documents/1000models/notebooks/input_example.json: 100.000%|██████████| 23/23 elapsed<00:01 remaining<00:00\n",
      "Uploading /Users/lex/Documents/1000models/notebooks/model_schema.json: 100.000%|██████████| 482/482 elapsed<00:01 remaining<00:00\n",
      "Model export complete: 100%|██████████| 6/6 [00:12<00:00,  2.14s/it]                   \n"
     ]
    },
    {
     "name": "stdout",
     "output_type": "stream",
     "text": [
      "Model created, explore it at https://demo.hops.works:443/p/14455/models/demand_forecaster_item8795281_loc3/1\n",
      "Finished: Reading data from Hopsworks, using Hopsworks Feature Query Service (0.57s) \n",
      "2025-05-09 11:44:04,675 INFO: Provenance cached data - overwriting last accessed/created training dataset from 151 to 152.\n"
     ]
    },
    {
     "name": "stderr",
     "output_type": "stream",
     "text": [
      "Uploading /Users/lex/Documents/1000models/notebooks/demand_forecaster_item9012613_loc3/model.joblib: 100.000%|██████████| 716833/716833 elapsed<00:02 remaining<00:00\n",
      "Uploading /Users/lex/Documents/1000models/notebooks/input_example.json: 100.000%|██████████| 23/23 elapsed<00:01 remaining<00:00\n",
      "Uploading /Users/lex/Documents/1000models/notebooks/model_schema.json: 100.000%|██████████| 482/482 elapsed<00:01 remaining<00:00\n",
      "Model export complete: 100%|██████████| 6/6 [00:13<00:00,  2.21s/it]                   \n"
     ]
    },
    {
     "name": "stdout",
     "output_type": "stream",
     "text": [
      "Model created, explore it at https://demo.hops.works:443/p/14455/models/demand_forecaster_item9012613_loc3/1\n",
      "Finished: Reading data from Hopsworks, using Hopsworks Feature Query Service (0.56s) \n",
      "2025-05-09 11:44:23,466 INFO: Provenance cached data - overwriting last accessed/created training dataset from 152 to 153.\n"
     ]
    },
    {
     "name": "stderr",
     "output_type": "stream",
     "text": [
      "Uploading /Users/lex/Documents/1000models/notebooks/demand_forecaster_item8040060_loc3/model.joblib: 100.000%|██████████| 716833/716833 elapsed<00:02 remaining<00:00\n",
      "Uploading /Users/lex/Documents/1000models/notebooks/input_example.json: 100.000%|██████████| 23/23 elapsed<00:01 remaining<00:00\n",
      "Uploading /Users/lex/Documents/1000models/notebooks/model_schema.json: 100.000%|██████████| 482/482 elapsed<00:01 remaining<00:00\n",
      "Model export complete: 100%|██████████| 6/6 [00:13<00:00,  2.25s/it]                   \n"
     ]
    },
    {
     "name": "stdout",
     "output_type": "stream",
     "text": [
      "Model created, explore it at https://demo.hops.works:443/p/14455/models/demand_forecaster_item8040060_loc3/1\n",
      "Finished: Reading data from Hopsworks, using Hopsworks Feature Query Service (0.86s) \n",
      "2025-05-09 11:44:42,417 INFO: Provenance cached data - overwriting last accessed/created training dataset from 153 to 154.\n"
     ]
    },
    {
     "name": "stderr",
     "output_type": "stream",
     "text": [
      "Uploading /Users/lex/Documents/1000models/notebooks/demand_forecaster_item8421863_loc3/model.json: 100.000%|██████████| 186696/186696 elapsed<00:01 remaining<00:00\n",
      "Uploading /Users/lex/Documents/1000models/notebooks/input_example.json: 100.000%|██████████| 23/23 elapsed<00:01 remaining<00:00\n",
      "Uploading /Users/lex/Documents/1000models/notebooks/model_schema.json: 100.000%|██████████| 482/482 elapsed<00:01 remaining<00:00\n",
      "Model export complete: 100%|██████████| 6/6 [00:12<00:00,  2.10s/it]                   \n"
     ]
    },
    {
     "name": "stdout",
     "output_type": "stream",
     "text": [
      "Model created, explore it at https://demo.hops.works:443/p/14455/models/demand_forecaster_item8421863_loc3/1\n",
      "Training model 155/200 (Item: 9079845, Location: 3)\n",
      "Finished: Reading data from Hopsworks, using Hopsworks Feature Query Service (0.60s) \n",
      "2025-05-09 11:45:00,493 INFO: Provenance cached data - overwriting last accessed/created training dataset from 154 to 155.\n",
      "  RandomForest: RMSE: 1182.43\n",
      "  XGBoost: RMSE: 1182.65\n"
     ]
    },
    {
     "name": "stderr",
     "output_type": "stream",
     "text": [
      "Uploading /Users/lex/Documents/1000models/notebooks/demand_forecaster_item9079845_loc3/model.joblib: 100.000%|██████████| 716833/716833 elapsed<00:02 remaining<00:00\n",
      "Uploading /Users/lex/Documents/1000models/notebooks/input_example.json: 100.000%|██████████| 23/23 elapsed<00:01 remaining<00:00\n",
      "Uploading /Users/lex/Documents/1000models/notebooks/model_schema.json: 100.000%|██████████| 482/482 elapsed<00:01 remaining<00:00\n",
      "Model export complete: 100%|██████████| 6/6 [00:13<00:00,  2.23s/it]                   \n"
     ]
    },
    {
     "name": "stdout",
     "output_type": "stream",
     "text": [
      "Model created, explore it at https://demo.hops.works:443/p/14455/models/demand_forecaster_item9079845_loc3/1\n",
      "Finished: Reading data from Hopsworks, using Hopsworks Feature Query Service (0.59s) \n",
      "2025-05-09 11:45:19,366 INFO: Provenance cached data - overwriting last accessed/created training dataset from 155 to 156.\n"
     ]
    },
    {
     "name": "stderr",
     "output_type": "stream",
     "text": [
      "Uploading /Users/lex/Documents/1000models/notebooks/demand_forecaster_item7980497_loc3/model.json: 100.000%|██████████| 190519/190519 elapsed<00:01 remaining<00:00\n",
      "Uploading /Users/lex/Documents/1000models/notebooks/input_example.json: 100.000%|██████████| 23/23 elapsed<00:03 remaining<00:00\n",
      "Uploading /Users/lex/Documents/1000models/notebooks/model_schema.json: 100.000%|██████████| 482/482 elapsed<00:01 remaining<00:00\n",
      "Model export complete: 100%|██████████| 6/6 [00:14<00:00,  2.35s/it]                   \n"
     ]
    },
    {
     "name": "stdout",
     "output_type": "stream",
     "text": [
      "Model created, explore it at https://demo.hops.works:443/p/14455/models/demand_forecaster_item7980497_loc3/1\n",
      "Finished: Reading data from Hopsworks, using Hopsworks Feature Query Service (0.65s) \n",
      "2025-05-09 11:45:38,896 INFO: Provenance cached data - overwriting last accessed/created training dataset from 156 to 157.\n"
     ]
    },
    {
     "name": "stderr",
     "output_type": "stream",
     "text": [
      "Uploading /Users/lex/Documents/1000models/notebooks/demand_forecaster_item8393772_loc3/model.joblib: 100.000%|██████████| 716833/716833 elapsed<00:02 remaining<00:00\n",
      "Uploading /Users/lex/Documents/1000models/notebooks/input_example.json: 100.000%|██████████| 23/23 elapsed<00:01 remaining<00:00\n",
      "Uploading /Users/lex/Documents/1000models/notebooks/model_schema.json: 100.000%|██████████| 482/482 elapsed<00:01 remaining<00:00\n",
      "Model export complete: 100%|██████████| 6/6 [00:13<00:00,  2.22s/it]                   \n"
     ]
    },
    {
     "name": "stdout",
     "output_type": "stream",
     "text": [
      "Model created, explore it at https://demo.hops.works:443/p/14455/models/demand_forecaster_item8393772_loc3/1\n",
      "Finished: Reading data from Hopsworks, using Hopsworks Feature Query Service (0.68s) \n",
      "2025-05-09 11:45:57,690 INFO: Provenance cached data - overwriting last accessed/created training dataset from 157 to 158.\n"
     ]
    },
    {
     "name": "stderr",
     "output_type": "stream",
     "text": [
      "Uploading /Users/lex/Documents/1000models/notebooks/demand_forecaster_item9046137_loc3/model.json: 100.000%|██████████| 190521/190521 elapsed<00:02 remaining<00:00\n",
      "Uploading /Users/lex/Documents/1000models/notebooks/input_example.json: 100.000%|██████████| 23/23 elapsed<00:01 remaining<00:00\n",
      "Uploading /Users/lex/Documents/1000models/notebooks/model_schema.json: 100.000%|██████████| 482/482 elapsed<00:01 remaining<00:00\n",
      "Model export complete: 100%|██████████| 6/6 [00:12<00:00,  2.08s/it]                   \n"
     ]
    },
    {
     "name": "stdout",
     "output_type": "stream",
     "text": [
      "Model created, explore it at https://demo.hops.works:443/p/14455/models/demand_forecaster_item9046137_loc3/1\n",
      "Finished: Reading data from Hopsworks, using Hopsworks Feature Query Service (0.61s) \n",
      "2025-05-09 11:46:16,455 INFO: Provenance cached data - overwriting last accessed/created training dataset from 158 to 159.\n"
     ]
    },
    {
     "name": "stderr",
     "output_type": "stream",
     "text": [
      "Uploading /Users/lex/Documents/1000models/notebooks/demand_forecaster_item8033728_loc3/model.json: 100.000%|██████████| 187701/187701 elapsed<00:01 remaining<00:00\n",
      "Uploading /Users/lex/Documents/1000models/notebooks/input_example.json: 100.000%|██████████| 23/23 elapsed<00:01 remaining<00:00\n",
      "Uploading /Users/lex/Documents/1000models/notebooks/model_schema.json: 100.000%|██████████| 482/482 elapsed<00:01 remaining<00:00\n",
      "Model export complete: 100%|██████████| 6/6 [00:12<00:00,  2.13s/it]                   \n"
     ]
    },
    {
     "name": "stdout",
     "output_type": "stream",
     "text": [
      "Model created, explore it at https://demo.hops.works:443/p/14455/models/demand_forecaster_item8033728_loc3/1\n",
      "Training model 160/200 (Item: 9144098, Location: 3)\n",
      "Finished: Reading data from Hopsworks, using Hopsworks Feature Query Service (0.63s) \n",
      "2025-05-09 11:46:35,884 INFO: Provenance cached data - overwriting last accessed/created training dataset from 159 to 160.\n",
      "  RandomForest: RMSE: 1077.25\n",
      "  XGBoost: RMSE: 1076.99\n"
     ]
    },
    {
     "name": "stderr",
     "output_type": "stream",
     "text": [
      "Uploading /Users/lex/Documents/1000models/notebooks/demand_forecaster_item9144098_loc3/model.json: 100.000%|██████████| 184789/184789 elapsed<00:02 remaining<00:00\n",
      "Uploading /Users/lex/Documents/1000models/notebooks/input_example.json: 100.000%|██████████| 23/23 elapsed<00:01 remaining<00:00\n",
      "Uploading /Users/lex/Documents/1000models/notebooks/model_schema.json: 100.000%|██████████| 482/482 elapsed<00:01 remaining<00:00\n",
      "Model export complete: 100%|██████████| 6/6 [00:12<00:00,  2.16s/it]                   \n"
     ]
    },
    {
     "name": "stdout",
     "output_type": "stream",
     "text": [
      "Model created, explore it at https://demo.hops.works:443/p/14455/models/demand_forecaster_item9144098_loc3/1\n",
      "Finished: Reading data from Hopsworks, using Hopsworks Feature Query Service (0.63s) \n",
      "2025-05-09 11:46:54,397 INFO: Provenance cached data - overwriting last accessed/created training dataset from 160 to 161.\n"
     ]
    },
    {
     "name": "stderr",
     "output_type": "stream",
     "text": [
      "Uploading /Users/lex/Documents/1000models/notebooks/demand_forecaster_item7943412_loc3/model.json: 100.000%|██████████| 221742/221742 elapsed<00:01 remaining<00:00\n",
      "Uploading /Users/lex/Documents/1000models/notebooks/input_example.json: 100.000%|██████████| 23/23 elapsed<00:01 remaining<00:00\n",
      "Uploading /Users/lex/Documents/1000models/notebooks/model_schema.json: 100.000%|██████████| 482/482 elapsed<00:01 remaining<00:00\n",
      "Model export complete: 100%|██████████| 6/6 [00:12<00:00,  2.04s/it]                   \n"
     ]
    },
    {
     "name": "stdout",
     "output_type": "stream",
     "text": [
      "Model created, explore it at https://demo.hops.works:443/p/14455/models/demand_forecaster_item7943412_loc3/1\n",
      "Finished: Reading data from Hopsworks, using Hopsworks Feature Query Service (0.61s) \n",
      "2025-05-09 11:47:11,983 INFO: Provenance cached data - overwriting last accessed/created training dataset from 161 to 162.\n"
     ]
    },
    {
     "name": "stderr",
     "output_type": "stream",
     "text": [
      "Uploading /Users/lex/Documents/1000models/notebooks/demand_forecaster_item8911185_loc3/model.json: 100.000%|██████████| 190263/190263 elapsed<00:02 remaining<00:00\n",
      "Uploading /Users/lex/Documents/1000models/notebooks/input_example.json: 100.000%|██████████| 23/23 elapsed<00:01 remaining<00:00\n",
      "Uploading /Users/lex/Documents/1000models/notebooks/model_schema.json: 100.000%|██████████| 482/482 elapsed<00:01 remaining<00:00\n",
      "Model export complete: 100%|██████████| 6/6 [00:12<00:00,  2.05s/it]                   \n"
     ]
    },
    {
     "name": "stdout",
     "output_type": "stream",
     "text": [
      "Model created, explore it at https://demo.hops.works:443/p/14455/models/demand_forecaster_item8911185_loc3/1\n",
      "Finished: Reading data from Hopsworks, using Hopsworks Feature Query Service (0.67s) \n",
      "2025-05-09 11:47:29,836 INFO: Provenance cached data - overwriting last accessed/created training dataset from 162 to 163.\n"
     ]
    },
    {
     "name": "stderr",
     "output_type": "stream",
     "text": [
      "Uploading /Users/lex/Documents/1000models/notebooks/demand_forecaster_item8120556_loc3/model.joblib: 100.000%|██████████| 716833/716833 elapsed<00:02 remaining<00:00\n",
      "Uploading /Users/lex/Documents/1000models/notebooks/input_example.json: 100.000%|██████████| 23/23 elapsed<00:01 remaining<00:00\n",
      "Uploading /Users/lex/Documents/1000models/notebooks/model_schema.json: 100.000%|██████████| 482/482 elapsed<00:01 remaining<00:00\n",
      "Model export complete: 100%|██████████| 6/6 [00:13<00:00,  2.20s/it]                   \n"
     ]
    },
    {
     "name": "stdout",
     "output_type": "stream",
     "text": [
      "Model created, explore it at https://demo.hops.works:443/p/14455/models/demand_forecaster_item8120556_loc3/1\n",
      "Finished: Reading data from Hopsworks, using Hopsworks Feature Query Service (0.62s) \n",
      "2025-05-09 11:47:48,401 INFO: Provenance cached data - overwriting last accessed/created training dataset from 163 to 164.\n"
     ]
    },
    {
     "name": "stderr",
     "output_type": "stream",
     "text": [
      "Uploading /Users/lex/Documents/1000models/notebooks/demand_forecaster_item10062504_loc3/model.json: 100.000%|██████████| 193722/193722 elapsed<00:02 remaining<00:00\n",
      "Uploading /Users/lex/Documents/1000models/notebooks/input_example.json: 100.000%|██████████| 23/23 elapsed<00:01 remaining<00:00\n",
      "Uploading /Users/lex/Documents/1000models/notebooks/model_schema.json: 100.000%|██████████| 482/482 elapsed<00:01 remaining<00:00\n",
      "Model export complete: 100%|██████████| 6/6 [00:13<00:00,  2.20s/it]                   \n"
     ]
    },
    {
     "name": "stdout",
     "output_type": "stream",
     "text": [
      "Model created, explore it at https://demo.hops.works:443/p/14455/models/demand_forecaster_item10062504_loc3/1\n",
      "Training model 165/200 (Item: 8941967, Location: 3)\n",
      "Finished: Reading data from Hopsworks, using Hopsworks Feature Query Service (0.70s) \n",
      "2025-05-09 11:48:06,743 INFO: Provenance cached data - overwriting last accessed/created training dataset from 164 to 165.\n",
      "  RandomForest: RMSE: 1220.74\n",
      "  XGBoost: RMSE: 1220.83\n"
     ]
    },
    {
     "name": "stderr",
     "output_type": "stream",
     "text": [
      "Uploading /Users/lex/Documents/1000models/notebooks/demand_forecaster_item8941967_loc3/model.joblib: 100.000%|██████████| 716833/716833 elapsed<00:02 remaining<00:00\n",
      "Uploading /Users/lex/Documents/1000models/notebooks/input_example.json: 100.000%|██████████| 23/23 elapsed<00:01 remaining<00:00\n",
      "Uploading /Users/lex/Documents/1000models/notebooks/model_schema.json: 100.000%|██████████| 482/482 elapsed<00:01 remaining<00:00\n",
      "Model export complete: 100%|██████████| 6/6 [00:13<00:00,  2.18s/it]                   \n"
     ]
    },
    {
     "name": "stdout",
     "output_type": "stream",
     "text": [
      "Model created, explore it at https://demo.hops.works:443/p/14455/models/demand_forecaster_item8941967_loc3/1\n",
      "Finished: Reading data from Hopsworks, using Hopsworks Feature Query Service (0.72s) \n",
      "2025-05-09 11:48:25,634 INFO: Provenance cached data - overwriting last accessed/created training dataset from 165 to 166.\n"
     ]
    },
    {
     "name": "stderr",
     "output_type": "stream",
     "text": [
      "Uploading /Users/lex/Documents/1000models/notebooks/demand_forecaster_item9152410_loc3/model.json: 100.000%|██████████| 193605/193605 elapsed<00:02 remaining<00:00\n",
      "Uploading /Users/lex/Documents/1000models/notebooks/input_example.json: 100.000%|██████████| 23/23 elapsed<00:01 remaining<00:00\n",
      "Uploading /Users/lex/Documents/1000models/notebooks/model_schema.json: 100.000%|██████████| 482/482 elapsed<00:01 remaining<00:00\n",
      "Model export complete: 100%|██████████| 6/6 [00:13<00:00,  2.20s/it]                   \n"
     ]
    },
    {
     "name": "stdout",
     "output_type": "stream",
     "text": [
      "Model created, explore it at https://demo.hops.works:443/p/14455/models/demand_forecaster_item9152410_loc3/1\n",
      "Finished: Reading data from Hopsworks, using Hopsworks Feature Query Service (0.60s) \n",
      "2025-05-09 11:48:44,506 INFO: Provenance cached data - overwriting last accessed/created training dataset from 166 to 167.\n"
     ]
    },
    {
     "name": "stderr",
     "output_type": "stream",
     "text": [
      "Uploading /Users/lex/Documents/1000models/notebooks/demand_forecaster_item9146499_loc3/model.json: 100.000%|██████████| 192354/192354 elapsed<00:01 remaining<00:00\n",
      "Uploading /Users/lex/Documents/1000models/notebooks/input_example.json: 100.000%|██████████| 23/23 elapsed<00:01 remaining<00:00\n",
      "Uploading /Users/lex/Documents/1000models/notebooks/model_schema.json: 100.000%|██████████| 482/482 elapsed<00:01 remaining<00:00\n",
      "Model export complete: 100%|██████████| 6/6 [00:12<00:00,  2.06s/it]                   \n"
     ]
    },
    {
     "name": "stdout",
     "output_type": "stream",
     "text": [
      "Model created, explore it at https://demo.hops.works:443/p/14455/models/demand_forecaster_item9146499_loc3/1\n",
      "Finished: Reading data from Hopsworks, using Hopsworks Feature Query Service (0.60s) \n",
      "2025-05-09 11:49:02,467 INFO: Provenance cached data - overwriting last accessed/created training dataset from 167 to 168.\n"
     ]
    },
    {
     "name": "stderr",
     "output_type": "stream",
     "text": [
      "Uploading /Users/lex/Documents/1000models/notebooks/demand_forecaster_item8455074_loc3/model.joblib: 100.000%|██████████| 716833/716833 elapsed<00:02 remaining<00:00\n",
      "Uploading /Users/lex/Documents/1000models/notebooks/input_example.json: 100.000%|██████████| 23/23 elapsed<00:01 remaining<00:00\n",
      "Uploading /Users/lex/Documents/1000models/notebooks/model_schema.json: 100.000%|██████████| 482/482 elapsed<00:01 remaining<00:00\n",
      "Model export complete: 100%|██████████| 6/6 [00:12<00:00,  2.13s/it]                   \n"
     ]
    },
    {
     "name": "stdout",
     "output_type": "stream",
     "text": [
      "Model created, explore it at https://demo.hops.works:443/p/14455/models/demand_forecaster_item8455074_loc3/1\n",
      "Finished: Reading data from Hopsworks, using Hopsworks Feature Query Service (0.58s) \n",
      "2025-05-09 11:49:20,732 INFO: Provenance cached data - overwriting last accessed/created training dataset from 168 to 169.\n"
     ]
    },
    {
     "name": "stderr",
     "output_type": "stream",
     "text": [
      "Uploading /Users/lex/Documents/1000models/notebooks/demand_forecaster_item8036065_loc3/model.json: 100.000%|██████████| 192592/192592 elapsed<00:02 remaining<00:00\n",
      "Uploading /Users/lex/Documents/1000models/notebooks/input_example.json: 100.000%|██████████| 23/23 elapsed<00:01 remaining<00:00\n",
      "Uploading /Users/lex/Documents/1000models/notebooks/model_schema.json: 100.000%|██████████| 482/482 elapsed<00:01 remaining<00:00\n",
      "Model export complete: 100%|██████████| 6/6 [00:13<00:00,  2.29s/it]                   \n"
     ]
    },
    {
     "name": "stdout",
     "output_type": "stream",
     "text": [
      "Model created, explore it at https://demo.hops.works:443/p/14455/models/demand_forecaster_item8036065_loc3/1\n",
      "Training model 170/200 (Item: 9152767, Location: 3)\n",
      "Finished: Reading data from Hopsworks, using Hopsworks Feature Query Service (0.58s) \n",
      "2025-05-09 11:49:40,062 INFO: Provenance cached data - overwriting last accessed/created training dataset from 169 to 170.\n",
      "  RandomForest: RMSE: 1149.16\n",
      "  XGBoost: RMSE: 1149.19\n"
     ]
    },
    {
     "name": "stderr",
     "output_type": "stream",
     "text": [
      "Uploading /Users/lex/Documents/1000models/notebooks/demand_forecaster_item9152767_loc3/model.joblib: 100.000%|██████████| 716833/716833 elapsed<00:02 remaining<00:00\n",
      "Uploading /Users/lex/Documents/1000models/notebooks/input_example.json: 100.000%|██████████| 23/23 elapsed<00:01 remaining<00:00\n",
      "Uploading /Users/lex/Documents/1000models/notebooks/model_schema.json: 100.000%|██████████| 482/482 elapsed<00:01 remaining<00:00\n",
      "Model export complete: 100%|██████████| 6/6 [00:12<00:00,  2.06s/it]                   \n"
     ]
    },
    {
     "name": "stdout",
     "output_type": "stream",
     "text": [
      "Model created, explore it at https://demo.hops.works:443/p/14455/models/demand_forecaster_item9152767_loc3/1\n",
      "Finished: Reading data from Hopsworks, using Hopsworks Feature Query Service (0.59s) \n",
      "2025-05-09 11:49:57,643 INFO: Provenance cached data - overwriting last accessed/created training dataset from 170 to 171.\n"
     ]
    },
    {
     "name": "stderr",
     "output_type": "stream",
     "text": [
      "Uploading /Users/lex/Documents/1000models/notebooks/demand_forecaster_item8309476_loc3/model.json: 100.000%|██████████| 210154/210154 elapsed<00:01 remaining<00:00\n",
      "Uploading /Users/lex/Documents/1000models/notebooks/input_example.json: 100.000%|██████████| 23/23 elapsed<00:01 remaining<00:00\n",
      "Uploading /Users/lex/Documents/1000models/notebooks/model_schema.json: 100.000%|██████████| 482/482 elapsed<00:01 remaining<00:00\n",
      "Model export complete: 100%|██████████| 6/6 [00:12<00:00,  2.11s/it]                   \n"
     ]
    },
    {
     "name": "stdout",
     "output_type": "stream",
     "text": [
      "Model created, explore it at https://demo.hops.works:443/p/14455/models/demand_forecaster_item8309476_loc3/1\n",
      "Finished: Reading data from Hopsworks, using Hopsworks Feature Query Service (0.60s) \n",
      "2025-05-09 11:50:15,882 INFO: Provenance cached data - overwriting last accessed/created training dataset from 171 to 172.\n"
     ]
    },
    {
     "name": "stderr",
     "output_type": "stream",
     "text": [
      "Uploading /Users/lex/Documents/1000models/notebooks/demand_forecaster_item8328468_loc3/model.joblib: 100.000%|██████████| 716833/716833 elapsed<00:02 remaining<00:00\n",
      "Uploading /Users/lex/Documents/1000models/notebooks/input_example.json: 100.000%|██████████| 23/23 elapsed<00:01 remaining<00:00\n",
      "Uploading /Users/lex/Documents/1000models/notebooks/model_schema.json: 100.000%|██████████| 482/482 elapsed<00:01 remaining<00:00\n",
      "Model export complete: 100%|██████████| 6/6 [00:15<00:00,  2.53s/it]                   \n"
     ]
    },
    {
     "name": "stdout",
     "output_type": "stream",
     "text": [
      "Model created, explore it at https://demo.hops.works:443/p/14455/models/demand_forecaster_item8328468_loc3/1\n",
      "Finished: Reading data from Hopsworks, using Hopsworks Feature Query Service (0.67s) \n",
      "2025-05-09 11:50:36,339 INFO: Provenance cached data - overwriting last accessed/created training dataset from 172 to 173.\n"
     ]
    },
    {
     "name": "stderr",
     "output_type": "stream",
     "text": [
      "Uploading /Users/lex/Documents/1000models/notebooks/demand_forecaster_item9584734_loc3/model.json: 100.000%|██████████| 196428/196428 elapsed<00:01 remaining<00:00\n",
      "Uploading /Users/lex/Documents/1000models/notebooks/input_example.json: 100.000%|██████████| 23/23 elapsed<00:01 remaining<00:00\n",
      "Uploading /Users/lex/Documents/1000models/notebooks/model_schema.json: 100.000%|██████████| 482/482 elapsed<00:01 remaining<00:00\n",
      "Model export complete: 100%|██████████| 6/6 [00:12<00:00,  2.16s/it]                   \n"
     ]
    },
    {
     "name": "stdout",
     "output_type": "stream",
     "text": [
      "Model created, explore it at https://demo.hops.works:443/p/14455/models/demand_forecaster_item9584734_loc3/1\n",
      "Finished: Reading data from Hopsworks, using Hopsworks Feature Query Service (0.66s) \n",
      "2025-05-09 11:50:54,757 INFO: Provenance cached data - overwriting last accessed/created training dataset from 173 to 174.\n"
     ]
    },
    {
     "name": "stderr",
     "output_type": "stream",
     "text": [
      "Uploading /Users/lex/Documents/1000models/notebooks/demand_forecaster_item8167751_loc3/model.joblib: 100.000%|██████████| 716833/716833 elapsed<00:02 remaining<00:00\n",
      "Uploading /Users/lex/Documents/1000models/notebooks/input_example.json: 100.000%|██████████| 23/23 elapsed<00:01 remaining<00:00\n",
      "Uploading /Users/lex/Documents/1000models/notebooks/model_schema.json: 100.000%|██████████| 482/482 elapsed<00:01 remaining<00:00\n",
      "Model export complete: 100%|██████████| 6/6 [00:13<00:00,  2.25s/it]                   \n"
     ]
    },
    {
     "name": "stdout",
     "output_type": "stream",
     "text": [
      "Model created, explore it at https://demo.hops.works:443/p/14455/models/demand_forecaster_item8167751_loc3/1\n",
      "Training model 175/200 (Item: 8606910, Location: 3)\n",
      "Finished: Reading data from Hopsworks, using Hopsworks Feature Query Service (0.55s) \n",
      "2025-05-09 11:51:13,495 INFO: Provenance cached data - overwriting last accessed/created training dataset from 174 to 175.\n",
      "  RandomForest: RMSE: 858.95\n",
      "  XGBoost: RMSE: 858.56\n"
     ]
    },
    {
     "name": "stderr",
     "output_type": "stream",
     "text": [
      "Uploading /Users/lex/Documents/1000models/notebooks/demand_forecaster_item8606910_loc3/model.json: 100.000%|██████████| 188925/188925 elapsed<00:01 remaining<00:00\n",
      "Uploading /Users/lex/Documents/1000models/notebooks/input_example.json: 100.000%|██████████| 23/23 elapsed<00:01 remaining<00:00\n",
      "Uploading /Users/lex/Documents/1000models/notebooks/model_schema.json: 100.000%|██████████| 482/482 elapsed<00:01 remaining<00:00\n",
      "Model export complete: 100%|██████████| 6/6 [00:12<00:00,  2.11s/it]                   \n"
     ]
    },
    {
     "name": "stdout",
     "output_type": "stream",
     "text": [
      "Model created, explore it at https://demo.hops.works:443/p/14455/models/demand_forecaster_item8606910_loc3/1\n",
      "Finished: Reading data from Hopsworks, using Hopsworks Feature Query Service (0.65s) \n",
      "2025-05-09 11:51:32,588 INFO: Provenance cached data - overwriting last accessed/created training dataset from 175 to 176.\n"
     ]
    },
    {
     "name": "stderr",
     "output_type": "stream",
     "text": [
      "Uploading /Users/lex/Documents/1000models/notebooks/demand_forecaster_item9981667_loc3/model.joblib: 100.000%|██████████| 716833/716833 elapsed<00:02 remaining<00:00\n",
      "Uploading /Users/lex/Documents/1000models/notebooks/input_example.json: 100.000%|██████████| 23/23 elapsed<00:01 remaining<00:00\n",
      "Uploading /Users/lex/Documents/1000models/notebooks/model_schema.json: 100.000%|██████████| 482/482 elapsed<00:01 remaining<00:00\n",
      "Model export complete: 100%|██████████| 6/6 [00:13<00:00,  2.32s/it]                   \n"
     ]
    },
    {
     "name": "stdout",
     "output_type": "stream",
     "text": [
      "Model created, explore it at https://demo.hops.works:443/p/14455/models/demand_forecaster_item9981667_loc3/1\n",
      "Finished: Reading data from Hopsworks, using Hopsworks Feature Query Service (0.63s) \n",
      "2025-05-09 11:51:51,865 INFO: Provenance cached data - overwriting last accessed/created training dataset from 176 to 177.\n"
     ]
    },
    {
     "name": "stderr",
     "output_type": "stream",
     "text": [
      "Uploading /Users/lex/Documents/1000models/notebooks/demand_forecaster_item8973992_loc3/model.joblib: 100.000%|██████████| 716833/716833 elapsed<00:02 remaining<00:00\n",
      "Uploading /Users/lex/Documents/1000models/notebooks/input_example.json: 100.000%|██████████| 23/23 elapsed<00:01 remaining<00:00\n",
      "Uploading /Users/lex/Documents/1000models/notebooks/model_schema.json: 100.000%|██████████| 482/482 elapsed<00:01 remaining<00:00\n",
      "Model export complete: 100%|██████████| 6/6 [00:13<00:00,  2.23s/it]                   \n"
     ]
    },
    {
     "name": "stdout",
     "output_type": "stream",
     "text": [
      "Model created, explore it at https://demo.hops.works:443/p/14455/models/demand_forecaster_item8973992_loc3/1\n",
      "Finished: Reading data from Hopsworks, using Hopsworks Feature Query Service (0.58s) \n",
      "2025-05-09 11:52:10,743 INFO: Provenance cached data - overwriting last accessed/created training dataset from 177 to 178.\n"
     ]
    },
    {
     "name": "stderr",
     "output_type": "stream",
     "text": [
      "Uploading /Users/lex/Documents/1000models/notebooks/demand_forecaster_item8870763_loc3/model.json: 100.000%|██████████| 216561/216561 elapsed<00:01 remaining<00:00\n",
      "Uploading /Users/lex/Documents/1000models/notebooks/input_example.json: 100.000%|██████████| 23/23 elapsed<00:01 remaining<00:00\n",
      "Uploading /Users/lex/Documents/1000models/notebooks/model_schema.json: 100.000%|██████████| 482/482 elapsed<00:01 remaining<00:00\n",
      "Model export complete: 100%|██████████| 6/6 [00:12<00:00,  2.13s/it]                   \n"
     ]
    },
    {
     "name": "stdout",
     "output_type": "stream",
     "text": [
      "Model created, explore it at https://demo.hops.works:443/p/14455/models/demand_forecaster_item8870763_loc3/1\n",
      "Finished: Reading data from Hopsworks, using Hopsworks Feature Query Service (0.66s) \n",
      "2025-05-09 11:52:29,240 INFO: Provenance cached data - overwriting last accessed/created training dataset from 178 to 179.\n"
     ]
    },
    {
     "name": "stderr",
     "output_type": "stream",
     "text": [
      "Uploading /Users/lex/Documents/1000models/notebooks/demand_forecaster_item8159985_loc3/model.joblib: 100.000%|██████████| 716833/716833 elapsed<00:02 remaining<00:00\n",
      "Uploading /Users/lex/Documents/1000models/notebooks/input_example.json: 100.000%|██████████| 23/23 elapsed<00:01 remaining<00:00\n",
      "Uploading /Users/lex/Documents/1000models/notebooks/model_schema.json: 100.000%|██████████| 482/482 elapsed<00:02 remaining<00:00\n",
      "Model export complete: 100%|██████████| 6/6 [00:13<00:00,  2.22s/it]                   \n"
     ]
    },
    {
     "name": "stdout",
     "output_type": "stream",
     "text": [
      "Model created, explore it at https://demo.hops.works:443/p/14455/models/demand_forecaster_item8159985_loc3/1\n",
      "Training model 180/200 (Item: 8175279, Location: 3)\n",
      "Finished: Reading data from Hopsworks, using Hopsworks Feature Query Service (0.60s) \n",
      "2025-05-09 11:52:48,120 INFO: Provenance cached data - overwriting last accessed/created training dataset from 179 to 180.\n",
      "  RandomForest: RMSE: 1351.02\n",
      "  XGBoost: RMSE: 1350.86\n"
     ]
    },
    {
     "name": "stderr",
     "output_type": "stream",
     "text": [
      "Uploading /Users/lex/Documents/1000models/notebooks/demand_forecaster_item8175279_loc3/model.json: 100.000%|██████████| 198964/198964 elapsed<00:02 remaining<00:00\n",
      "Uploading /Users/lex/Documents/1000models/notebooks/input_example.json: 100.000%|██████████| 23/23 elapsed<00:02 remaining<00:00\n",
      "Uploading /Users/lex/Documents/1000models/notebooks/model_schema.json: 100.000%|██████████| 482/482 elapsed<00:01 remaining<00:00\n",
      "Model export complete: 100%|██████████| 6/6 [00:13<00:00,  2.24s/it]                   \n"
     ]
    },
    {
     "name": "stdout",
     "output_type": "stream",
     "text": [
      "Model created, explore it at https://demo.hops.works:443/p/14455/models/demand_forecaster_item8175279_loc3/1\n",
      "Finished: Reading data from Hopsworks, using Hopsworks Feature Query Service (0.55s) \n",
      "2025-05-09 11:53:06,986 INFO: Provenance cached data - overwriting last accessed/created training dataset from 180 to 181.\n"
     ]
    },
    {
     "name": "stderr",
     "output_type": "stream",
     "text": [
      "Uploading /Users/lex/Documents/1000models/notebooks/demand_forecaster_item8204334_loc3/model.joblib: 100.000%|██████████| 716833/716833 elapsed<00:02 remaining<00:00\n",
      "Uploading /Users/lex/Documents/1000models/notebooks/input_example.json: 100.000%|██████████| 23/23 elapsed<00:01 remaining<00:00\n",
      "Uploading /Users/lex/Documents/1000models/notebooks/model_schema.json: 100.000%|██████████| 482/482 elapsed<00:01 remaining<00:00\n",
      "Model export complete: 100%|██████████| 6/6 [00:13<00:00,  2.18s/it]                   \n"
     ]
    },
    {
     "name": "stdout",
     "output_type": "stream",
     "text": [
      "Model created, explore it at https://demo.hops.works:443/p/14455/models/demand_forecaster_item8204334_loc3/1\n",
      "Finished: Reading data from Hopsworks, using Hopsworks Feature Query Service (0.67s) \n",
      "2025-05-09 11:53:25,833 INFO: Provenance cached data - overwriting last accessed/created training dataset from 181 to 182.\n"
     ]
    },
    {
     "name": "stderr",
     "output_type": "stream",
     "text": [
      "Uploading /Users/lex/Documents/1000models/notebooks/demand_forecaster_item8919238_loc3/model.json: 100.000%|██████████| 194106/194106 elapsed<00:02 remaining<00:00\n",
      "Uploading /Users/lex/Documents/1000models/notebooks/input_example.json: 100.000%|██████████| 23/23 elapsed<00:01 remaining<00:00\n",
      "Uploading /Users/lex/Documents/1000models/notebooks/model_schema.json: 100.000%|██████████| 482/482 elapsed<00:01 remaining<00:00\n",
      "Model export complete: 100%|██████████| 6/6 [00:12<00:00,  2.17s/it]                   \n"
     ]
    },
    {
     "name": "stdout",
     "output_type": "stream",
     "text": [
      "Model created, explore it at https://demo.hops.works:443/p/14455/models/demand_forecaster_item8919238_loc3/1\n",
      "Finished: Reading data from Hopsworks, using Hopsworks Feature Query Service (0.64s) \n",
      "2025-05-09 11:53:44,337 INFO: Provenance cached data - overwriting last accessed/created training dataset from 182 to 183.\n"
     ]
    },
    {
     "name": "stderr",
     "output_type": "stream",
     "text": [
      "Uploading /Users/lex/Documents/1000models/notebooks/demand_forecaster_item9144789_loc3/model.joblib: 100.000%|██████████| 716833/716833 elapsed<00:02 remaining<00:00\n",
      "Uploading /Users/lex/Documents/1000models/notebooks/input_example.json: 100.000%|██████████| 23/23 elapsed<00:01 remaining<00:00\n",
      "Uploading /Users/lex/Documents/1000models/notebooks/model_schema.json: 100.000%|██████████| 482/482 elapsed<00:01 remaining<00:00\n",
      "Model export complete: 100%|██████████| 6/6 [00:12<00:00,  2.15s/it]                   \n"
     ]
    },
    {
     "name": "stdout",
     "output_type": "stream",
     "text": [
      "Model created, explore it at https://demo.hops.works:443/p/14455/models/demand_forecaster_item9144789_loc3/1\n",
      "Finished: Reading data from Hopsworks, using Hopsworks Feature Query Service (0.61s) \n",
      "2025-05-09 11:54:02,656 INFO: Provenance cached data - overwriting last accessed/created training dataset from 183 to 184.\n"
     ]
    },
    {
     "name": "stderr",
     "output_type": "stream",
     "text": [
      "Uploading /Users/lex/Documents/1000models/notebooks/demand_forecaster_item9742273_loc3/model.json: 100.000%|██████████| 191591/191591 elapsed<00:01 remaining<00:00\n",
      "Uploading /Users/lex/Documents/1000models/notebooks/input_example.json: 100.000%|██████████| 23/23 elapsed<00:01 remaining<00:00\n",
      "Uploading /Users/lex/Documents/1000models/notebooks/model_schema.json: 100.000%|██████████| 482/482 elapsed<00:01 remaining<00:00\n",
      "Model export complete: 100%|██████████| 6/6 [00:12<00:00,  2.11s/it]                   \n"
     ]
    },
    {
     "name": "stdout",
     "output_type": "stream",
     "text": [
      "Model created, explore it at https://demo.hops.works:443/p/14455/models/demand_forecaster_item9742273_loc3/1\n",
      "Training model 185/200 (Item: 9583354, Location: 3)\n",
      "Finished: Reading data from Hopsworks, using Hopsworks Feature Query Service (0.68s) \n",
      "2025-05-09 11:54:20,703 INFO: Provenance cached data - overwriting last accessed/created training dataset from 184 to 185.\n",
      "  RandomForest: RMSE: 1156.90\n",
      "  XGBoost: RMSE: 1156.73\n"
     ]
    },
    {
     "name": "stderr",
     "output_type": "stream",
     "text": [
      "Uploading /Users/lex/Documents/1000models/notebooks/demand_forecaster_item9583354_loc3/model.json: 100.000%|██████████| 186969/186969 elapsed<00:01 remaining<00:00\n",
      "Uploading /Users/lex/Documents/1000models/notebooks/input_example.json: 100.000%|██████████| 23/23 elapsed<00:03 remaining<00:00\n",
      "Uploading /Users/lex/Documents/1000models/notebooks/model_schema.json: 100.000%|██████████| 482/482 elapsed<00:01 remaining<00:00\n",
      "Model export complete: 100%|██████████| 6/6 [00:14<00:00,  2.43s/it]                   \n"
     ]
    },
    {
     "name": "stdout",
     "output_type": "stream",
     "text": [
      "Model created, explore it at https://demo.hops.works:443/p/14455/models/demand_forecaster_item9583354_loc3/1\n",
      "Finished: Reading data from Hopsworks, using Hopsworks Feature Query Service (0.62s) \n",
      "2025-05-09 11:54:40,881 INFO: Provenance cached data - overwriting last accessed/created training dataset from 185 to 186.\n"
     ]
    },
    {
     "name": "stderr",
     "output_type": "stream",
     "text": [
      "Uploading /Users/lex/Documents/1000models/notebooks/demand_forecaster_item10087345_loc3/model.joblib: 100.000%|██████████| 716833/716833 elapsed<00:02 remaining<00:00\n",
      "Uploading /Users/lex/Documents/1000models/notebooks/input_example.json: 100.000%|██████████| 23/23 elapsed<00:01 remaining<00:00\n",
      "Uploading /Users/lex/Documents/1000models/notebooks/model_schema.json: 100.000%|██████████| 482/482 elapsed<00:01 remaining<00:00\n",
      "Model export complete: 100%|██████████| 6/6 [00:13<00:00,  2.20s/it]                   \n"
     ]
    },
    {
     "name": "stdout",
     "output_type": "stream",
     "text": [
      "Model created, explore it at https://demo.hops.works:443/p/14455/models/demand_forecaster_item10087345_loc3/1\n",
      "Finished: Reading data from Hopsworks, using Hopsworks Feature Query Service (0.57s) \n",
      "2025-05-09 11:54:59,826 INFO: Provenance cached data - overwriting last accessed/created training dataset from 186 to 187.\n"
     ]
    },
    {
     "name": "stderr",
     "output_type": "stream",
     "text": [
      "Uploading /Users/lex/Documents/1000models/notebooks/demand_forecaster_item9151266_loc3/model.joblib: 100.000%|██████████| 716833/716833 elapsed<00:02 remaining<00:00\n",
      "Uploading /Users/lex/Documents/1000models/notebooks/input_example.json: 100.000%|██████████| 23/23 elapsed<00:01 remaining<00:00\n",
      "Uploading /Users/lex/Documents/1000models/notebooks/model_schema.json: 100.000%|██████████| 482/482 elapsed<00:01 remaining<00:00\n",
      "Model export complete: 100%|██████████| 6/6 [00:13<00:00,  2.18s/it]                   \n"
     ]
    },
    {
     "name": "stdout",
     "output_type": "stream",
     "text": [
      "Model created, explore it at https://demo.hops.works:443/p/14455/models/demand_forecaster_item9151266_loc3/1\n",
      "Finished: Reading data from Hopsworks, using Hopsworks Feature Query Service (0.59s) \n",
      "2025-05-09 11:55:18,300 INFO: Provenance cached data - overwriting last accessed/created training dataset from 187 to 188.\n"
     ]
    },
    {
     "name": "stderr",
     "output_type": "stream",
     "text": [
      "Uploading /Users/lex/Documents/1000models/notebooks/demand_forecaster_item9152330_loc3/model.joblib: 100.000%|██████████| 716833/716833 elapsed<00:01 remaining<00:00\n",
      "Uploading /Users/lex/Documents/1000models/notebooks/input_example.json: 100.000%|██████████| 23/23 elapsed<00:02 remaining<00:00\n",
      "Uploading /Users/lex/Documents/1000models/notebooks/model_schema.json: 100.000%|██████████| 482/482 elapsed<00:01 remaining<00:00\n",
      "Model export complete: 100%|██████████| 6/6 [00:13<00:00,  2.22s/it]                   \n"
     ]
    },
    {
     "name": "stdout",
     "output_type": "stream",
     "text": [
      "Model created, explore it at https://demo.hops.works:443/p/14455/models/demand_forecaster_item9152330_loc3/1\n",
      "Finished: Reading data from Hopsworks, using Hopsworks Feature Query Service (0.61s) \n",
      "2025-05-09 11:55:38,388 INFO: Provenance cached data - overwriting last accessed/created training dataset from 188 to 189.\n"
     ]
    },
    {
     "name": "stderr",
     "output_type": "stream",
     "text": [
      "Uploading /Users/lex/Documents/1000models/notebooks/demand_forecaster_item9062841_loc3/model.json: 100.000%|██████████| 215811/215811 elapsed<00:01 remaining<00:00\n",
      "Uploading /Users/lex/Documents/1000models/notebooks/input_example.json: 100.000%|██████████| 23/23 elapsed<00:01 remaining<00:00\n",
      "Uploading /Users/lex/Documents/1000models/notebooks/model_schema.json: 100.000%|██████████| 482/482 elapsed<00:01 remaining<00:00\n",
      "Model export complete: 100%|██████████| 6/6 [00:12<00:00,  2.11s/it]                   \n"
     ]
    },
    {
     "name": "stdout",
     "output_type": "stream",
     "text": [
      "Model created, explore it at https://demo.hops.works:443/p/14455/models/demand_forecaster_item9062841_loc3/1\n",
      "Training model 190/200 (Item: 8200650, Location: 3)\n",
      "Finished: Reading data from Hopsworks, using Hopsworks Feature Query Service (0.65s) \n",
      "2025-05-09 11:55:56,812 INFO: Provenance cached data - overwriting last accessed/created training dataset from 189 to 190.\n",
      "  RandomForest: RMSE: 1357.42\n",
      "  XGBoost: RMSE: 1357.07\n"
     ]
    },
    {
     "name": "stderr",
     "output_type": "stream",
     "text": [
      "Uploading /Users/lex/Documents/1000models/notebooks/demand_forecaster_item8200650_loc3/model.json: 100.000%|██████████| 211724/211724 elapsed<00:02 remaining<00:00\n",
      "Uploading /Users/lex/Documents/1000models/notebooks/input_example.json: 100.000%|██████████| 23/23 elapsed<00:01 remaining<00:00\n",
      "Uploading /Users/lex/Documents/1000models/notebooks/model_schema.json: 100.000%|██████████| 482/482 elapsed<00:01 remaining<00:00\n",
      "Model export complete: 100%|██████████| 6/6 [00:13<00:00,  2.21s/it]                   \n"
     ]
    },
    {
     "name": "stdout",
     "output_type": "stream",
     "text": [
      "Model created, explore it at https://demo.hops.works:443/p/14455/models/demand_forecaster_item8200650_loc3/1\n",
      "Finished: Reading data from Hopsworks, using Hopsworks Feature Query Service (0.55s) \n",
      "2025-05-09 11:56:15,693 INFO: Provenance cached data - overwriting last accessed/created training dataset from 190 to 191.\n"
     ]
    },
    {
     "name": "stderr",
     "output_type": "stream",
     "text": [
      "Uploading /Users/lex/Documents/1000models/notebooks/demand_forecaster_item9600610_loc3/model.json: 100.000%|██████████| 216558/216558 elapsed<00:01 remaining<00:00\n",
      "Uploading /Users/lex/Documents/1000models/notebooks/input_example.json: 100.000%|██████████| 23/23 elapsed<00:01 remaining<00:00\n",
      "Uploading /Users/lex/Documents/1000models/notebooks/model_schema.json: 100.000%|██████████| 482/482 elapsed<00:01 remaining<00:00\n",
      "Model export complete: 100%|██████████| 6/6 [00:12<00:00,  2.10s/it]                   \n"
     ]
    },
    {
     "name": "stdout",
     "output_type": "stream",
     "text": [
      "Model created, explore it at https://demo.hops.works:443/p/14455/models/demand_forecaster_item9600610_loc3/1\n",
      "Finished: Reading data from Hopsworks, using Hopsworks Feature Query Service (0.62s) \n",
      "2025-05-09 11:56:33,861 INFO: Provenance cached data - overwriting last accessed/created training dataset from 191 to 192.\n"
     ]
    },
    {
     "name": "stderr",
     "output_type": "stream",
     "text": [
      "Uploading /Users/lex/Documents/1000models/notebooks/demand_forecaster_item8354833_loc3/model.joblib: 100.000%|██████████| 716833/716833 elapsed<00:02 remaining<00:00\n",
      "Uploading /Users/lex/Documents/1000models/notebooks/input_example.json: 100.000%|██████████| 23/23 elapsed<00:01 remaining<00:00\n",
      "Uploading /Users/lex/Documents/1000models/notebooks/model_schema.json: 100.000%|██████████| 482/482 elapsed<00:01 remaining<00:00\n",
      "Model export complete: 100%|██████████| 6/6 [00:13<00:00,  2.32s/it]                   \n"
     ]
    },
    {
     "name": "stdout",
     "output_type": "stream",
     "text": [
      "Model created, explore it at https://demo.hops.works:443/p/14455/models/demand_forecaster_item8354833_loc3/1\n",
      "Finished: Reading data from Hopsworks, using Hopsworks Feature Query Service (0.61s) \n",
      "2025-05-09 11:56:53,330 INFO: Provenance cached data - overwriting last accessed/created training dataset from 192 to 193.\n"
     ]
    },
    {
     "name": "stderr",
     "output_type": "stream",
     "text": [
      "Uploading /Users/lex/Documents/1000models/notebooks/demand_forecaster_item8229608_loc3/model.json: 100.000%|██████████| 198174/198174 elapsed<00:01 remaining<00:00\n",
      "Uploading /Users/lex/Documents/1000models/notebooks/input_example.json: 100.000%|██████████| 23/23 elapsed<00:01 remaining<00:00\n",
      "Uploading /Users/lex/Documents/1000models/notebooks/model_schema.json: 100.000%|██████████| 482/482 elapsed<00:01 remaining<00:00\n",
      "Model export complete: 100%|██████████| 6/6 [00:12<00:00,  2.07s/it]                   \n"
     ]
    },
    {
     "name": "stdout",
     "output_type": "stream",
     "text": [
      "Model created, explore it at https://demo.hops.works:443/p/14455/models/demand_forecaster_item8229608_loc3/1\n",
      "Finished: Reading data from Hopsworks, using Hopsworks Feature Query Service (0.57s) \n",
      "2025-05-09 11:57:11,355 INFO: Provenance cached data - overwriting last accessed/created training dataset from 193 to 194.\n"
     ]
    },
    {
     "name": "stderr",
     "output_type": "stream",
     "text": [
      "Uploading /Users/lex/Documents/1000models/notebooks/demand_forecaster_item9906037_loc3/model.json: 100.000%|██████████| 205660/205660 elapsed<00:02 remaining<00:00\n",
      "Uploading /Users/lex/Documents/1000models/notebooks/input_example.json: 100.000%|██████████| 23/23 elapsed<00:01 remaining<00:00\n",
      "Uploading /Users/lex/Documents/1000models/notebooks/model_schema.json: 100.000%|██████████| 482/482 elapsed<00:01 remaining<00:00\n",
      "Model export complete: 100%|██████████| 6/6 [00:12<00:00,  2.14s/it]                   \n"
     ]
    },
    {
     "name": "stdout",
     "output_type": "stream",
     "text": [
      "Model created, explore it at https://demo.hops.works:443/p/14455/models/demand_forecaster_item9906037_loc3/1\n",
      "Training model 195/200 (Item: 8400517, Location: 3)\n",
      "Finished: Reading data from Hopsworks, using Hopsworks Feature Query Service (0.56s) \n",
      "2025-05-09 11:57:29,742 INFO: Provenance cached data - overwriting last accessed/created training dataset from 194 to 195.\n",
      "  RandomForest: RMSE: 1369.25\n",
      "  XGBoost: RMSE: 1368.76\n"
     ]
    },
    {
     "name": "stderr",
     "output_type": "stream",
     "text": [
      "Uploading /Users/lex/Documents/1000models/notebooks/demand_forecaster_item8400517_loc3/model.json: 100.000%|██████████| 210498/210498 elapsed<00:02 remaining<00:00\n",
      "Uploading /Users/lex/Documents/1000models/notebooks/input_example.json: 100.000%|██████████| 23/23 elapsed<00:01 remaining<00:00\n",
      "Uploading /Users/lex/Documents/1000models/notebooks/model_schema.json: 100.000%|██████████| 482/482 elapsed<00:01 remaining<00:00\n",
      "Model export complete: 100%|██████████| 6/6 [00:12<00:00,  2.13s/it]                   \n"
     ]
    },
    {
     "name": "stdout",
     "output_type": "stream",
     "text": [
      "Model created, explore it at https://demo.hops.works:443/p/14455/models/demand_forecaster_item8400517_loc3/1\n",
      "Finished: Reading data from Hopsworks, using Hopsworks Feature Query Service (0.65s) \n",
      "2025-05-09 11:57:48,335 INFO: Provenance cached data - overwriting last accessed/created training dataset from 195 to 196.\n"
     ]
    },
    {
     "name": "stderr",
     "output_type": "stream",
     "text": [
      "Uploading /Users/lex/Documents/1000models/notebooks/demand_forecaster_item9033983_loc3/model.joblib: 100.000%|██████████| 716833/716833 elapsed<00:02 remaining<00:00\n",
      "Uploading /Users/lex/Documents/1000models/notebooks/input_example.json: 100.000%|██████████| 23/23 elapsed<00:01 remaining<00:00\n",
      "Uploading /Users/lex/Documents/1000models/notebooks/model_schema.json: 100.000%|██████████| 482/482 elapsed<00:01 remaining<00:00\n",
      "Model export complete: 100%|██████████| 6/6 [00:13<00:00,  2.23s/it]                   \n"
     ]
    },
    {
     "name": "stdout",
     "output_type": "stream",
     "text": [
      "Model created, explore it at https://demo.hops.works:443/p/14455/models/demand_forecaster_item9033983_loc3/1\n",
      "Finished: Reading data from Hopsworks, using Hopsworks Feature Query Service (0.62s) \n",
      "2025-05-09 11:58:07,206 INFO: Provenance cached data - overwriting last accessed/created training dataset from 196 to 197.\n"
     ]
    },
    {
     "name": "stderr",
     "output_type": "stream",
     "text": [
      "Uploading /Users/lex/Documents/1000models/notebooks/demand_forecaster_item10012367_loc3/model.joblib: 100.000%|██████████| 716833/716833 elapsed<00:02 remaining<00:00\n",
      "Uploading /Users/lex/Documents/1000models/notebooks/input_example.json: 100.000%|██████████| 23/23 elapsed<00:01 remaining<00:00\n",
      "Uploading /Users/lex/Documents/1000models/notebooks/model_schema.json: 100.000%|██████████| 482/482 elapsed<00:01 remaining<00:00\n",
      "Model export complete: 100%|██████████| 6/6 [00:12<00:00,  2.13s/it]                   \n"
     ]
    },
    {
     "name": "stdout",
     "output_type": "stream",
     "text": [
      "Model created, explore it at https://demo.hops.works:443/p/14455/models/demand_forecaster_item10012367_loc3/1\n",
      "Finished: Reading data from Hopsworks, using Hopsworks Feature Query Service (0.59s) \n",
      "2025-05-09 11:58:26,354 INFO: Provenance cached data - overwriting last accessed/created training dataset from 197 to 198.\n"
     ]
    },
    {
     "name": "stderr",
     "output_type": "stream",
     "text": [
      "Uploading /Users/lex/Documents/1000models/notebooks/demand_forecaster_item9156134_loc3/model.json: 100.000%|██████████| 203224/203224 elapsed<00:02 remaining<00:00\n",
      "Uploading /Users/lex/Documents/1000models/notebooks/input_example.json: 100.000%|██████████| 23/23 elapsed<00:01 remaining<00:00\n",
      "Uploading /Users/lex/Documents/1000models/notebooks/model_schema.json: 100.000%|██████████| 482/482 elapsed<00:01 remaining<00:00\n",
      "Model export complete: 100%|██████████| 6/6 [00:12<00:00,  2.12s/it]                   \n"
     ]
    },
    {
     "name": "stdout",
     "output_type": "stream",
     "text": [
      "Model created, explore it at https://demo.hops.works:443/p/14455/models/demand_forecaster_item9156134_loc3/1\n",
      "Finished: Reading data from Hopsworks, using Hopsworks Feature Query Service (0.56s) \n",
      "2025-05-09 11:58:44,596 INFO: Provenance cached data - overwriting last accessed/created training dataset from 198 to 199.\n"
     ]
    },
    {
     "name": "stderr",
     "output_type": "stream",
     "text": [
      "Uploading /Users/lex/Documents/1000models/notebooks/demand_forecaster_item9022584_loc3/model.joblib: 100.000%|██████████| 716833/716833 elapsed<00:02 remaining<00:00\n",
      "Uploading /Users/lex/Documents/1000models/notebooks/input_example.json: 100.000%|██████████| 23/23 elapsed<00:01 remaining<00:00\n",
      "Uploading /Users/lex/Documents/1000models/notebooks/model_schema.json: 100.000%|██████████| 482/482 elapsed<00:01 remaining<00:00\n",
      "Model export complete: 100%|██████████| 6/6 [00:13<00:00,  2.26s/it]                   \n"
     ]
    },
    {
     "name": "stdout",
     "output_type": "stream",
     "text": [
      "Model created, explore it at https://demo.hops.works:443/p/14455/models/demand_forecaster_item9022584_loc3/1\n",
      "Training model 200/200 (Item: 8786199, Location: 3)\n",
      "Finished: Reading data from Hopsworks, using Hopsworks Feature Query Service (0.63s) \n",
      "2025-05-09 11:59:03,548 INFO: Provenance cached data - overwriting last accessed/created training dataset from 199 to 200.\n",
      "  RandomForest: RMSE: 1172.20\n",
      "  XGBoost: RMSE: 1172.00\n"
     ]
    },
    {
     "name": "stderr",
     "output_type": "stream",
     "text": [
      "Uploading /Users/lex/Documents/1000models/notebooks/demand_forecaster_item8786199_loc3/model.json: 100.000%|██████████| 193921/193921 elapsed<00:02 remaining<00:00\n",
      "Uploading /Users/lex/Documents/1000models/notebooks/input_example.json: 100.000%|██████████| 23/23 elapsed<00:01 remaining<00:00\n",
      "Uploading /Users/lex/Documents/1000models/notebooks/model_schema.json: 100.000%|██████████| 482/482 elapsed<00:01 remaining<00:00\n",
      "Model export complete: 100%|██████████| 6/6 [00:12<00:00,  2.10s/it]                   "
     ]
    },
    {
     "name": "stdout",
     "output_type": "stream",
     "text": [
      "Model created, explore it at https://demo.hops.works:443/p/14455/models/demand_forecaster_item8786199_loc3/1\n"
     ]
    },
    {
     "name": "stderr",
     "output_type": "stream",
     "text": [
      "\n"
     ]
    }
   ],
   "source": [
    "# Dictionary to store metrics for all models\n",
    "all_model_metrics = {}\n",
    "\n",
    "# Counter for progress tracking\n",
    "model_counter = 0\n",
    "\n",
    "# Loop through each item-location combination\n",
    "for item in items:\n",
    "    for loc in locations:\n",
    "        model_counter += 1\n",
    "        \n",
    "        # Display progress periodically\n",
    "        if model_counter % 5 == 0 or model_counter == 1:\n",
    "            print(f\"Training model {model_counter}/{total_models} (Item: {item}, Location: {loc})\")\n",
    "        \n",
    "        try:\n",
    "            # Create a filter for this item-location combination\n",
    "            from hsfs.constructor.filter import Filter\n",
    "            \n",
    "            # Create filter using feature group \n",
    "            filter_cond = (demand_fg.sp_id == item) and (demand_fg.loc_id == loc)\n",
    "            \n",
    "            # Apply train_test_split with extra_filter\n",
    "            X_train, X_test, y_train, y_test = feature_view.train_test_split(\n",
    "                test_size=test_size,\n",
    "                extra_filter=filter_cond,\n",
    "                )\n",
    "                        \n",
    "            # Skip if we don't have enough data for this combination\n",
    "            if len(X_train) < 10 or len(X_test) < 5:\n",
    "                continue\n",
    "            \n",
    "            # Remove ID columns\n",
    "            X_train = X_train.drop(['sp_id', 'loc_id', 'datetime'], axis=1, errors='ignore')\n",
    "            X_test = X_test.drop(['sp_id', 'loc_id', 'datetime'], axis=1, errors='ignore')\n",
    "            \n",
    "            # Model name for this item-location\n",
    "            model_prefix = f\"{model_name}_item{item}_loc{loc}\"\n",
    "            \n",
    "            # Train RandomForest\n",
    "            rf_model = RandomForestRegressor(n_estimators=100, random_state=42)\n",
    "            rf_model.fit(X_train, y_train)\n",
    "            \n",
    "            # Train XGBoost\n",
    "            xgb_model = XGBRegressor(n_estimators=100, random_state=42)\n",
    "            xgb_model.fit(X_train, y_train)\n",
    "            \n",
    "            # Evaluate models\n",
    "            models = {\n",
    "                \"RandomForest\": rf_model,\n",
    "                \"XGBoost\": xgb_model\n",
    "            }\n",
    "            \n",
    "            best_model = None\n",
    "            best_rmse = float('inf')\n",
    "            best_metrics = {}\n",
    "            \n",
    "            for model_type, model in models.items():\n",
    "                # Make predictions\n",
    "                y_pred = model.predict(X_test)\n",
    "                \n",
    "                # Calculate metrics\n",
    "                mae = mean_absolute_error(y_test, y_pred)\n",
    "                mse = mean_squared_error(y_test, y_pred)\n",
    "                rmse = np.sqrt(mse)\n",
    "                r2 = r2_score(y_test, y_pred)\n",
    "                \n",
    "                metrics = {\n",
    "                    \"mae\": mae,\n",
    "                    \"rmse\": rmse,\n",
    "                    \"r2\": r2\n",
    "                }\n",
    "                \n",
    "                if model_counter % 5 == 0 or model_counter == 1:\n",
    "                    print(f\"  {model_type}: RMSE: {rmse:.2f}\")\n",
    "                \n",
    "                # Track best model\n",
    "                if rmse < best_rmse:\n",
    "                    best_rmse = rmse\n",
    "                    best_model = model\n",
    "                    best_model_type = model_type\n",
    "                    best_metrics = metrics\n",
    "            \n",
    "            # Store metrics for this item-location combination\n",
    "            all_model_metrics[f\"item_{item}_loc_{loc}\"] = {\n",
    "                \"model_type\": best_model_type,\n",
    "                \"metrics\": best_metrics\n",
    "            }\n",
    "            \n",
    "            # Create model directory\n",
    "            model_dir = model_prefix\n",
    "            os.makedirs(model_dir, exist_ok=True)\n",
    "            \n",
    "            # Save model\n",
    "            if best_model_type == \"RandomForest\":\n",
    "                joblib.dump(best_model, os.path.join(model_dir, \"model.joblib\"))\n",
    "            else:  # XGBoost\n",
    "                best_model.save_model(os.path.join(model_dir, \"model.json\"))\n",
    "            \n",
    "            # Register model in Hopsworks\n",
    "            model_api = mr.python.create_model(\n",
    "                name=model_prefix,\n",
    "                metrics=best_metrics,\n",
    "                description=f\"Demand forecaster for item {item}, location {loc}\",\n",
    "                input_example=X_train.iloc[0].to_dict() if not X_train.empty else None,\n",
    "                feature_view=feature_view\n",
    "            )\n",
    "            \n",
    "            # Upload the model and artifacts\n",
    "            model_api.save(model_dir)\n",
    "            \n",
    "            # Clean up local model directory\n",
    "            import shutil\n",
    "            shutil.rmtree(model_dir, ignore_errors=True)\n",
    "            \n",
    "        except Exception as e:\n",
    "            print(f\"FAILED for item {item}, location {loc}: {e}\")\n",
    "            import traceback\n",
    "            traceback.print_exc()\n",
    "            continue\n"
   ]
  },
  {
   "cell_type": "code",
   "execution_count": null,
   "metadata": {},
   "outputs": [],
   "source": []
  }
 ],
 "metadata": {
  "kernelspec": {
   "display_name": "python310",
   "language": "python",
   "name": "python3"
  },
  "language_info": {
   "codemirror_mode": {
    "name": "ipython",
    "version": 3
   },
   "file_extension": ".py",
   "mimetype": "text/x-python",
   "name": "python",
   "nbconvert_exporter": "python",
   "pygments_lexer": "ipython3",
   "version": "3.10.17"
  }
 },
 "nbformat": 4,
 "nbformat_minor": 4
}
