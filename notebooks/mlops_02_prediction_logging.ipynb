{
 "cells": [
  {
   "cell_type": "markdown",
   "metadata": {},
   "source": [
    "# 05. MLOps: Prediction Logging\n",
    "\n",
    "This notebook demonstrates how to log model predictions for future performance tracking."
   ]
  },
  {
   "cell_type": "markdown",
   "metadata": {},
   "source": [
    "## Setup"
   ]
  },
  {
   "cell_type": "code",
   "execution_count": null,
   "metadata": {},
   "outputs": [],
   "source": [
    "import hopsworks\n",
    "import pandas as pd\n",
    "import joblib\n",
    "\n",
    "# Connect to Hopsworks\n",
    "project = hopsworks.login()\n",
    "fs = project.get_feature_store()\n",
    "mr = project.get_model_registry()"
   ]
  },
  {
   "cell_type": "markdown",
   "metadata": {},
   "source": [
    "## Configuration"
   ]
  },
  {
   "cell_type": "code",
   "execution_count": null,
   "metadata": {},
   "outputs": [],
   "source": [
    "# Configuration\n",
    "feature_view_name = 'demand_features_view'\n",
    "model_name = 'demand_forecaster'\n",
    "version = 1\n",
    "\n",
    "# Example item-location to demonstrate\n",
    "item_id = 46374\n",
    "location_id = 33182"
   ]
  },
  {
   "cell_type": "markdown",
   "metadata": {},
   "source": [
    "## Initialize Prediction Logging"
   ]
  },
  {
   "cell_type": "code",
   "execution_count": null,
   "metadata": {},
   "outputs": [],
   "source": [
    "# Get feature view\n",
    "demand_fv = fs.get_feature_view(name=feature_view_name, version=version)\n",
    "\n",
    "# Initialize batch scoring\n",
    "demand_fv.init_batch_scoring(training_dataset_version=1)\n",
    "print(\"✓ Initialized prediction logging\")"
   ]
  },
  {
   "cell_type": "markdown",
   "metadata": {},
   "source": [
    "## Log Predictions for One Model"
   ]
  },
  {
   "cell_type": "code",
   "execution_count": null,
   "metadata": {},
   "outputs": [],
   "source": [
    "# Get the model\n",
    "model_full_name = f\"{model_name}_item{item_id}_loc{location_id}\"\n",
    "model = mr.get_best_model(name=model_full_name, metric=\"rmse\", direction=\"min\")\n",
    "\n",
    "# Download and load model\n",
    "model_dir = model.download()\n",
    "model_obj = joblib.load(model_dir + \"/model.pkl\")\n",
    "\n",
    "print(f\"✓ Loaded model: {model_full_name}\")"
   ]
  },
  {
   "cell_type": "code",
   "execution_count": null,
   "metadata": {},
   "outputs": [],
   "source": [
    "# Get batch data\n",
    "batch_data = demand_fv.get_batch_data()\n",
    "\n",
    "# Filter for this item-location\n",
    "mask = (batch_data['sp_id'] == item_id) & (batch_data['loc_id'] == location_id)\n",
    "item_data = batch_data[mask].head(10)  # Just 10 rows for demo\n",
    "\n",
    "if len(item_data) > 0:\n",
    "    # Make predictions\n",
    "    features = ['lagged_1day_demand_quantity', 'lagged_2day_demand_quantity']\n",
    "    predictions = model_obj.predict(item_data[features])\n",
    "    \n",
    "    # Log predictions\n",
    "    demand_fv.log(\n",
    "        features=item_data,\n",
    "        predictions=predictions,\n",
    "        training_dataset_version=1,\n",
    "        model=model\n",
    "    )\n",
    "    \n",
    "    print(f\"✓ Logged {len(predictions)} predictions\")\n",
    "else:\n",
    "    print(\"No data found for this item-location\")"
   ]
  },
  {
   "cell_type": "markdown",
   "metadata": {},
   "source": [
    "## Materialize and Read Logs"
   ]
  },
  {
   "cell_type": "code",
   "execution_count": null,
   "metadata": {},
   "outputs": [],
   "source": [
    "# Materialize the logs\n",
    "demand_fv.materialize_log(wait=True)\n",
    "print(\"✓ Materialized prediction logs\")\n",
    "\n",
    "# Read back the logs\n",
    "logs = demand_fv.read_log()\n",
    "print(f\"\\nLogged predictions shape: {logs.shape}\")\n",
    "logs.head()"
   ]
  },
  {
   "cell_type": "markdown",
   "metadata": {},
   "source": [
    "## Summary\n",
    "\n",
    "✅ Set up prediction logging for demand forecasting models\n",
    "\n",
    "What we did:\n",
    "- Initialized batch scoring on the feature view\n",
    "- Made predictions with one model\n",
    "- Logged predictions with features\n",
    "- Materialized logs for future analysis\n",
    "\n",
    "Next: Use these logs to calculate performance metrics when actuals arrive."
   ]
  }
 ],
 "metadata": {
  "kernelspec": {
   "display_name": "Python 3",
   "language": "python",
   "name": "python3"
  },
  "language_info": {
   "codemirror_mode": {
    "name": "ipython",
    "version": 3
   },
   "file_extension": ".py",
   "mimetype": "text/x-python",
   "name": "python",
   "nbconvert_exporter": "python",
   "pygments_lexer": "ipython3",
   "version": "3.8.0"
  }
 },
 "nbformat": 4,
 "nbformat_minor": 4
}