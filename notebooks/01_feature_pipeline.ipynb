{
 "cells": [
  {
   "cell_type": "markdown",
   "metadata": {},
   "source": [
    "# Demand Feature Pipeline Notebook\n",
    "\n",
    "This notebook processes demand data and uploads it to the Hopsworks feature store. It replicates the functionality of the feature_pipeline.py script in an interactive format."
   ]
  },
  {
   "cell_type": "code",
   "execution_count": 1,
   "metadata": {},
   "outputs": [
    {
     "name": "stderr",
     "output_type": "stream",
     "text": [
      "/Users/lex/miniforge3/envs/python310/lib/python3.10/site-packages/tqdm/auto.py:21: TqdmWarning: IProgress not found. Please update jupyter and ipywidgets. See https://ipywidgets.readthedocs.io/en/stable/user_install.html\n",
      "  from .autonotebook import tqdm as notebook_tqdm\n"
     ]
    }
   ],
   "source": [
    "# Import necessary libraries\n",
    "import pandas as pd\n",
    "import hopsworks\n",
    "import os\n",
    "from datetime import datetime\n",
    "from dotenv import load_dotenv"
   ]
  },
  {
   "cell_type": "markdown",
   "metadata": {},
   "source": [
    "## Load Environment Variables\n",
    "\n",
    "We'll load environment variables for Hopsworks connection credentials."
   ]
  },
  {
   "cell_type": "code",
   "execution_count": null,
   "metadata": {},
   "outputs": [],
   "source": [
    "# Load environment variables\n",
    "load_dotenv()\n",
    "\n",
    "# Configure parameters (these can be modified as needed)\n",
    "project_name = 'many_models'\n",
    "feature_group_name = 'demand_features'\n",
    "version = 1"
   ]
  },
  {
   "cell_type": "markdown",
   "metadata": {},
   "source": [
    "## Connect to Hopsworks Feature Store\n",
    "\n",
    "Establish connection to the Hopsworks Feature Store using credentials from environment variables."
   ]
  },
  {
   "cell_type": "code",
   "execution_count": 3,
   "metadata": {},
   "outputs": [
    {
     "name": "stdout",
     "output_type": "stream",
     "text": [
      "Connecting to Hopsworks Feature Store\n",
      "2025-05-09 10:04:46,780 INFO: Initializing external client\n",
      "2025-05-09 10:04:46,781 INFO: Base URL: https://demo.hops.works:443\n"
     ]
    },
    {
     "name": "stderr",
     "output_type": "stream",
     "text": [
      "\n",
      "\n",
      "UserWarning: The installed hopsworks client version 4.2.2 may not be compatible with the connected Hopsworks backend version 4.1.5. \n",
      "To ensure compatibility please install the latest bug fix release matching the minor version of your backend (4.1) by running 'pip install hopsworks==4.1.*'\n"
     ]
    },
    {
     "name": "stdout",
     "output_type": "stream",
     "text": [
      "2025-05-09 10:04:48,063 INFO: Python Engine initialized.\n",
      "\n",
      "Logged in to project, explore it here https://demo.hops.works:443/p/14455\n",
      "Connected to feature store in project: many_models\n"
     ]
    }
   ],
   "source": [
    "print(\"Connecting to Hopsworks Feature Store\")\n",
    "\n",
    "# Connect to Hopsworks\n",
    "project = hopsworks.login(\n",
    "    host=os.getenv(\"HOST\"),\n",
    "    port=os.getenv(\"PORT\"),\n",
    "    api_key_value=os.getenv(\"HOPSWORKS_API_KEY\"),\n",
    "    project=project_name or os.getenv(\"PROJECT\")\n",
    ")\n",
    "\n",
    "fs = project.get_feature_store()\n",
    "print(f\"Connected to feature store in project: {project_name}\")"
   ]
  },
  {
   "cell_type": "markdown",
   "metadata": {},
   "source": [
    "## Load Source Data\n",
    "\n",
    "Load the demand data from CSV file and prepare it for the feature store."
   ]
  },
  {
   "cell_type": "code",
   "execution_count": 4,
   "metadata": {},
   "outputs": [
    {
     "name": "stdout",
     "output_type": "stream",
     "text": [
      "Loading source data\n"
     ]
    },
    {
     "data": {
      "text/html": [
       "<div>\n",
       "<style scoped>\n",
       "    .dataframe tbody tr th:only-of-type {\n",
       "        vertical-align: middle;\n",
       "    }\n",
       "\n",
       "    .dataframe tbody tr th {\n",
       "        vertical-align: top;\n",
       "    }\n",
       "\n",
       "    .dataframe thead th {\n",
       "        text-align: right;\n",
       "    }\n",
       "</style>\n",
       "<table border=\"1\" class=\"dataframe\">\n",
       "  <thead>\n",
       "    <tr style=\"text-align: right;\">\n",
       "      <th></th>\n",
       "      <th>sp_id</th>\n",
       "      <th>loc_id</th>\n",
       "      <th>time_bucket</th>\n",
       "      <th>repetitive_demand_quantity</th>\n",
       "    </tr>\n",
       "  </thead>\n",
       "  <tbody>\n",
       "    <tr>\n",
       "      <th>0</th>\n",
       "      <td>9684698</td>\n",
       "      <td>3</td>\n",
       "      <td>202104</td>\n",
       "      <td>55.0</td>\n",
       "    </tr>\n",
       "    <tr>\n",
       "      <th>1</th>\n",
       "      <td>9684698</td>\n",
       "      <td>3</td>\n",
       "      <td>202105</td>\n",
       "      <td>117.0</td>\n",
       "    </tr>\n",
       "    <tr>\n",
       "      <th>2</th>\n",
       "      <td>9684698</td>\n",
       "      <td>3</td>\n",
       "      <td>202106</td>\n",
       "      <td>62.0</td>\n",
       "    </tr>\n",
       "    <tr>\n",
       "      <th>3</th>\n",
       "      <td>9684698</td>\n",
       "      <td>3</td>\n",
       "      <td>202107</td>\n",
       "      <td>45.0</td>\n",
       "    </tr>\n",
       "    <tr>\n",
       "      <th>4</th>\n",
       "      <td>9684698</td>\n",
       "      <td>3</td>\n",
       "      <td>202108</td>\n",
       "      <td>77.0</td>\n",
       "    </tr>\n",
       "  </tbody>\n",
       "</table>\n",
       "</div>"
      ],
      "text/plain": [
       "     sp_id  loc_id  time_bucket  repetitive_demand_quantity\n",
       "0  9684698       3       202104                        55.0\n",
       "1  9684698       3       202105                       117.0\n",
       "2  9684698       3       202106                        62.0\n",
       "3  9684698       3       202107                        45.0\n",
       "4  9684698       3       202108                        77.0"
      ]
     },
     "metadata": {},
     "output_type": "display_data"
    }
   ],
   "source": [
    "print(\"Loading source data\")\n",
    "demand_df = pd.read_csv('../data/demand_qty_item_loc.csv')\n",
    "\n",
    "# Display first few rows to inspect the data\n",
    "display(demand_df.head())"
   ]
  },
  {
   "cell_type": "code",
   "execution_count": 5,
   "metadata": {},
   "outputs": [
    {
     "data": {
      "text/html": [
       "<div>\n",
       "<style scoped>\n",
       "    .dataframe tbody tr th:only-of-type {\n",
       "        vertical-align: middle;\n",
       "    }\n",
       "\n",
       "    .dataframe tbody tr th {\n",
       "        vertical-align: top;\n",
       "    }\n",
       "\n",
       "    .dataframe thead th {\n",
       "        text-align: right;\n",
       "    }\n",
       "</style>\n",
       "<table border=\"1\" class=\"dataframe\">\n",
       "  <thead>\n",
       "    <tr style=\"text-align: right;\">\n",
       "      <th></th>\n",
       "      <th>sp_id</th>\n",
       "      <th>loc_id</th>\n",
       "      <th>time_bucket</th>\n",
       "      <th>repetitive_demand_quantity</th>\n",
       "      <th>datetime</th>\n",
       "    </tr>\n",
       "  </thead>\n",
       "  <tbody>\n",
       "    <tr>\n",
       "      <th>0</th>\n",
       "      <td>9684698</td>\n",
       "      <td>3</td>\n",
       "      <td>202104</td>\n",
       "      <td>55.0</td>\n",
       "      <td>2025-05-09 10:05:45.219201</td>\n",
       "    </tr>\n",
       "    <tr>\n",
       "      <th>1</th>\n",
       "      <td>9684698</td>\n",
       "      <td>3</td>\n",
       "      <td>202105</td>\n",
       "      <td>117.0</td>\n",
       "      <td>2025-05-09 10:05:45.219201</td>\n",
       "    </tr>\n",
       "    <tr>\n",
       "      <th>2</th>\n",
       "      <td>9684698</td>\n",
       "      <td>3</td>\n",
       "      <td>202106</td>\n",
       "      <td>62.0</td>\n",
       "      <td>2025-05-09 10:05:45.219201</td>\n",
       "    </tr>\n",
       "    <tr>\n",
       "      <th>3</th>\n",
       "      <td>9684698</td>\n",
       "      <td>3</td>\n",
       "      <td>202107</td>\n",
       "      <td>45.0</td>\n",
       "      <td>2025-05-09 10:05:45.219201</td>\n",
       "    </tr>\n",
       "    <tr>\n",
       "      <th>4</th>\n",
       "      <td>9684698</td>\n",
       "      <td>3</td>\n",
       "      <td>202108</td>\n",
       "      <td>77.0</td>\n",
       "      <td>2025-05-09 10:05:45.219201</td>\n",
       "    </tr>\n",
       "  </tbody>\n",
       "</table>\n",
       "</div>"
      ],
      "text/plain": [
       "     sp_id  loc_id  time_bucket  repetitive_demand_quantity  \\\n",
       "0  9684698       3       202104                        55.0   \n",
       "1  9684698       3       202105                       117.0   \n",
       "2  9684698       3       202106                        62.0   \n",
       "3  9684698       3       202107                        45.0   \n",
       "4  9684698       3       202108                        77.0   \n",
       "\n",
       "                    datetime  \n",
       "0 2025-05-09 10:05:45.219201  \n",
       "1 2025-05-09 10:05:45.219201  \n",
       "2 2025-05-09 10:05:45.219201  \n",
       "3 2025-05-09 10:05:45.219201  \n",
       "4 2025-05-09 10:05:45.219201  "
      ]
     },
     "metadata": {},
     "output_type": "display_data"
    }
   ],
   "source": [
    "\n",
    "# Add datetime column for feature store\n",
    "demand_df['datetime'] = datetime.now()\n",
    "\n",
    "# Display the transformed dataframe\n",
    "display(demand_df.head())"
   ]
  },
  {
   "cell_type": "markdown",
   "metadata": {},
   "source": [
    "## Create Feature Group and Upload Data\n",
    "\n",
    "Define the feature group schema and upload the prepared data to the feature store."
   ]
  },
  {
   "cell_type": "code",
   "execution_count": null,
   "metadata": {},
   "outputs": [
    {
     "name": "stdout",
     "output_type": "stream",
     "text": [
      "⬆ Creating/getting feature group\n"
     ]
    },
    {
     "ename": "TypeError",
     "evalue": "FeatureStore.get_or_create_feature_group() missing 1 required positional argument: 'version'",
     "output_type": "error",
     "traceback": [
      "\u001b[0;31m---------------------------------------------------------------------------\u001b[0m",
      "\u001b[0;31mTypeError\u001b[0m                                 Traceback (most recent call last)",
      "Cell \u001b[0;32mIn[7], line 3\u001b[0m\n\u001b[1;32m      1\u001b[0m \u001b[38;5;28mprint\u001b[39m(\u001b[38;5;124m\"\u001b[39m\u001b[38;5;124m⬆ Creating/getting feature group\u001b[39m\u001b[38;5;124m\"\u001b[39m)\n\u001b[1;32m      2\u001b[0m \u001b[38;5;66;03m# Define the feature group\u001b[39;00m\n\u001b[0;32m----> 3\u001b[0m demand_fg \u001b[38;5;241m=\u001b[39m \u001b[43mfs\u001b[49m\u001b[38;5;241;43m.\u001b[39;49m\u001b[43mget_or_create_feature_group\u001b[49m\u001b[43m(\u001b[49m\n\u001b[1;32m      4\u001b[0m \u001b[43m    \u001b[49m\u001b[43mname\u001b[49m\u001b[38;5;241;43m=\u001b[39;49m\u001b[43mfeature_group_name\u001b[49m\u001b[43m,\u001b[49m\n\u001b[1;32m      5\u001b[0m \u001b[38;5;66;43;03m#    version=version, # Uncomment if you want to specify a version else it will be auto-incremented\u001b[39;49;00m\n\u001b[1;32m      6\u001b[0m \u001b[43m    \u001b[49m\u001b[43mdescription\u001b[49m\u001b[38;5;241;43m=\u001b[39;49m\u001b[38;5;124;43m\"\u001b[39;49m\u001b[38;5;124;43mItem demand by location and time\u001b[39;49m\u001b[38;5;124;43m\"\u001b[39;49m\u001b[43m,\u001b[49m\n\u001b[1;32m      7\u001b[0m \u001b[43m    \u001b[49m\u001b[43mprimary_key\u001b[49m\u001b[38;5;241;43m=\u001b[39;49m\u001b[43m[\u001b[49m\u001b[38;5;124;43m'\u001b[39;49m\u001b[38;5;124;43msp_id\u001b[39;49m\u001b[38;5;124;43m'\u001b[39;49m\u001b[43m,\u001b[49m\u001b[43m \u001b[49m\u001b[38;5;124;43m'\u001b[39;49m\u001b[38;5;124;43mloc_id\u001b[39;49m\u001b[38;5;124;43m'\u001b[39;49m\u001b[43m,\u001b[49m\u001b[43m \u001b[49m\u001b[38;5;124;43m'\u001b[39;49m\u001b[38;5;124;43mtime_bucket\u001b[39;49m\u001b[38;5;124;43m'\u001b[39;49m\u001b[43m]\u001b[49m\u001b[43m,\u001b[49m\n\u001b[1;32m      8\u001b[0m \u001b[43m    \u001b[49m\u001b[43mevent_time\u001b[49m\u001b[38;5;241;43m=\u001b[39;49m\u001b[38;5;124;43m'\u001b[39;49m\u001b[38;5;124;43mdatetime\u001b[39;49m\u001b[38;5;124;43m'\u001b[39;49m\u001b[43m,\u001b[49m\n\u001b[1;32m      9\u001b[0m \u001b[43m)\u001b[49m\n",
      "File \u001b[0;32m~/miniforge3/envs/python310/lib/python3.10/site-packages/hopsworks_common/usage.py:236\u001b[0m, in \u001b[0;36mmethod_logger.<locals>.wrapper\u001b[0;34m(*args, **kwargs)\u001b[0m\n\u001b[1;32m    232\u001b[0m \u001b[38;5;129m@functools\u001b[39m\u001b[38;5;241m.\u001b[39mwraps(func)\n\u001b[1;32m    233\u001b[0m \u001b[38;5;28;01mdef\u001b[39;00m\u001b[38;5;250m \u001b[39m\u001b[38;5;21mwrapper\u001b[39m(\u001b[38;5;241m*\u001b[39margs, \u001b[38;5;241m*\u001b[39m\u001b[38;5;241m*\u001b[39mkwargs):\n\u001b[1;32m    234\u001b[0m     \u001b[38;5;66;03m# Disable usage AFTER import hsfs, return function itself\u001b[39;00m\n\u001b[1;32m    235\u001b[0m     \u001b[38;5;28;01mif\u001b[39;00m \u001b[38;5;129;01mnot\u001b[39;00m _is_enabled:\n\u001b[0;32m--> 236\u001b[0m         \u001b[38;5;28;01mreturn\u001b[39;00m \u001b[43mfunc\u001b[49m\u001b[43m(\u001b[49m\u001b[38;5;241;43m*\u001b[39;49m\u001b[43margs\u001b[49m\u001b[43m,\u001b[49m\u001b[43m \u001b[49m\u001b[38;5;241;43m*\u001b[39;49m\u001b[38;5;241;43m*\u001b[39;49m\u001b[43mkwargs\u001b[49m\u001b[43m)\u001b[49m\n\u001b[1;32m    238\u001b[0m     start_time \u001b[38;5;241m=\u001b[39m time\u001b[38;5;241m.\u001b[39mperf_counter()\n\u001b[1;32m    239\u001b[0m     exception \u001b[38;5;241m=\u001b[39m \u001b[38;5;28;01mNone\u001b[39;00m\n",
      "\u001b[0;31mTypeError\u001b[0m: FeatureStore.get_or_create_feature_group() missing 1 required positional argument: 'version'"
     ]
    }
   ],
   "source": [
    "print(\"⬆ Creating/getting feature group\")\n",
    "# Define the feature group\n",
    "demand_fg = fs.get_or_create_feature_group(\n",
    "    name=feature_group_name,\n",
    "    version=version,\n",
    "    description=\"Item demand by location and time\",\n",
    "    primary_key=['sp_id', 'loc_id', 'time_bucket'],\n",
    "    event_time='datetime',\n",
    ")"
   ]
  },
  {
   "cell_type": "code",
   "execution_count": null,
   "metadata": {},
   "outputs": [],
   "source": [
    "print(\"⬆ Uploading data to the Feature Store\")\n",
    "# Upload data to the feature store\n",
    "demand_fg.insert(demand_df, write_options={\"wait_for_job\": True})\n",
    "print(\"Feature pipeline completed successfully\")"
   ]
  },
  {
   "cell_type": "markdown",
   "metadata": {},
   "source": [
    "## Verify Feature Group \n",
    "\n",
    "Retrieve and inspect the feature group schema and data to verify successful upload."
   ]
  },
  {
   "cell_type": "code",
   "execution_count": null,
   "metadata": {},
   "outputs": [],
   "source": [
    "# Retrieve feature descriptions\n",
    "print(\"Feature Group Schema:\")\n",
    "display(demand_fg.describe())"
   ]
  },
  {
   "cell_type": "code",
   "execution_count": null,
   "metadata": {},
   "outputs": [],
   "source": [
    "# Sample data from the feature group\n",
    "print(\"Sample Data from Feature Group:\")\n",
    "sample_data = demand_fg.read()\n",
    "display(sample_data.head(10))"
   ]
  }
 ],
 "metadata": {
  "kernelspec": {
   "display_name": "python310",
   "language": "python",
   "name": "python3"
  },
  "language_info": {
   "codemirror_mode": {
    "name": "ipython",
    "version": 3
   },
   "file_extension": ".py",
   "mimetype": "text/x-python",
   "name": "python",
   "nbconvert_exporter": "python",
   "pygments_lexer": "ipython3",
   "version": "3.10.17"
  }
 },
 "nbformat": 4,
 "nbformat_minor": 4
}
