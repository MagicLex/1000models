{
 "cells": [
  {
   "cell_type": "markdown",
   "metadata": {},
   "source": [
    "# Demand Feature Pipeline Notebook\n",
    "\n",
    "This notebook processes demand data and uploads it to the Hopsworks feature store. It replicates the functionality of the feature_pipeline.py script in an interactive format."
   ]
  },
  {
   "cell_type": "code",
   "execution_count": 1,
   "metadata": {},
   "outputs": [
    {
     "name": "stderr",
     "output_type": "stream",
     "text": [
      "/home/jdowling/anaconda3/envs/1000models/lib/python3.11/site-packages/tqdm/auto.py:21: TqdmWarning: IProgress not found. Please update jupyter and ipywidgets. See https://ipywidgets.readthedocs.io/en/stable/user_install.html\n",
      "  from .autonotebook import tqdm as notebook_tqdm\n"
     ]
    }
   ],
   "source": [
    "import pandas as pd\n",
    "import hopsworks\n",
    "import os\n",
    "from datetime import datetime"
   ]
  },
  {
   "cell_type": "markdown",
   "metadata": {},
   "source": [
    "## Load Environment Variables\n",
    "\n",
    "We'll load environment variables for Hopsworks connection credentials."
   ]
  },
  {
   "cell_type": "markdown",
   "metadata": {},
   "source": [
    "## Connect to Hopsworks Feature Store\n",
    "\n",
    "Establish connection to the Hopsworks Feature Store using credentials from environment variables."
   ]
  },
  {
   "cell_type": "code",
   "execution_count": 2,
   "metadata": {},
   "outputs": [
    {
     "name": "stdout",
     "output_type": "stream",
     "text": [
      "2025-05-22 23:40:52,868 INFO: Initializing external client\n",
      "2025-05-22 23:40:52,870 INFO: Base URL: https://c.app.hopsworks.ai:443\n",
      "2025-05-22 23:40:54,573 INFO: Python Engine initialized.\n",
      "\n",
      "Logged in to project, explore it here https://c.app.hopsworks.ai:443/p/398\n"
     ]
    }
   ],
   "source": [
    "project = hopsworks.login()\n",
    "fs = project.get_feature_store()"
   ]
  },
  {
   "cell_type": "markdown",
   "metadata": {},
   "source": [
    "## Load Source Data\n",
    "\n",
    "Load the demand data from CSV file and prepare it for the feature store."
   ]
  },
  {
   "cell_type": "code",
   "execution_count": 3,
   "metadata": {},
   "outputs": [
    {
     "name": "stdout",
     "output_type": "stream",
     "text": [
      "Loading source data\n"
     ]
    },
    {
     "data": {
      "text/html": [
       "<div>\n",
       "<style scoped>\n",
       "    .dataframe tbody tr th:only-of-type {\n",
       "        vertical-align: middle;\n",
       "    }\n",
       "\n",
       "    .dataframe tbody tr th {\n",
       "        vertical-align: top;\n",
       "    }\n",
       "\n",
       "    .dataframe thead th {\n",
       "        text-align: right;\n",
       "    }\n",
       "</style>\n",
       "<table border=\"1\" class=\"dataframe\">\n",
       "  <thead>\n",
       "    <tr style=\"text-align: right;\">\n",
       "      <th></th>\n",
       "      <th>sp_id</th>\n",
       "      <th>loc_id</th>\n",
       "      <th>time_bucket</th>\n",
       "      <th>repetitive_demand_quantity</th>\n",
       "    </tr>\n",
       "  </thead>\n",
       "  <tbody>\n",
       "    <tr>\n",
       "      <th>0</th>\n",
       "      <td>9684698</td>\n",
       "      <td>3</td>\n",
       "      <td>202104</td>\n",
       "      <td>55.0</td>\n",
       "    </tr>\n",
       "    <tr>\n",
       "      <th>1</th>\n",
       "      <td>9684698</td>\n",
       "      <td>3</td>\n",
       "      <td>202105</td>\n",
       "      <td>117.0</td>\n",
       "    </tr>\n",
       "    <tr>\n",
       "      <th>2</th>\n",
       "      <td>9684698</td>\n",
       "      <td>3</td>\n",
       "      <td>202106</td>\n",
       "      <td>62.0</td>\n",
       "    </tr>\n",
       "    <tr>\n",
       "      <th>3</th>\n",
       "      <td>9684698</td>\n",
       "      <td>3</td>\n",
       "      <td>202107</td>\n",
       "      <td>45.0</td>\n",
       "    </tr>\n",
       "    <tr>\n",
       "      <th>4</th>\n",
       "      <td>9684698</td>\n",
       "      <td>3</td>\n",
       "      <td>202108</td>\n",
       "      <td>77.0</td>\n",
       "    </tr>\n",
       "  </tbody>\n",
       "</table>\n",
       "</div>"
      ],
      "text/plain": [
       "     sp_id  loc_id  time_bucket  repetitive_demand_quantity\n",
       "0  9684698       3       202104                        55.0\n",
       "1  9684698       3       202105                       117.0\n",
       "2  9684698       3       202106                        62.0\n",
       "3  9684698       3       202107                        45.0\n",
       "4  9684698       3       202108                        77.0"
      ]
     },
     "metadata": {},
     "output_type": "display_data"
    }
   ],
   "source": [
    "print(\"Loading source data\")\n",
    "demand_df = pd.read_csv('../data/demand_qty_item_loc.csv')\n",
    "\n",
    "# Display first few rows to inspect the data\n",
    "display(demand_df.head())"
   ]
  },
  {
   "cell_type": "code",
   "execution_count": null,
   "metadata": {},
   "outputs": [
    {
     "data": {
      "text/html": [
       "<div>\n",
       "<style scoped>\n",
       "    .dataframe tbody tr th:only-of-type {\n",
       "        vertical-align: middle;\n",
       "    }\n",
       "\n",
       "    .dataframe tbody tr th {\n",
       "        vertical-align: top;\n",
       "    }\n",
       "\n",
       "    .dataframe thead th {\n",
       "        text-align: right;\n",
       "    }\n",
       "</style>\n",
       "<table border=\"1\" class=\"dataframe\">\n",
       "  <thead>\n",
       "    <tr style=\"text-align: right;\">\n",
       "      <th></th>\n",
       "      <th>sp_id</th>\n",
       "      <th>loc_id</th>\n",
       "      <th>time_bucket</th>\n",
       "      <th>repetitive_demand_quantity</th>\n",
       "      <th>datetime</th>\n",
       "      <th>lagged_1day_demand_quantity</th>\n",
       "      <th>lagged_2day_demand_quantity</th>\n",
       "    </tr>\n",
       "  </thead>\n",
       "  <tbody>\n",
       "    <tr>\n",
       "      <th>1824</th>\n",
       "      <td>9052071</td>\n",
       "      <td>3</td>\n",
       "      <td>202104</td>\n",
       "      <td>37.0</td>\n",
       "      <td>2025-05-22 23:41:01.569913</td>\n",
       "      <td>516.0</td>\n",
       "      <td>55.0</td>\n",
       "    </tr>\n",
       "    <tr>\n",
       "      <th>1776</th>\n",
       "      <td>10087345</td>\n",
       "      <td>3</td>\n",
       "      <td>202104</td>\n",
       "      <td>56.0</td>\n",
       "      <td>2025-05-22 23:41:01.569913</td>\n",
       "      <td>37.0</td>\n",
       "      <td>516.0</td>\n",
       "    </tr>\n",
       "    <tr>\n",
       "      <th>7104</th>\n",
       "      <td>8830337</td>\n",
       "      <td>3</td>\n",
       "      <td>202104</td>\n",
       "      <td>19.0</td>\n",
       "      <td>2025-05-22 23:41:01.569913</td>\n",
       "      <td>56.0</td>\n",
       "      <td>37.0</td>\n",
       "    </tr>\n",
       "    <tr>\n",
       "      <th>1728</th>\n",
       "      <td>8302117</td>\n",
       "      <td>3</td>\n",
       "      <td>202104</td>\n",
       "      <td>184.0</td>\n",
       "      <td>2025-05-22 23:41:01.569913</td>\n",
       "      <td>19.0</td>\n",
       "      <td>56.0</td>\n",
       "    </tr>\n",
       "    <tr>\n",
       "      <th>7152</th>\n",
       "      <td>8033728</td>\n",
       "      <td>3</td>\n",
       "      <td>202104</td>\n",
       "      <td>845.0</td>\n",
       "      <td>2025-05-22 23:41:01.569913</td>\n",
       "      <td>184.0</td>\n",
       "      <td>19.0</td>\n",
       "    </tr>\n",
       "  </tbody>\n",
       "</table>\n",
       "</div>"
      ],
      "text/plain": [
       "         sp_id  loc_id  time_bucket  repetitive_demand_quantity  \\\n",
       "1824   9052071       3       202104                        37.0   \n",
       "1776  10087345       3       202104                        56.0   \n",
       "7104   8830337       3       202104                        19.0   \n",
       "1728   8302117       3       202104                       184.0   \n",
       "7152   8033728       3       202104                       845.0   \n",
       "\n",
       "                       datetime  lagged_1day_demand_quantity  \\\n",
       "1824 2025-05-22 23:41:01.569913                        516.0   \n",
       "1776 2025-05-22 23:41:01.569913                         37.0   \n",
       "7104 2025-05-22 23:41:01.569913                         56.0   \n",
       "1728 2025-05-22 23:41:01.569913                         19.0   \n",
       "7152 2025-05-22 23:41:01.569913                        184.0   \n",
       "\n",
       "      lagged_2day_demand_quantity  \n",
       "1824                         55.0  \n",
       "1776                        516.0  \n",
       "7104                         37.0  \n",
       "1728                         56.0  \n",
       "7152                         19.0  "
      ]
     },
     "metadata": {},
     "output_type": "display_data"
    }
   ],
   "source": [
    "\n",
    "# Add datetime column for feature store\n",
    "# demand_df['datetime'] = datetime.now()\n",
    "\n",
    "demand_df = demand_df.sort_values(by='time_bucket')\n",
    "\n",
    "# Create lagged features\n",
    "demand_df['lagged_1day_demand_quantity'] = demand_df['repetitive_demand_quantity'].shift(1)\n",
    "demand_df['lagged_2day_demand_quantity'] = demand_df['repetitive_demand_quantity'].shift(2)\n",
    "\n",
    "# Remove rows with NaN values\n",
    "demand_df = demand_df.dropna()\n",
    "\n",
    "# Display the transformed dataframe\n",
    "display(demand_df.head())"
   ]
  },
  {
   "cell_type": "markdown",
   "metadata": {},
   "source": [
    "## Create Feature Group and Upload Data\n",
    "\n",
    "Define the feature group schema and upload the prepared data to the feature store."
   ]
  },
  {
   "cell_type": "code",
   "execution_count": 5,
   "metadata": {},
   "outputs": [
    {
     "name": "stdout",
     "output_type": "stream",
     "text": [
      "⬆ Creating/getting feature group\n"
     ]
    }
   ],
   "source": [
    "print(\"⬆ Creating/getting feature group\")\n",
    "# Define the feature group\n",
    "# Configure parameters (these can be modified as needed)\n",
    "feature_group_name = 'demand_features'\n",
    "version = 1\n",
    "demand_fg = fs.get_or_create_feature_group(\n",
    "    name=feature_group_name,\n",
    "    version=version,\n",
    "    description=\"Item demand by location and time\",\n",
    "    primary_key=['sp_id', 'loc_id', 'time_bucket'],\n",
    "    event_time='time_bucket',\n",
    ")"
   ]
  },
  {
   "cell_type": "code",
   "execution_count": 6,
   "metadata": {},
   "outputs": [
    {
     "name": "stdout",
     "output_type": "stream",
     "text": [
      "⬆ Uploading data to the Feature Store\n",
      "Feature Group created successfully, explore it at \n",
      "https://c.app.hopsworks.ai:443/p/398/fs/335/fg/1480010\n"
     ]
    },
    {
     "name": "stderr",
     "output_type": "stream",
     "text": [
      "Uploading Dataframe: 100.00% |██████████| Rows 9598/9598 | Elapsed Time: 00:01 | Remaining Time: 00:00\n"
     ]
    },
    {
     "name": "stdout",
     "output_type": "stream",
     "text": [
      "Launching job: demand_features_1_offline_fg_materialization\n",
      "Job started successfully, you can follow the progress at \n",
      "https://c.app.hopsworks.ai:443/p/398/jobs/named/demand_features_1_offline_fg_materialization/executions\n",
      "2025-05-22 23:41:53,970 INFO: Waiting for execution to finish. Current state: SUBMITTED. Final status: UNDEFINED\n",
      "2025-05-22 23:42:00,345 INFO: Waiting for execution to finish. Current state: RUNNING. Final status: UNDEFINED\n",
      "2025-05-22 23:44:23,412 INFO: Waiting for execution to finish. Current state: AGGREGATING_LOGS. Final status: SUCCEEDED\n",
      "2025-05-22 23:44:23,570 INFO: Waiting for log aggregation to finish.\n",
      "2025-05-22 23:44:42,230 INFO: Execution finished successfully.\n",
      "Feature pipeline completed successfully\n"
     ]
    }
   ],
   "source": [
    "print(\"⬆ Uploading data to the Feature Store\")\n",
    "# Upload data to the feature store\n",
    "demand_fg.insert(demand_df)\n",
    "print(\"Feature pipeline completed successfully\")"
   ]
  },
  {
   "cell_type": "code",
   "execution_count": null,
   "metadata": {},
   "outputs": [],
   "source": []
  }
 ],
 "metadata": {
  "kernelspec": {
   "display_name": "1000models",
   "language": "python",
   "name": "python3"
  },
  "language_info": {
   "codemirror_mode": {
    "name": "ipython",
    "version": 3
   },
   "file_extension": ".py",
   "mimetype": "text/x-python",
   "name": "python",
   "nbconvert_exporter": "python",
   "pygments_lexer": "ipython3",
   "version": "3.11.0"
  }
 },
 "nbformat": 4,
 "nbformat_minor": 4
}
